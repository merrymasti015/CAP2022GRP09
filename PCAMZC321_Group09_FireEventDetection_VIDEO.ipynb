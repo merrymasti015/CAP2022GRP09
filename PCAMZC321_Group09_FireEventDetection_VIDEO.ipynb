{
  "nbformat": 4,
  "nbformat_minor": 0,
  "metadata": {
    "colab": {
      "name": "PCAMZC321_Group09_FireEventDetection_VIDEO.ipynb",
      "provenance": [],
      "collapsed_sections": [],
      "authorship_tag": "ABX9TyPQxDur6JpZ5La9LHB3RVm+",
      "include_colab_link": true
    },
    "kernelspec": {
      "name": "python3",
      "display_name": "Python 3"
    },
    "language_info": {
      "name": "python"
    },
    "accelerator": "GPU",
    "widgets": {
      "application/vnd.jupyter.widget-state+json": {
        "7ff90efd4fe64deeb4c38791630f89d7": {
          "model_module": "@jupyter-widgets/controls",
          "model_name": "VideoModel",
          "model_module_version": "1.5.0",
          "state": {
            "_view_name": "VideoView",
            "_dom_classes": [],
            "_model_name": "VideoModel",
            "format": "mp4",
            "_view_module": "@jupyter-widgets/controls",
            "_model_module_version": "1.5.0",
            "controls": true,
            "_view_count": null,
            "width": "320",
            "_view_module_version": "1.5.0",
            "layout": "IPY_MODEL_410224fbd83646bcac9775039f0fd8f5",
            "height": "320",
            "_model_module": "@jupyter-widgets/controls",
            "loop": true,
            "autoplay": true
          }
        },
        "410224fbd83646bcac9775039f0fd8f5": {
          "model_module": "@jupyter-widgets/base",
          "model_name": "LayoutModel",
          "model_module_version": "1.2.0",
          "state": {
            "_view_name": "LayoutView",
            "grid_template_rows": null,
            "right": null,
            "justify_content": null,
            "_view_module": "@jupyter-widgets/base",
            "overflow": null,
            "_model_module_version": "1.2.0",
            "_view_count": null,
            "flex_flow": null,
            "width": null,
            "min_width": null,
            "border": null,
            "align_items": null,
            "bottom": null,
            "_model_module": "@jupyter-widgets/base",
            "top": null,
            "grid_column": null,
            "overflow_y": null,
            "overflow_x": null,
            "grid_auto_flow": null,
            "grid_area": null,
            "grid_template_columns": null,
            "flex": null,
            "_model_name": "LayoutModel",
            "justify_items": null,
            "grid_row": null,
            "max_height": null,
            "align_content": null,
            "visibility": null,
            "align_self": null,
            "height": null,
            "min_height": null,
            "padding": null,
            "grid_auto_rows": null,
            "grid_gap": null,
            "max_width": null,
            "order": null,
            "_view_module_version": "1.2.0",
            "grid_template_areas": null,
            "object_position": null,
            "object_fit": null,
            "grid_auto_columns": null,
            "margin": null,
            "display": null,
            "left": null
          }
        }
      }
    }
  },
  "cells": [
    {
      "cell_type": "markdown",
      "metadata": {
        "id": "view-in-github",
        "colab_type": "text"
      },
      "source": [
        "<a href=\"https://colab.research.google.com/github/merrymasti015/CAP2022GRP09/blob/main/PCAMZC321_Group09_FireEventDetection_VIDEO.ipynb\" target=\"_parent\"><img src=\"https://colab.research.google.com/assets/colab-badge.svg\" alt=\"Open In Colab\"/></a>"
      ]
    },
    {
      "cell_type": "markdown",
      "source": [
        "#Video File detection - addendum to PCAMZC321_Group09_FireEventDetection"
      ],
      "metadata": {
        "id": "dwc-vDu57xF7"
      }
    },
    {
      "cell_type": "code",
      "execution_count": 1,
      "metadata": {
        "id": "EpU8Z7PJ43p4"
      },
      "outputs": [],
      "source": [
        "import keras\n",
        "from keras.models import Sequential\n",
        "from keras.applications.vgg16 import VGG16\n",
        "from keras.layers import Dense, InputLayer, Dropout, Flatten\n",
        "from keras.layers import Conv2D, MaxPooling2D, GlobalMaxPooling2D\n",
        "from keras.preprocessing import image\n",
        "import numpy as np\n",
        "import pandas as pd\n",
        "import matplotlib.pyplot as plt\n",
        "from tqdm import tqdm\n",
        "from sklearn.model_selection import train_test_split\n",
        "import pickle\n",
        "\n",
        "from pathlib import Path\n",
        "import cv2\n",
        "import math\n",
        "import os\n",
        "from glob import glob\n",
        "from scipy import stats as s\n"
      ]
    },
    {
      "cell_type": "code",
      "source": [
        "from google.colab import drive\n",
        "from IPython import display\n",
        "drive.mount('/content/gdrive', force_remount=True)"
      ],
      "metadata": {
        "colab": {
          "base_uri": "https://localhost:8080/"
        },
        "id": "fpLrbcZH799e",
        "outputId": "43c5a4bc-b056-4a14-9036-03505073f2a7"
      },
      "execution_count": 2,
      "outputs": [
        {
          "output_type": "stream",
          "name": "stdout",
          "text": [
            "Mounted at /content/gdrive\n"
          ]
        }
      ]
    },
    {
      "cell_type": "code",
      "source": [
        "RootFolder = \"/content/gdrive/MyDrive/Fire_ImageDataSet/\"\n",
        "print(RootFolder)\n",
        "output_directory = RootFolder+\"/VDO_fire\"  # where is my VDO file ?\n",
        "ModelSaveFolder = RootFolder+\"/ModelSave\" # where is my model"
      ],
      "metadata": {
        "colab": {
          "base_uri": "https://localhost:8080/"
        },
        "id": "C1WHUFdg8LMn",
        "outputId": "cd819d09-c00b-47a0-9bdd-f9948d990e2b"
      },
      "execution_count": 3,
      "outputs": [
        {
          "output_type": "stream",
          "name": "stdout",
          "text": [
            "/content/gdrive/MyDrive/Fire_ImageDataSet/\n"
          ]
        }
      ]
    },
    {
      "cell_type": "code",
      "source": [
        "video_title = \"VDO-1\"\n",
        "input_video_file_path = f'{output_directory}/{video_title}.mp4'\n",
        "input_video_file_path"
      ],
      "metadata": {
        "colab": {
          "base_uri": "https://localhost:8080/",
          "height": 35
        },
        "id": "CQ8HqBVc9ONh",
        "outputId": "d7d0706e-218f-4a98-9623-522951578351"
      },
      "execution_count": 4,
      "outputs": [
        {
          "output_type": "execute_result",
          "data": {
            "application/vnd.google.colaboratory.intrinsic+json": {
              "type": "string"
            },
            "text/plain": [
              "'/content/gdrive/MyDrive/Fire_ImageDataSet//VDO_fire/VDO-1.mp4'"
            ]
          },
          "metadata": {},
          "execution_count": 4
        }
      ]
    },
    {
      "cell_type": "code",
      "source": [
        "## VGG-16 pre-trained model will be used for basemodel\n",
        "# creating the base model of pre-trained VGG16 model\n",
        "base_model = VGG16(weights='imagenet', include_top=False)"
      ],
      "metadata": {
        "id": "ZYgaqIcv93b8"
      },
      "execution_count": 5,
      "outputs": []
    },
    {
      "cell_type": "code",
      "source": [
        "#Video.from_file(input_video_file_path)\n",
        "from ipywidgets import Video # Display VDO \n",
        "Video.from_file(input_video_file_path , width = 320 , height = 320)"
      ],
      "metadata": {
        "colab": {
          "base_uri": "https://localhost:8080/",
          "height": 205,
          "referenced_widgets": [
            "7ff90efd4fe64deeb4c38791630f89d7",
            "410224fbd83646bcac9775039f0fd8f5"
          ]
        },
        "id": "YuHsamLD-B6g",
        "outputId": "eb584033-38c7-49da-d97c-bcd8858af576"
      },
      "execution_count": 6,
      "outputs": [
        {
          "output_type": "display_data",
          "data": {
            "application/vnd.jupyter.widget-view+json": {
              "model_id": "7ff90efd4fe64deeb4c38791630f89d7",
              "version_minor": 0,
              "version_major": 2
            },
            "text/plain": [
              "Video(value=b'\\x00\\x00\\x00 ftypisom\\x00\\x00\\x02\\x00isomiso2avc1mp41\\x00\\x00\\x00\\x08free\\x00\\xe3\\xaa_mdat\\x00\\x…"
            ]
          },
          "metadata": {}
        }
      ]
    },
    {
      "cell_type": "code",
      "source": [
        "from ipywidgets import Widget\n",
        "Widget.close_all()"
      ],
      "metadata": {
        "id": "NLaGyLxc_Nre"
      },
      "execution_count": 7,
      "outputs": []
    },
    {
      "cell_type": "code",
      "source": [
        "FramesVdo  = output_directory+\"/VDOFrames\"\n",
        "if not os.path.exists(FramesVdo):\n",
        "   os.makedirs(FramesVdo) \n",
        "FramesVdo"
      ],
      "metadata": {
        "colab": {
          "base_uri": "https://localhost:8080/",
          "height": 35
        },
        "id": "SdO_ghy6_Ppf",
        "outputId": "9be5cdfa-6229-4744-a104-b7a0d4506e9d"
      },
      "execution_count": 8,
      "outputs": [
        {
          "output_type": "execute_result",
          "data": {
            "application/vnd.google.colaboratory.intrinsic+json": {
              "type": "string"
            },
            "text/plain": [
              "'/content/gdrive/MyDrive/Fire_ImageDataSet//VDO_fire/VDOFrames'"
            ]
          },
          "metadata": {},
          "execution_count": 8
        }
      ]
    },
    {
      "cell_type": "code",
      "source": [
        "# Reading the Video File using the VideoCapture Object\n",
        "video_reader = cv2.VideoCapture(input_video_file_path)\n",
        "# Set frames-per-second for capture\n",
        "fps = round(video_reader.get(cv2.CAP_PROP_FPS))\n",
        "## Total frame count in the VDO \n",
        "frame_count = int(video_reader.get(cv2.CAP_PROP_FRAME_COUNT)) -1 \n",
        "\n",
        "\n",
        "duration = round(frame_count/fps)\n",
        "\n",
        "print('fps = ' + str(fps))\n",
        "print('number of frames = ' + str(frame_count))\n",
        "print('duration (S) = ' + str(duration))\n",
        "\n",
        "minutes = int(duration/60)\n",
        "seconds = duration%60\n",
        "print('duration (M:S) = ' + str(minutes) + ':' + str(seconds))  ## In Minute and seconds\n",
        "\n",
        "video_reader.release()"
      ],
      "metadata": {
        "colab": {
          "base_uri": "https://localhost:8080/"
        },
        "id": "MFQlZFqb_oZ2",
        "outputId": "65fc2a72-4e57-41a3-9390-f8c2a2e8cd9a"
      },
      "execution_count": 9,
      "outputs": [
        {
          "output_type": "stream",
          "name": "stdout",
          "text": [
            "fps = 25\n",
            "number of frames = 1876\n",
            "duration (S) = 75\n",
            "duration (M:S) = 1:15\n"
          ]
        }
      ]
    },
    {
      "cell_type": "code",
      "source": [
        "    %%time\n",
        "    flag =''\n",
        "    image_height  = 224\n",
        "    image_width   = 224\n",
        "    \n",
        "    EXTENSION = \".jpg\"\n",
        "    curr_frame = 0\n",
        "    imageKount = 0\n",
        "    prediction_images = []\n",
        "    \n",
        "    ## Check if VDOFrames is empty or Not --- If empty then frames will be stored else NOT\n",
        "    ## OR we can delete all files in VDOFrames folder unconditionally \n",
        "    \n",
        "    if not os.listdir(FramesVdo):\n",
        "        print (\"empty VDOFrames folder\")\n",
        "        flag = \"empty\"\n",
        "    else:\n",
        "        print (\"Not empty\")\n",
        "    \n",
        "\n",
        "    # Reading the Video File using the VideoCapture Object\n",
        "    video_reader = cv2.VideoCapture(input_video_file_path)\n",
        "\n",
        "    # Getting the width and height of the video \n",
        "    original_video_width = int(video_reader.get(cv2.CAP_PROP_FRAME_WIDTH))\n",
        "    original_video_height = int(video_reader.get(cv2.CAP_PROP_FRAME_HEIGHT))\n",
        "\n",
        "\n",
        "\n",
        "    prediction_images = []\n",
        "    while True: \n",
        "\n",
        "        # Reading The Frame\n",
        "        status, frame = video_reader.read() \n",
        "\n",
        "        if not status:\n",
        "            break\n",
        "\n",
        "        \n",
        "        # Resize the Frame to fixed Dimensions\n",
        "        resized_frame = cv2.resize(frame, (image_height, image_width))\n",
        "        \n",
        "        if flag == 'empty':\n",
        "           \n",
        "           temp = Path(input_video_file_path).stem # Find file name without extension\n",
        "           filename =\"/\"+ temp+\"_frame%d.jpg\" % curr_frame\n",
        "           Outimage = os.path.join(FramesVdo+filename)\n",
        "           cv2.imwrite(Outimage, resized_frame)   # save frame as JPEG file\n",
        " \n",
        "        \n",
        "        \n",
        "        \n",
        "        \n",
        "        \n",
        "        resized_frame = image.img_to_array(resized_frame)\n",
        "        # Normalize the resized frame by dividing it with 255 so that each pixel value then lies between 0 and 1\n",
        "        normalized_frame = resized_frame / 255\n",
        "\n",
        "        \n",
        "        \n",
        "        # converting the list to numpy array\n",
        "        # appending the image to the image list\n",
        "        prediction_images.append(normalized_frame)\n",
        "        imageKount +=1\n",
        "        curr_frame +=1\n",
        "    ### End of while loop\n",
        "    \n",
        "    \n",
        "    # converting the list to numpy array\n",
        "    prediction_images = np.array(prediction_images)\n",
        "    \n",
        "    # shape of the array\n",
        "    prediction_images.shape\n",
        "    # extracting features for validation frames\n",
        "    prediction_images = base_model.predict(prediction_images)\n",
        "    print('Shape of prediction_images = ' ,prediction_images.shape)\n",
        "    print('Total frame extracted      = ' , curr_frame)\n",
        "    print('Total frame in the vdo     = ' ,imageKount)   \n"
      ],
      "metadata": {
        "colab": {
          "base_uri": "https://localhost:8080/"
        },
        "id": "ugz-QMI5_ryO",
        "outputId": "3fccc7db-8a28-44bd-9277-41bcb2644441"
      },
      "execution_count": 10,
      "outputs": [
        {
          "output_type": "stream",
          "name": "stdout",
          "text": [
            "empty VDOFrames folder\n",
            "Shape of prediction_images =  (1874, 7, 7, 512)\n",
            "Total frame extracted      =  1874\n",
            "Total frame in the vdo     =  1874\n",
            "CPU times: user 32.5 s, sys: 2.91 s, total: 35.4 s\n",
            "Wall time: 36.2 s\n"
          ]
        }
      ]
    },
    {
      "cell_type": "code",
      "source": [
        "# converting features in one dimensional array\n",
        "prediction_images = prediction_images.reshape(prediction_images.shape[0], 7*7*512)"
      ],
      "metadata": {
        "id": "cIHKyNx1Dqm9"
      },
      "execution_count": 11,
      "outputs": []
    },
    {
      "cell_type": "code",
      "source": [
        "# Normalize the array \n",
        "max = prediction_images.max()\n",
        "prediction_images = prediction_images/max\n",
        "prediction_images.shape"
      ],
      "metadata": {
        "colab": {
          "base_uri": "https://localhost:8080/"
        },
        "id": "yTvXIS5tDtqT",
        "outputId": "df8631a7-f4e4-47b7-9818-d213cfbb882c"
      },
      "execution_count": 12,
      "outputs": [
        {
          "output_type": "execute_result",
          "data": {
            "text/plain": [
              "(1874, 25088)"
            ]
          },
          "metadata": {},
          "execution_count": 12
        }
      ]
    },
    {
      "cell_type": "code",
      "source": [
        "#Load Model\n",
        "from tensorflow import keras\n",
        "\n",
        "model_name = 'Step-1_VGG_model.h5'\n",
        "\n",
        "model = keras.models.load_model(ModelSaveFolder+'/'+model_name)"
      ],
      "metadata": {
        "id": "Z9Az_3HFD4th"
      },
      "execution_count": 14,
      "outputs": []
    },
    {
      "cell_type": "code",
      "source": [
        "predict = []        \n",
        "# predict_classes() function model in order to predict the class values for each instance in the array.\n",
        "prediction = np.argmax(model.predict(prediction_images), axis=-1)\n",
        "# prediction is an arrary containing frame by frame class prediction - here either Basketball', 'SoccerPenalty'\n",
        "\n",
        "print(prediction)"
      ],
      "metadata": {
        "colab": {
          "base_uri": "https://localhost:8080/"
        },
        "id": "SDF4nqT_D5vD",
        "outputId": "7d4c936b-8c91-4a64-eb76-96cd22c51e06"
      },
      "execution_count": 18,
      "outputs": [
        {
          "output_type": "stream",
          "name": "stdout",
          "text": [
            "[1 1 1 ... 0 0 0]\n"
          ]
        }
      ]
    },
    {
      "cell_type": "markdown",
      "source": [
        "#### Pickle is the standard way of serializing objects in Python.\n",
        "\n",
        "#### Use the pickle operation to serialize  machine learning algorithms and save the serialized format to a file.\n",
        "\n",
        "#### Later we can load this file to deserialize your model and use it to make new predictions.\n",
        "\n",
        "#### Serialization is the process of converting an object into a stream of bytes to store the object or transmit it to memory, or a file."
      ],
      "metadata": {
        "id": "_TILxghvEiCK"
      }
    },
    {
      "cell_type": "code",
      "source": [
        "import pickle\n",
        "\n",
        "with open('Step-2_FireDetection_VGG16_Feature', 'wb') as fp:\n",
        "    pickle.dump(prediction, fp)"
      ],
      "metadata": {
        "id": "jY5sjrsFEZTu"
      },
      "execution_count": 19,
      "outputs": []
    },
    {
      "cell_type": "code",
      "source": [
        "#To read it back:\n",
        "with open ('Step-2_FireDetection_VGG16_Feature', 'rb') as fp:\n",
        "    prediction = pickle.load(fp)"
      ],
      "metadata": {
        "id": "v6RKqcmSErAU"
      },
      "execution_count": 20,
      "outputs": []
    },
    {
      "cell_type": "code",
      "source": [
        "prediction"
      ],
      "metadata": {
        "colab": {
          "base_uri": "https://localhost:8080/"
        },
        "id": "zf-0IrIeEtIB",
        "outputId": "3efea24f-26c5-4f74-983b-c77be012465a"
      },
      "execution_count": 21,
      "outputs": [
        {
          "output_type": "execute_result",
          "data": {
            "text/plain": [
              "array([1, 1, 1, ..., 0, 0, 0])"
            ]
          },
          "metadata": {},
          "execution_count": 21
        }
      ]
    },
    {
      "cell_type": "markdown",
      "source": [
        "### Function To Predict on Live Videos "
      ],
      "metadata": {
        "id": "mmPDaSyTEyVb"
      }
    },
    {
      "cell_type": "code",
      "source": [
        "input_video_file_path"
      ],
      "metadata": {
        "colab": {
          "base_uri": "https://localhost:8080/",
          "height": 35
        },
        "id": "j5m1FgjJEvAr",
        "outputId": "316c5e5e-10ce-4cb4-d6a2-cbc6a46f1e62"
      },
      "execution_count": 22,
      "outputs": [
        {
          "output_type": "execute_result",
          "data": {
            "application/vnd.google.colaboratory.intrinsic+json": {
              "type": "string"
            },
            "text/plain": [
              "'/content/gdrive/MyDrive/Fire_ImageDataSet//VDO_fire/VDO-1.mp4'"
            ]
          },
          "metadata": {},
          "execution_count": 22
        }
      ]
    },
    {
      "cell_type": "code",
      "source": [
        "# Constructing The OutputVideo Path\n",
        "output_video_file_path = f'{output_directory}/{video_title}_VGG16_FeatureOutput.mp4'\n",
        "\n",
        "print(output_video_file_path)"
      ],
      "metadata": {
        "colab": {
          "base_uri": "https://localhost:8080/"
        },
        "id": "r0BQ59WBE4kj",
        "outputId": "e1580f0a-2ec3-442f-ce99-9bbc101ac8d6"
      },
      "execution_count": 23,
      "outputs": [
        {
          "output_type": "stream",
          "name": "stdout",
          "text": [
            "/content/gdrive/MyDrive/Fire_ImageDataSet//VDO_fire/VDO-1_VGG16_FeatureOutput.mp4\n"
          ]
        }
      ]
    },
    {
      "cell_type": "code",
      "source": [
        "trainFrames  = pd.read_csv(RootFolder+\"/OutputFiles/Train_FramePathLocation.csv\")\n",
        "\n",
        "trainFrames.head()\n",
        "# Get the unique values of 'class' column - How many distinct classes\n",
        "model_class = trainFrames['class'].unique().tolist()\n",
        "print(model_class)\n",
        "model_output_size = len(model_class)\n",
        "print(model_output_size)\n"
      ],
      "metadata": {
        "colab": {
          "base_uri": "https://localhost:8080/"
        },
        "id": "W7C4rJ8dE6uQ",
        "outputId": "7153461e-43d3-44c6-d862-456abc79a551"
      },
      "execution_count": 27,
      "outputs": [
        {
          "output_type": "stream",
          "name": "stdout",
          "text": [
            "['Neutral', 'Fire']\n",
            "2\n"
          ]
        }
      ]
    },
    {
      "cell_type": "code",
      "source": [
        "prediction[2]"
      ],
      "metadata": {
        "colab": {
          "base_uri": "https://localhost:8080/"
        },
        "id": "hSj9rmiSFeJc",
        "outputId": "2aa341a9-e880-4f7e-9682-6ff7d03a6bb2"
      },
      "execution_count": 28,
      "outputs": [
        {
          "output_type": "execute_result",
          "data": {
            "text/plain": [
              "1"
            ]
          },
          "metadata": {},
          "execution_count": 28
        }
      ]
    },
    {
      "cell_type": "code",
      "source": [
        "x = len(prediction)\n",
        "print(x)\n",
        "# Accessing The Class Name using predicted label.\n",
        "predicted_class_name = model_class[prediction[2]]\n",
        "predicted_class_name"
      ],
      "metadata": {
        "colab": {
          "base_uri": "https://localhost:8080/",
          "height": 53
        },
        "id": "aOwhWOe2FZQd",
        "outputId": "880263ac-93cb-42da-df20-b7ff27b031c9"
      },
      "execution_count": 29,
      "outputs": [
        {
          "output_type": "stream",
          "name": "stdout",
          "text": [
            "1874\n"
          ]
        },
        {
          "output_type": "execute_result",
          "data": {
            "application/vnd.google.colaboratory.intrinsic+json": {
              "type": "string"
            },
            "text/plain": [
              "'Fire'"
            ]
          },
          "metadata": {},
          "execution_count": 29
        }
      ]
    },
    {
      "cell_type": "code",
      "source": [
        "print('Input path:'+input_video_file_path)\n",
        "print('Output path:'+output_video_file_path)"
      ],
      "metadata": {
        "colab": {
          "base_uri": "https://localhost:8080/"
        },
        "id": "5zVvk8rAFsys",
        "outputId": "9e898205-64a2-4277-fd48-17ff74775a38"
      },
      "execution_count": 31,
      "outputs": [
        {
          "output_type": "stream",
          "name": "stdout",
          "text": [
            "Input path:/content/gdrive/MyDrive/Fire_ImageDataSet//VDO_fire/VDO-1.mp4\n",
            "Output path:/content/gdrive/MyDrive/Fire_ImageDataSet//VDO_fire/VDO-1_VGG16_FeatureOutput.mp4\n"
          ]
        }
      ]
    },
    {
      "cell_type": "code",
      "source": [
        "def predict_on_live_video(video_file_path, output_file_path,Algo):\n",
        "\n",
        "    # Initialize a Deque Object with a fixed size which will be used to implement moving/rolling average functionality.\n",
        "    #predicted_labels_probabilities_deque = deque(maxlen = window_size)\n",
        "    \n",
        "    frame_no = -1\n",
        "\n",
        "    # Reading the Video File using the VideoCapture Object\n",
        "    video_reader = cv2.VideoCapture(video_file_path)\n",
        "\n",
        "    # Getting the width and height of the video \n",
        "    original_video_width = int(video_reader.get(cv2.CAP_PROP_FRAME_WIDTH))\n",
        "    original_video_height = int(video_reader.get(cv2.CAP_PROP_FRAME_HEIGHT))\n",
        "\n",
        "    # Writing the Overlayed Video Files Using the VideoWriter Object\n",
        "    video_writer = cv2.VideoWriter(output_file_path, cv2.VideoWriter_fourcc('M', 'P', '4', 'V'), 24, (original_video_width, original_video_height))\n",
        "\n",
        "    while True: \n",
        "\n",
        "        # Reading The Frame\n",
        "        status, frame = video_reader.read() \n",
        "\n",
        "        if not status:\n",
        "            break\n",
        "\n",
        "        frame_no = frame_no+1\n",
        "        \n",
        "        # some frames with black - skip those\n",
        "        ## images in openCV (or in your case frames) are represented as a numpy array, \n",
        "        ## they can be averaged for low values (which represent black frames).\n",
        "        \n",
        "        gray = cv2.cvtColor(frame, cv2.COLOR_BGR2GRAY)  ## Convert to grey image (black and white)\n",
        "        if np.average(gray) < 20:  ## if it dark screen , skip \n",
        "        # skips an iteration, so the frame isn't saved\n",
        "          continue\n",
        "        \n",
        "\n",
        "           \n",
        "        # Accessing The Class Name using prediction list.\n",
        "        predicted_class_name = model_class[prediction[frame_no]]\n",
        "        #print(predicted_class_name)\n",
        "        \n",
        "        \n",
        "        # Overlaying Class Name Text Ontop of the Frame\n",
        "        \n",
        "        cv2.putText(frame, predicted_class_name+'_(' + Algo + ')', (00, 200), cv2.FONT_HERSHEY_DUPLEX, 3.0, (0, 0, 255), 3)\n",
        "\n",
        "        #cv2.putText(frame, predicted_class_name, (10, 30), cv2.FONT_HERSHEY_SIMPLEX, 1, (0, 0, 255), 2)\n",
        "        #cv2.putText(frame, avg_prob, (50, 50), cv2.FONT_HERSHEY_SIMPLEX, 1, (0, 255, 255), 2)\n",
        "        \n",
        "        #cv2.putText(frame, \n",
        "                    #avg_prob, \n",
        "                    #(10, 100),   # bottomLeftCornerOfText\n",
        "                    #cv2.FONT_HERSHEY_SIMPLEX, \n",
        "                    #1, \n",
        "                    #(0, 0, 255), \n",
        "                    #2)\n",
        "                       \n",
        "        # Writing The Frame\n",
        "        video_writer.write(frame)\n",
        "    \n",
        "    # Closing the VideoCapture and VideoWriter objects and releasing all resources held by them. \n",
        "    video_reader.release()\n",
        "    video_writer.release()"
      ],
      "metadata": {
        "id": "t_SkptD1F15J"
      },
      "execution_count": 32,
      "outputs": []
    },
    {
      "cell_type": "code",
      "source": [
        "Model_apply = 'VGG16_Feature'\n",
        "# Calling the predict_on_live_video method to start the Prediction.\n",
        "predict_on_live_video(input_video_file_path, output_video_file_path,Model_apply)"
      ],
      "metadata": {
        "id": "w9Tp_uNEF7Lw"
      },
      "execution_count": 33,
      "outputs": []
    }
  ]
}