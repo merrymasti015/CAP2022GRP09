{
  "nbformat": 4,
  "nbformat_minor": 0,
  "metadata": {
    "colab": {
      "name": "PCAMZC321_Group09_FireEventDetection_VIDEO.ipynb",
      "provenance": [],
      "collapsed_sections": [],
      "authorship_tag": "ABX9TyMDH0Apvb3GraPvF51qUGGw",
      "include_colab_link": true
    },
    "kernelspec": {
      "name": "python3",
      "display_name": "Python 3"
    },
    "language_info": {
      "name": "python"
    }
  },
  "cells": [
    {
      "cell_type": "markdown",
      "metadata": {
        "id": "view-in-github",
        "colab_type": "text"
      },
      "source": [
        "<a href=\"https://colab.research.google.com/github/merrymasti015/CAP2022GRP09/blob/main/PCAMZC321_Group09_FireEventDetection_VIDEO.ipynb\" target=\"_parent\"><img src=\"https://colab.research.google.com/assets/colab-badge.svg\" alt=\"Open In Colab\"/></a>"
      ]
    },
    {
      "cell_type": "markdown",
      "source": [
        "#Video File detection - addendum to PCAMZC321_Group09_FireEventDetection"
      ],
      "metadata": {
        "id": "dwc-vDu57xF7"
      }
    },
    {
      "cell_type": "code",
      "execution_count": 1,
      "metadata": {
        "id": "EpU8Z7PJ43p4"
      },
      "outputs": [],
      "source": [
        "import keras\n",
        "from keras.models import Sequential\n",
        "from keras.applications.vgg16 import VGG16\n",
        "from keras.layers import Dense, InputLayer, Dropout, Flatten\n",
        "from keras.layers import Conv2D, MaxPooling2D, GlobalMaxPooling2D\n",
        "from keras.preprocessing import image\n",
        "import numpy as np\n",
        "import pandas as pd\n",
        "import matplotlib.pyplot as plt\n",
        "from tqdm import tqdm\n",
        "from sklearn.model_selection import train_test_split\n",
        "import pickle\n",
        "\n",
        "from pathlib import Path\n",
        "import cv2\n",
        "import math\n",
        "import os\n",
        "from glob import glob\n",
        "from scipy import stats as s\n"
      ]
    },
    {
      "cell_type": "code",
      "source": [
        "from google.colab import drive\n",
        "from IPython import display\n",
        "drive.mount('/content/gdrive', force_remount=True)"
      ],
      "metadata": {
        "colab": {
          "base_uri": "https://localhost:8080/"
        },
        "id": "fpLrbcZH799e",
        "outputId": "e35c3325-8d17-4a14-e777-582edc21072d"
      },
      "execution_count": 2,
      "outputs": [
        {
          "output_type": "stream",
          "name": "stdout",
          "text": [
            "Mounted at /content/gdrive\n"
          ]
        }
      ]
    },
    {
      "cell_type": "code",
      "source": [
        "RootFolder = \"/content/gdrive/MyDrive/Fire_ImageDataSet/\"\n",
        "print(RootFolder)\n",
        "output_directory = RootFolder+\"/VDO_fire\"  # where is my VDO file ?\n",
        "ModelSaveFolder = RootFolder+\"/ModelSave\" # where is my model"
      ],
      "metadata": {
        "colab": {
          "base_uri": "https://localhost:8080/"
        },
        "id": "C1WHUFdg8LMn",
        "outputId": "f3941d45-8e76-4098-bcb9-e9ec2dfb19b5"
      },
      "execution_count": 5,
      "outputs": [
        {
          "output_type": "stream",
          "name": "stdout",
          "text": [
            "/content/gdrive/MyDrive/Fire_ImageDataSet/\n"
          ]
        }
      ]
    },
    {
      "cell_type": "code",
      "source": [
        "video_title = \"VDO-1\"\n",
        "input_video_file_path = f'{output_directory}/{video_title}.mp4'\n",
        "input_video_file_path"
      ],
      "metadata": {
        "colab": {
          "base_uri": "https://localhost:8080/",
          "height": 35
        },
        "id": "CQ8HqBVc9ONh",
        "outputId": "d01462c5-ee25-4e20-8191-47338f55d8b1"
      },
      "execution_count": 6,
      "outputs": [
        {
          "output_type": "execute_result",
          "data": {
            "application/vnd.google.colaboratory.intrinsic+json": {
              "type": "string"
            },
            "text/plain": [
              "'/content/gdrive/MyDrive/Fire_ImageDataSet//VDO_fire/VDO-1.mp4'"
            ]
          },
          "metadata": {},
          "execution_count": 6
        }
      ]
    },
    {
      "cell_type": "code",
      "source": [
        "from tensorflow import keras\n",
        "\n",
        "model_name = 'Step-1_VGG_model.h5'\n",
        "\n",
        "model = keras.models.load_model(ModelSaveFolder+'/'+model_name)"
      ],
      "metadata": {
        "id": "ZYgaqIcv93b8"
      },
      "execution_count": 8,
      "outputs": []
    },
    {
      "cell_type": "code",
      "source": [
        ""
      ],
      "metadata": {
        "id": "YuHsamLD-B6g"
      },
      "execution_count": null,
      "outputs": []
    }
  ]
}