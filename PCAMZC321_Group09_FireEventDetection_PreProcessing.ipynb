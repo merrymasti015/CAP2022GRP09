{
  "cells": [
    {
      "cell_type": "markdown",
      "metadata": {
        "id": "view-in-github",
        "colab_type": "text"
      },
      "source": [
        "<a href=\"https://colab.research.google.com/github/merrymasti015/CAP2022GRP09/blob/main/PCAMZC321_Group09_FireEventDetection_PreProcessing.ipynb\" target=\"_parent\"><img src=\"https://colab.research.google.com/assets/colab-badge.svg\" alt=\"Open In Colab\"/></a>"
      ]
    },
    {
      "cell_type": "markdown",
      "source": [
        "# Fire event detection - Group 9 - 2020AIML Batch \n",
        "###Authors\n",
        "-----------\n",
        "###Vilas Govindankutty Menon 2020AIML509\n",
        "###Vipin Chandran 2020AIML546\n",
        "###Rajeshkumar Karuppaswamy 2020AIML502\n",
        "###Abhilash Marripudi 2020AIML553"
      ],
      "metadata": {
        "id": "7OHDDqqOSWDT"
      }
    },
    {
      "cell_type": "markdown",
      "source": [
        "#PCAMZC321_Group09_FireEventDetection_PreProcessing_Step-0 - Check file name nomenclature from report template\n",
        "This scripts does\n",
        "1. Reads files and rearranges them into a processable folder for further image processing\n",
        "\n",
        " a.  it converts image to grey scale\n",
        "\n",
        " b.  Splits test and train image dataset\n",
        "\n",
        " c. Identifies fire and Neutral images and segregates them into different folders\n",
        "\n",
        " d. Saves a dataset as an excel for ease of further processing.\n",
        "2. \n",
        "3. \n",
        "4. \n",
        "5. \n",
        "\n",
        "Prerequisites/Any Spacial Python Library used\n",
        "Root folder\n",
        "C:/1-GG/CAP5/FireDetection/ImageDataSet\n",
        "\n",
        "##Input files location: \n",
        "\n",
        "##Output files location: gdrive/ \n",
        "\n",
        "Split image files as:\n",
        "OutputFiles\n",
        "--- BaseDataSet\n",
        "--- ---Train\n",
        "---------Fire\n",
        "----- ---Neutral\n",
        "--- ---Test\n",
        "---------Fire\n",
        "----- ---Neutral\n",
        "--- BlurFrames\n",
        "--- GreyBaseDataSet\n",
        "--- ---Train\n",
        "---------Fire\n",
        "----- ---Neutral\n",
        "--- ---Test\n",
        "---------Fire\n",
        "----- ---Neutral\n"
      ],
      "metadata": {
        "id": "5CB0ItN9ZP6Y"
      }
    },
    {
      "cell_type": "code",
      "execution_count": null,
      "metadata": {
        "colab": {
          "base_uri": "https://localhost:8080/"
        },
        "id": "UEHMsz4DeMc9",
        "outputId": "96cb14bc-eb99-4980-9fa1-505516109390"
      },
      "outputs": [
        {
          "name": "stdout",
          "output_type": "stream",
          "text": [
            "pandas: 1.3.5\n",
            "numpy: 1.21.5\n",
            "cv2: 4.1.2\n"
          ]
        }
      ],
      "source": [
        "import pandas as pd\n",
        "print('pandas: {}'.format(pd.__version__))\n",
        "import numpy as np\n",
        "import numpy\n",
        "print('numpy: {}'.format(np.__version__))\n",
        "import cv2                                 # for capturing videos\n",
        "print('cv2: {}'.format(cv2.__version__))\n",
        "\n",
        "import os, os.path\n",
        "from pathlib import Path\n",
        "import math   # for mathematical operations\n"
      ]
    },
    {
      "cell_type": "code",
      "execution_count": null,
      "metadata": {
        "id": "4UwXTLA7elTT"
      },
      "outputs": [],
      "source": [
        "from google.colab import drive"
      ]
    },
    {
      "cell_type": "code",
      "execution_count": null,
      "metadata": {
        "colab": {
          "base_uri": "https://localhost:8080/"
        },
        "id": "MyF5B2mhenWt",
        "outputId": "cf1edcd7-e799-4801-d50c-b47da4f500f8"
      },
      "outputs": [
        {
          "name": "stdout",
          "output_type": "stream",
          "text": [
            "Mounted at /content/gdrive\n"
          ]
        }
      ],
      "source": [
        "drive.mount('/content/gdrive', force_remount=True)"
      ]
    },
    {
      "cell_type": "code",
      "execution_count": null,
      "metadata": {
        "colab": {
          "base_uri": "https://localhost:8080/"
        },
        "id": "MUyZYbmgfP_y",
        "outputId": "3d415e9c-3aee-4599-8628-6779329a5186"
      },
      "outputs": [
        {
          "name": "stdout",
          "output_type": "stream",
          "text": [
            "image_0.jpg    image_280.jpg  image_460.jpg  image_640.jpg  image_820.jpg\n",
            "image_100.jpg  image_281.jpg  image_461.jpg  image_641.jpg  image_821.jpg\n",
            "image_101.jpg  image_282.jpg  image_462.jpg  image_642.jpg  image_822.jpg\n",
            "image_102.jpg  image_283.jpg  image_463.jpg  image_643.jpg  image_823.jpg\n",
            "image_103.jpg  image_284.jpg  image_464.jpg  image_644.jpg  image_824.jpg\n",
            "image_104.jpg  image_285.jpg  image_465.jpg  image_645.jpg  image_825.jpg\n",
            "image_105.jpg  image_286.jpg  image_466.jpg  image_646.jpg  image_826.jpg\n",
            "image_106.jpg  image_287.jpg  image_467.jpg  image_647.jpg  image_827.jpg\n",
            "image_107.jpg  image_288.jpg  image_468.jpg  image_648.jpg  image_828.jpg\n",
            "image_108.jpg  image_289.jpg  image_469.jpg  image_649.jpg  image_829.jpg\n",
            "image_109.jpg  image_28.jpg   image_46.jpg   image_64.jpg   image_82.jpg\n",
            "image_10.jpg   image_290.jpg  image_470.jpg  image_650.jpg  image_830.jpg\n",
            "image_110.jpg  image_291.jpg  image_471.jpg  image_651.jpg  image_831.jpg\n",
            "image_111.jpg  image_292.jpg  image_472.jpg  image_652.jpg  image_832.jpg\n",
            "image_112.jpg  image_293.jpg  image_473.jpg  image_653.jpg  image_833.jpg\n",
            "image_113.jpg  image_294.jpg  image_474.jpg  image_654.jpg  image_834.jpg\n",
            "image_114.jpg  image_295.jpg  image_475.jpg  image_655.jpg  image_835.jpg\n",
            "image_115.jpg  image_296.jpg  image_476.jpg  image_656.jpg  image_836.jpg\n",
            "image_116.jpg  image_297.jpg  image_477.jpg  image_657.jpg  image_837.jpg\n",
            "image_117.jpg  image_298.jpg  image_478.jpg  image_658.jpg  image_838.jpg\n",
            "image_118.jpg  image_299.jpg  image_479.jpg  image_659.jpg  image_839.jpg\n",
            "image_119.jpg  image_29.jpg   image_47.jpg   image_65.jpg   image_83.jpg\n",
            "image_11.jpg   image_2.jpg    image_480.jpg  image_660.jpg  image_840.jpg\n",
            "image_120.jpg  image_300.jpg  image_481.jpg  image_661.jpg  image_841.jpg\n",
            "image_121.jpg  image_301.jpg  image_482.jpg  image_662.jpg  image_842.jpg\n",
            "image_122.jpg  image_302.jpg  image_483.jpg  image_663.jpg  image_843.jpg\n",
            "image_123.jpg  image_303.jpg  image_484.jpg  image_664.jpg  image_844.jpg\n",
            "image_124.jpg  image_304.jpg  image_485.jpg  image_665.jpg  image_845.jpg\n",
            "image_125.jpg  image_305.jpg  image_486.jpg  image_666.jpg  image_846.jpg\n",
            "image_126.jpg  image_306.jpg  image_487.jpg  image_667.jpg  image_847.jpg\n",
            "image_127.jpg  image_307.jpg  image_488.jpg  image_668.jpg  image_848.jpg\n",
            "image_128.jpg  image_308.jpg  image_489.jpg  image_669.jpg  image_849.jpg\n",
            "image_129.jpg  image_309.jpg  image_48.jpg   image_66.jpg   image_84.jpg\n",
            "image_12.jpg   image_30.jpg   image_490.jpg  image_670.jpg  image_850.jpg\n",
            "image_130.jpg  image_310.jpg  image_491.jpg  image_671.jpg  image_851.jpg\n",
            "image_131.jpg  image_311.jpg  image_492.jpg  image_672.jpg  image_852.jpg\n",
            "image_132.jpg  image_312.jpg  image_493.jpg  image_673.jpg  image_853.jpg\n",
            "image_133.jpg  image_313.jpg  image_494.jpg  image_674.jpg  image_854.jpg\n",
            "image_134.jpg  image_314.jpg  image_495.jpg  image_675.jpg  image_855.jpg\n",
            "image_135.jpg  image_315.jpg  image_496.jpg  image_676.jpg  image_856.jpg\n",
            "image_136.jpg  image_316.jpg  image_497.jpg  image_677.jpg  image_857.jpg\n",
            "image_137.jpg  image_317.jpg  image_498.jpg  image_678.jpg  image_858.jpg\n",
            "image_138.jpg  image_318.jpg  image_499.jpg  image_679.jpg  image_859.jpg\n",
            "image_139.jpg  image_319.jpg  image_49.jpg   image_67.jpg   image_85.jpg\n",
            "image_13.jpg   image_31.jpg   image_4.jpg    image_680.jpg  image_860.jpg\n",
            "image_140.jpg  image_320.jpg  image_500.jpg  image_681.jpg  image_861.jpg\n",
            "image_141.jpg  image_321.jpg  image_501.jpg  image_682.jpg  image_862.jpg\n",
            "image_142.jpg  image_322.jpg  image_502.jpg  image_683.jpg  image_863.jpg\n",
            "image_143.jpg  image_323.jpg  image_503.jpg  image_684.jpg  image_864.jpg\n",
            "image_144.jpg  image_324.jpg  image_504.jpg  image_685.jpg  image_865.jpg\n",
            "image_145.jpg  image_325.jpg  image_505.jpg  image_686.jpg  image_866.jpg\n",
            "image_146.jpg  image_326.jpg  image_506.jpg  image_687.jpg  image_867.jpg\n",
            "image_147.jpg  image_327.jpg  image_507.jpg  image_688.jpg  image_868.jpg\n",
            "image_148.jpg  image_328.jpg  image_508.jpg  image_689.jpg  image_869.jpg\n",
            "image_149.jpg  image_329.jpg  image_509.jpg  image_68.jpg   image_86.jpg\n",
            "image_14.jpg   image_32.jpg   image_50.jpg   image_690.jpg  image_870.jpg\n",
            "image_150.jpg  image_330.jpg  image_510.jpg  image_691.jpg  image_871.jpg\n",
            "image_151.jpg  image_331.jpg  image_511.jpg  image_692.jpg  image_872.jpg\n",
            "image_152.jpg  image_332.jpg  image_512.jpg  image_693.jpg  image_873.jpg\n",
            "image_153.jpg  image_333.jpg  image_513.jpg  image_694.jpg  image_874.jpg\n",
            "image_154.jpg  image_334.jpg  image_514.jpg  image_695.jpg  image_875.jpg\n",
            "image_155.jpg  image_335.jpg  image_515.jpg  image_696.jpg  image_876.jpg\n",
            "image_156.jpg  image_336.jpg  image_516.jpg  image_697.jpg  image_877.jpg\n",
            "image_157.jpg  image_337.jpg  image_517.jpg  image_698.jpg  image_878.jpg\n",
            "image_158.jpg  image_338.jpg  image_518.jpg  image_699.jpg  image_879.jpg\n",
            "image_159.jpg  image_339.jpg  image_519.jpg  image_69.jpg   image_87.jpg\n",
            "image_15.jpg   image_33.jpg   image_51.jpg   image_6.jpg    image_880.jpg\n",
            "image_160.jpg  image_340.jpg  image_520.jpg  image_700.jpg  image_881.jpg\n",
            "image_161.jpg  image_341.jpg  image_521.jpg  image_701.jpg  image_882.jpg\n",
            "image_162.jpg  image_342.jpg  image_522.jpg  image_702.jpg  image_883.jpg\n",
            "image_163.jpg  image_343.jpg  image_523.jpg  image_703.jpg  image_884.jpg\n",
            "image_164.jpg  image_344.jpg  image_524.jpg  image_704.jpg  image_885.jpg\n",
            "image_165.jpg  image_345.jpg  image_525.jpg  image_705.jpg  image_886.jpg\n",
            "image_166.jpg  image_346.jpg  image_526.jpg  image_706.jpg  image_887.jpg\n",
            "image_167.jpg  image_347.jpg  image_527.jpg  image_707.jpg  image_888.jpg\n",
            "image_168.jpg  image_348.jpg  image_528.jpg  image_708.jpg  image_889.jpg\n",
            "image_169.jpg  image_349.jpg  image_529.jpg  image_709.jpg  image_88.jpg\n",
            "image_16.jpg   image_34.jpg   image_52.jpg   image_70.jpg   image_890.jpg\n",
            "image_170.jpg  image_350.jpg  image_530.jpg  image_710.jpg  image_891.jpg\n",
            "image_171.jpg  image_351.jpg  image_531.jpg  image_711.jpg  image_892.jpg\n",
            "image_172.jpg  image_352.jpg  image_532.jpg  image_712.jpg  image_893.jpg\n",
            "image_173.jpg  image_353.jpg  image_533.jpg  image_713.jpg  image_894.jpg\n",
            "image_174.jpg  image_354.jpg  image_534.jpg  image_714.jpg  image_895.jpg\n",
            "image_175.jpg  image_355.jpg  image_535.jpg  image_715.jpg  image_896.jpg\n",
            "image_176.jpg  image_356.jpg  image_536.jpg  image_716.jpg  image_897.jpg\n",
            "image_177.jpg  image_357.jpg  image_537.jpg  image_717.jpg  image_898.jpg\n",
            "image_178.jpg  image_358.jpg  image_538.jpg  image_718.jpg  image_899.jpg\n",
            "image_179.jpg  image_359.jpg  image_539.jpg  image_719.jpg  image_89.jpg\n",
            "image_17.jpg   image_35.jpg   image_53.jpg   image_71.jpg   image_8.jpg\n",
            "image_180.jpg  image_360.jpg  image_540.jpg  image_720.jpg  image_90.jpg\n",
            "image_181.jpg  image_361.jpg  image_541.jpg  image_721.jpg  image_91.jpg\n",
            "image_182.jpg  image_362.jpg  image_542.jpg  image_722.jpg  image_92.jpg\n",
            "image_183.jpg  image_363.jpg  image_543.jpg  image_723.jpg  image_93.jpg\n",
            "image_184.jpg  image_364.jpg  image_544.jpg  image_724.jpg  image_94.jpg\n",
            "image_185.jpg  image_365.jpg  image_545.jpg  image_725.jpg  image_95.jpg\n",
            "image_186.jpg  image_366.jpg  image_546.jpg  image_726.jpg  image_96.jpg\n",
            "image_187.jpg  image_367.jpg  image_547.jpg  image_727.jpg  image_97.jpg\n",
            "image_188.jpg  image_368.jpg  image_548.jpg  image_728.jpg  image_98.jpg\n",
            "image_189.jpg  image_369.jpg  image_549.jpg  image_729.jpg  image_99.jpg\n",
            "image_18.jpg   image_36.jpg   image_54.jpg   image_72.jpg   image_9.jpg\n",
            "image_190.jpg  image_370.jpg  image_550.jpg  image_730.jpg  TF_image_0.jpg\n",
            "image_191.jpg  image_371.jpg  image_551.jpg  image_731.jpg  TF_image_10.jpg\n",
            "image_192.jpg  image_372.jpg  image_552.jpg  image_732.jpg  TF_image_11.jpg\n",
            "image_193.jpg  image_373.jpg  image_553.jpg  image_733.jpg  TF_image_12.jpg\n",
            "image_194.jpg  image_374.jpg  image_554.jpg  image_734.jpg  TF_image_13.jpg\n",
            "image_195.jpg  image_375.jpg  image_555.jpg  image_735.jpg  TF_image_14.jpg\n",
            "image_196.jpg  image_376.jpg  image_556.jpg  image_736.jpg  TF_image_15.jpg\n",
            "image_197.jpg  image_377.jpg  image_557.jpg  image_737.jpg  TF_image_16.jpg\n",
            "image_198.jpg  image_378.jpg  image_558.jpg  image_738.jpg  TF_image_17.jpg\n",
            "image_199.jpg  image_379.jpg  image_559.jpg  image_739.jpg  TF_image_18.jpg\n",
            "image_19.jpg   image_37.jpg   image_55.jpg   image_73.jpg   TF_image_19.jpg\n",
            "image_1.jpg    image_380.jpg  image_560.jpg  image_740.jpg  TF_image_1.jpg\n",
            "image_200.jpg  image_381.jpg  image_561.jpg  image_741.jpg  TF_image_20.jpg\n",
            "image_201.jpg  image_382.jpg  image_562.jpg  image_742.jpg  TF_image_21.jpg\n",
            "image_202.jpg  image_383.jpg  image_563.jpg  image_743.jpg  TF_image_22.jpg\n",
            "image_203.jpg  image_384.jpg  image_564.jpg  image_744.jpg  TF_image_23.jpg\n",
            "image_204.jpg  image_385.jpg  image_565.jpg  image_745.jpg  TF_image_24.jpg\n",
            "image_205.jpg  image_386.jpg  image_566.jpg  image_746.jpg  TF_image_25.jpg\n",
            "image_206.jpg  image_387.jpg  image_567.jpg  image_747.jpg  TF_image_26.jpg\n",
            "image_207.jpg  image_388.jpg  image_568.jpg  image_748.jpg  TF_image_27.jpg\n",
            "image_208.jpg  image_389.jpg  image_569.jpg  image_749.jpg  TF_image_28.jpg\n",
            "image_209.jpg  image_38.jpg   image_56.jpg   image_74.jpg   TF_image_29.jpg\n",
            "image_20.jpg   image_390.jpg  image_570.jpg  image_750.jpg  TF_image_2.jpg\n",
            "image_210.jpg  image_391.jpg  image_571.jpg  image_751.jpg  TF_image_30.jpg\n",
            "image_211.jpg  image_392.jpg  image_572.jpg  image_752.jpg  TF_image_31.jpg\n",
            "image_212.jpg  image_393.jpg  image_573.jpg  image_753.jpg  TF_image_32.jpg\n",
            "image_213.jpg  image_394.jpg  image_574.jpg  image_754.jpg  TF_image_33.jpg\n",
            "image_214.jpg  image_395.jpg  image_575.jpg  image_755.jpg  TF_image_34.jpg\n",
            "image_215.jpg  image_396.jpg  image_576.jpg  image_756.jpg  TF_image_35.jpg\n",
            "image_216.jpg  image_397.jpg  image_577.jpg  image_757.jpg  TF_image_36.jpg\n",
            "image_217.jpg  image_398.jpg  image_578.jpg  image_758.jpg  TF_image_37.jpg\n",
            "image_218.jpg  image_399.jpg  image_579.jpg  image_759.jpg  TF_image_38.jpg\n",
            "image_219.jpg  image_39.jpg   image_57.jpg   image_75.jpg   TF_image_39.jpg\n",
            "image_21.jpg   image_3.jpg    image_580.jpg  image_760.jpg  TF_image_3.jpg\n",
            "image_220.jpg  image_400.jpg  image_581.jpg  image_761.jpg  TF_image_40.jpg\n",
            "image_221.jpg  image_401.jpg  image_582.jpg  image_762.jpg  TF_image_41.jpg\n",
            "image_222.jpg  image_402.jpg  image_583.jpg  image_763.jpg  TF_image_42.jpg\n",
            "image_223.jpg  image_403.jpg  image_584.jpg  image_764.jpg  TF_image_43.jpg\n",
            "image_224.jpg  image_404.jpg  image_585.jpg  image_765.jpg  TF_image_44.jpg\n",
            "image_225.jpg  image_405.jpg  image_586.jpg  image_766.jpg  TF_image_45.jpg\n",
            "image_226.jpg  image_406.jpg  image_587.jpg  image_767.jpg  TF_image_46.jpg\n",
            "image_227.jpg  image_407.jpg  image_588.jpg  image_768.jpg  TF_image_47.jpg\n",
            "image_228.jpg  image_408.jpg  image_589.jpg  image_769.jpg  TF_image_48.jpg\n",
            "image_229.jpg  image_409.jpg  image_58.jpg   image_76.jpg   TF_image_49.jpg\n",
            "image_22.jpg   image_40.jpg   image_590.jpg  image_770.jpg  TF_image_4.jpg\n",
            "image_230.jpg  image_410.jpg  image_591.jpg  image_771.jpg  TF_image_50.jpg\n",
            "image_231.jpg  image_411.jpg  image_592.jpg  image_772.jpg  TF_image_51.jpg\n",
            "image_232.jpg  image_412.jpg  image_593.jpg  image_773.jpg  TF_image_52.jpg\n",
            "image_233.jpg  image_413.jpg  image_594.jpg  image_774.jpg  TF_image_53.jpg\n",
            "image_234.jpg  image_414.jpg  image_595.jpg  image_775.jpg  TF_image_54.jpg\n",
            "image_235.jpg  image_415.jpg  image_596.jpg  image_776.jpg  TF_image_55.jpg\n",
            "image_236.jpg  image_416.jpg  image_597.jpg  image_777.jpg  TF_image_56.jpg\n",
            "image_237.jpg  image_417.jpg  image_598.jpg  image_778.jpg  TF_image_57.jpg\n",
            "image_238.jpg  image_418.jpg  image_599.jpg  image_779.jpg  TF_image_58.jpg\n",
            "image_239.jpg  image_419.jpg  image_59.jpg   image_77.jpg   TF_image_59.jpg\n",
            "image_23.jpg   image_41.jpg   image_5.jpg    image_780.jpg  TF_image_5.jpg\n",
            "image_240.jpg  image_420.jpg  image_600.jpg  image_781.jpg  TF_image_60.jpg\n",
            "image_241.jpg  image_421.jpg  image_601.jpg  image_782.jpg  TF_image_61.jpg\n",
            "image_242.jpg  image_422.jpg  image_602.jpg  image_783.jpg  TF_image_62.jpg\n",
            "image_243.jpg  image_423.jpg  image_603.jpg  image_784.jpg  TF_image_63.jpg\n",
            "image_244.jpg  image_424.jpg  image_604.jpg  image_785.jpg  TF_image_64.jpg\n",
            "image_245.jpg  image_425.jpg  image_605.jpg  image_786.jpg  TF_image_65.jpg\n",
            "image_246.jpg  image_426.jpg  image_606.jpg  image_787.jpg  TF_image_66.jpg\n",
            "image_247.jpg  image_427.jpg  image_607.jpg  image_788.jpg  TF_image_67.jpg\n",
            "image_248.jpg  image_428.jpg  image_608.jpg  image_789.jpg  TF_image_68.jpg\n",
            "image_249.jpg  image_429.jpg  image_609.jpg  image_78.jpg   TF_image_69.jpg\n",
            "image_24.jpg   image_42.jpg   image_60.jpg   image_790.jpg  TF_image_6.jpg\n",
            "image_250.jpg  image_430.jpg  image_610.jpg  image_791.jpg  TF_image_70.jpg\n",
            "image_251.jpg  image_431.jpg  image_611.jpg  image_792.jpg  TF_image_71.jpg\n",
            "image_252.jpg  image_432.jpg  image_612.jpg  image_793.jpg  TF_image_72.jpg\n",
            "image_253.jpg  image_433.jpg  image_613.jpg  image_794.jpg  TF_image_73.jpg\n",
            "image_254.jpg  image_434.jpg  image_614.jpg  image_795.jpg  TF_image_74.jpg\n",
            "image_255.jpg  image_435.jpg  image_615.jpg  image_796.jpg  TF_image_75.jpg\n",
            "image_256.jpg  image_436.jpg  image_616.jpg  image_797.jpg  TF_image_76.jpg\n",
            "image_257.jpg  image_437.jpg  image_617.jpg  image_798.jpg  TF_image_77.jpg\n",
            "image_258.jpg  image_438.jpg  image_618.jpg  image_799.jpg  TF_image_78.jpg\n",
            "image_259.jpg  image_439.jpg  image_619.jpg  image_79.jpg   TF_image_79.jpg\n",
            "image_25.jpg   image_43.jpg   image_61.jpg   image_7.jpg    TF_image_7.jpg\n",
            "image_260.jpg  image_440.jpg  image_620.jpg  image_800.jpg  TF_image_80.jpg\n",
            "image_261.jpg  image_441.jpg  image_621.jpg  image_801.jpg  TF_image_81.jpg\n",
            "image_262.jpg  image_442.jpg  image_622.jpg  image_802.jpg  TF_image_82.jpg\n",
            "image_263.jpg  image_443.jpg  image_623.jpg  image_803.jpg  TF_image_83.jpg\n",
            "image_264.jpg  image_444.jpg  image_624.jpg  image_804.jpg  TF_image_84.jpg\n",
            "image_265.jpg  image_445.jpg  image_625.jpg  image_805.jpg  TF_image_85.jpg\n",
            "image_266.jpg  image_446.jpg  image_626.jpg  image_806.jpg  TF_image_86.jpg\n",
            "image_267.jpg  image_447.jpg  image_627.jpg  image_807.jpg  TF_image_87.jpg\n",
            "image_268.jpg  image_448.jpg  image_628.jpg  image_808.jpg  TF_image_88.jpg\n",
            "image_269.jpg  image_449.jpg  image_629.jpg  image_809.jpg  TF_image_89.jpg\n",
            "image_26.jpg   image_44.jpg   image_62.jpg   image_80.jpg   TF_image_8.jpg\n",
            "image_270.jpg  image_450.jpg  image_630.jpg  image_810.jpg  TF_image_90.jpg\n",
            "image_271.jpg  image_451.jpg  image_631.jpg  image_811.jpg  TF_image_91.jpg\n",
            "image_272.jpg  image_452.jpg  image_632.jpg  image_812.jpg  TF_image_92.jpg\n",
            "image_273.jpg  image_453.jpg  image_633.jpg  image_813.jpg  TF_image_93.jpg\n",
            "image_274.jpg  image_454.jpg  image_634.jpg  image_814.jpg  TF_image_94.jpg\n",
            "image_275.jpg  image_455.jpg  image_635.jpg  image_815.jpg  TF_image_95.jpg\n",
            "image_276.jpg  image_456.jpg  image_636.jpg  image_816.jpg  TF_image_96.jpg\n",
            "image_277.jpg  image_457.jpg  image_637.jpg  image_817.jpg  TF_image_97.jpg\n",
            "image_278.jpg  image_458.jpg  image_638.jpg  image_818.jpg  TF_image_98.jpg\n",
            "image_279.jpg  image_459.jpg  image_639.jpg  image_819.jpg  TF_image_99.jpg\n",
            "image_27.jpg   image_45.jpg   image_63.jpg   image_81.jpg   TF_image_9.jpg\n"
          ]
        }
      ],
      "source": [
        "!ls \"/content/gdrive/MyDrive/Colab_Notebooks/Fire_ImageDataSet/Fire\""
      ]
    },
    {
      "cell_type": "code",
      "execution_count": null,
      "metadata": {
        "colab": {
          "base_uri": "https://localhost:8080/"
        },
        "id": "2DI7ggHqgsXV",
        "outputId": "c9ee8845-ceb9-4000-fcdb-7cae388fd122"
      },
      "outputs": [
        {
          "name": "stdout",
          "output_type": "stream",
          "text": [
            "/content/gdrive/MyDrive/Colab_Notebooks/Fire_ImageDataSet/\n"
          ]
        }
      ],
      "source": [
        "root_folder = \"/content/gdrive/MyDrive/Colab_Notebooks/Fire_ImageDataSet/\"\n",
        "print(root_folder)"
      ]
    },
    {
      "cell_type": "code",
      "execution_count": null,
      "metadata": {
        "colab": {
          "base_uri": "https://localhost:8080/"
        },
        "id": "Jj_PhYaCh4NX",
        "outputId": "f4d0c814-034a-424a-a557-20a8479be098"
      },
      "outputs": [
        {
          "name": "stdout",
          "output_type": "stream",
          "text": [
            "/content/gdrive/MyDrive/Colab_Notebooks/Fire_ImageDataSet//ModelSave\n",
            "/content/gdrive/MyDrive/Colab_Notebooks/Fire_ImageDataSet//OutputFiles\n"
          ]
        }
      ],
      "source": [
        "ModelSave  = root_folder+\"/ModelSave\"\n",
        "OutputFiles  = root_folder+\"/OutputFiles\"\n",
        "\n",
        "\n",
        "   \n",
        "if not os.path.exists(OutputFiles):\n",
        "   os.makedirs(OutputFiles) \n",
        "if not os.path.exists(ModelSave):\n",
        "   os.makedirs(ModelSave) \n",
        "\n",
        "print(ModelSave)\n",
        "print(OutputFiles)"
      ]
    },
    {
      "cell_type": "code",
      "execution_count": null,
      "metadata": {
        "colab": {
          "base_uri": "https://localhost:8080/"
        },
        "id": "aemUD8qeiH0X",
        "outputId": "2c5c62cd-940e-4f2c-ffd5-bfa3c7a9a2ac"
      },
      "outputs": [
        {
          "data": {
            "text/plain": [
              "['Fire', 'Neutral', 'OutputFiles', 'ModelSave']"
            ]
          },
          "execution_count": 7,
          "metadata": {},
          "output_type": "execute_result"
        }
      ],
      "source": [
        "os.listdir(root_folder)"
      ]
    },
    {
      "cell_type": "code",
      "execution_count": null,
      "metadata": {
        "colab": {
          "base_uri": "https://localhost:8080/"
        },
        "id": "IYsoKQ3LiJp6",
        "outputId": "ea419d2c-142b-4b40-b9b7-74fbbba5e723"
      },
      "outputs": [
        {
          "name": "stdout",
          "output_type": "stream",
          "text": [
            "['Fire', 'Neutral', 'OutputFiles', 'ModelSave']\n"
          ]
        }
      ],
      "source": [
        "sub_folders = [name for name in os.listdir(root_folder) if os.path.isdir(os.path.join(root_folder, name))]\n",
        "\n",
        "print(sub_folders)"
      ]
    },
    {
      "cell_type": "code",
      "execution_count": null,
      "metadata": {
        "colab": {
          "base_uri": "https://localhost:8080/"
        },
        "id": "YCFTpXXLi3P-",
        "outputId": "ac923c33-39ae-461b-9b20-54ac785fada2"
      },
      "outputs": [
        {
          "name": "stdout",
          "output_type": "stream",
          "text": [
            "Fire\n",
            "/content/gdrive/MyDrive/Colab_Notebooks/Fire_ImageDataSet/Fire\n",
            "Neutral\n",
            "/content/gdrive/MyDrive/Colab_Notebooks/Fire_ImageDataSet/Neutral\n"
          ]
        }
      ],
      "source": [
        "for child in os.listdir(root_folder):\n",
        "    if child == \"ModelSave\":\n",
        "        continue\n",
        "    if child == \"OutputFiles\":\n",
        "        continue\n",
        "        \n",
        "    print(child)\n",
        "   \n",
        "    baseimagefolders = os.path.join(root_folder, child)\n",
        "    if os.path.isdir(baseimagefolders):\n",
        "\n",
        "        print(baseimagefolders)"
      ]
    },
    {
      "cell_type": "code",
      "execution_count": null,
      "metadata": {
        "colab": {
          "base_uri": "https://localhost:8080/"
        },
        "id": "9f9z9BzAjLCv",
        "outputId": "a3a457d3-eb63-4c09-95e6-97c8fdfb5bc0"
      },
      "outputs": [
        {
          "data": {
            "text/plain": [
              "['/content/gdrive/MyDrive/Colab_Notebooks/Fire_ImageDataSet/Neutral/N_image_161.jpg',\n",
              " '/content/gdrive/MyDrive/Colab_Notebooks/Fire_ImageDataSet/Neutral/N_image_17.jpg',\n",
              " '/content/gdrive/MyDrive/Colab_Notebooks/Fire_ImageDataSet/Neutral/N_image_169.jpg',\n",
              " '/content/gdrive/MyDrive/Colab_Notebooks/Fire_ImageDataSet/Neutral/N_image_168.jpg',\n",
              " '/content/gdrive/MyDrive/Colab_Notebooks/Fire_ImageDataSet/Neutral/N_image_167.jpg',\n",
              " '/content/gdrive/MyDrive/Colab_Notebooks/Fire_ImageDataSet/Neutral/N_image_166.jpg',\n",
              " '/content/gdrive/MyDrive/Colab_Notebooks/Fire_ImageDataSet/Neutral/N_image_163.jpg',\n",
              " '/content/gdrive/MyDrive/Colab_Notebooks/Fire_ImageDataSet/Neutral/N_image_164.jpg',\n",
              " '/content/gdrive/MyDrive/Colab_Notebooks/Fire_ImageDataSet/Neutral/N_image_162.jpg',\n",
              " '/content/gdrive/MyDrive/Colab_Notebooks/Fire_ImageDataSet/Neutral/N_image_165.jpg',\n",
              " '/content/gdrive/MyDrive/Colab_Notebooks/Fire_ImageDataSet/Neutral/N_image_540.jpg',\n",
              " '/content/gdrive/MyDrive/Colab_Notebooks/Fire_ImageDataSet/Neutral/N_image_160.jpg',\n",
              " '/content/gdrive/MyDrive/Colab_Notebooks/Fire_ImageDataSet/Neutral/N_image_159.jpg',\n",
              " '/content/gdrive/MyDrive/Colab_Notebooks/Fire_ImageDataSet/Neutral/N_image_16.jpg',\n",
              " '/content/gdrive/MyDrive/Colab_Notebooks/Fire_ImageDataSet/Neutral/N_image_158.jpg',\n",
              " '/content/gdrive/MyDrive/Colab_Notebooks/Fire_ImageDataSet/Neutral/N_image_157.jpg',\n",
              " '/content/gdrive/MyDrive/Colab_Notebooks/Fire_ImageDataSet/Neutral/N_image_155.jpg',\n",
              " '/content/gdrive/MyDrive/Colab_Notebooks/Fire_ImageDataSet/Neutral/N_image_153.jpg',\n",
              " '/content/gdrive/MyDrive/Colab_Notebooks/Fire_ImageDataSet/Neutral/N_image_156.jpg',\n",
              " '/content/gdrive/MyDrive/Colab_Notebooks/Fire_ImageDataSet/Neutral/N_image_154.jpg',\n",
              " '/content/gdrive/MyDrive/Colab_Notebooks/Fire_ImageDataSet/Neutral/N_image_459.jpg',\n",
              " '/content/gdrive/MyDrive/Colab_Notebooks/Fire_ImageDataSet/Neutral/N_image_458.jpg',\n",
              " '/content/gdrive/MyDrive/Colab_Notebooks/Fire_ImageDataSet/Neutral/N_image_152.jpg',\n",
              " '/content/gdrive/MyDrive/Colab_Notebooks/Fire_ImageDataSet/Neutral/N_image_457.jpg',\n",
              " '/content/gdrive/MyDrive/Colab_Notebooks/Fire_ImageDataSet/Neutral/N_image_143.jpg',\n",
              " '/content/gdrive/MyDrive/Colab_Notebooks/Fire_ImageDataSet/Neutral/N_image_456.jpg',\n",
              " '/content/gdrive/MyDrive/Colab_Notebooks/Fire_ImageDataSet/Neutral/N_image_142.jpg',\n",
              " '/content/gdrive/MyDrive/Colab_Notebooks/Fire_ImageDataSet/Neutral/N_image_141.jpg',\n",
              " '/content/gdrive/MyDrive/Colab_Notebooks/Fire_ImageDataSet/Neutral/N_image_140.jpg',\n",
              " '/content/gdrive/MyDrive/Colab_Notebooks/Fire_ImageDataSet/Neutral/N_image_14.jpg',\n",
              " '/content/gdrive/MyDrive/Colab_Notebooks/Fire_ImageDataSet/Neutral/N_image_139.jpg',\n",
              " '/content/gdrive/MyDrive/Colab_Notebooks/Fire_ImageDataSet/Neutral/N_image_135.jpg',\n",
              " '/content/gdrive/MyDrive/Colab_Notebooks/Fire_ImageDataSet/Neutral/N_image_138.jpg',\n",
              " '/content/gdrive/MyDrive/Colab_Notebooks/Fire_ImageDataSet/Neutral/N_image_136.jpg',\n",
              " '/content/gdrive/MyDrive/Colab_Notebooks/Fire_ImageDataSet/Neutral/N_image_137.jpg',\n",
              " '/content/gdrive/MyDrive/Colab_Notebooks/Fire_ImageDataSet/Neutral/N_image_144.jpg',\n",
              " '/content/gdrive/MyDrive/Colab_Notebooks/Fire_ImageDataSet/Neutral/N_image_15.jpg',\n",
              " '/content/gdrive/MyDrive/Colab_Notebooks/Fire_ImageDataSet/Neutral/N_image_147.jpg',\n",
              " '/content/gdrive/MyDrive/Colab_Notebooks/Fire_ImageDataSet/Neutral/N_image_151.jpg',\n",
              " '/content/gdrive/MyDrive/Colab_Notebooks/Fire_ImageDataSet/Neutral/N_image_148.jpg',\n",
              " '/content/gdrive/MyDrive/Colab_Notebooks/Fire_ImageDataSet/Neutral/N_image_145.jpg',\n",
              " '/content/gdrive/MyDrive/Colab_Notebooks/Fire_ImageDataSet/Neutral/N_image_146.jpg',\n",
              " '/content/gdrive/MyDrive/Colab_Notebooks/Fire_ImageDataSet/Neutral/N_image_150.jpg',\n",
              " '/content/gdrive/MyDrive/Colab_Notebooks/Fire_ImageDataSet/Neutral/N_image_149.jpg',\n",
              " '/content/gdrive/MyDrive/Colab_Notebooks/Fire_ImageDataSet/Neutral/N_image_130.jpg',\n",
              " '/content/gdrive/MyDrive/Colab_Notebooks/Fire_ImageDataSet/Neutral/N_image_129.jpg',\n",
              " '/content/gdrive/MyDrive/Colab_Notebooks/Fire_ImageDataSet/Neutral/N_image_13.jpg',\n",
              " '/content/gdrive/MyDrive/Colab_Notebooks/Fire_ImageDataSet/Neutral/N_image_131.jpg',\n",
              " '/content/gdrive/MyDrive/Colab_Notebooks/Fire_ImageDataSet/Neutral/N_image_133.jpg',\n",
              " '/content/gdrive/MyDrive/Colab_Notebooks/Fire_ImageDataSet/Neutral/N_image_132.jpg',\n",
              " '/content/gdrive/MyDrive/Colab_Notebooks/Fire_ImageDataSet/Neutral/N_image_126.jpg',\n",
              " '/content/gdrive/MyDrive/Colab_Notebooks/Fire_ImageDataSet/Neutral/N_image_128.jpg',\n",
              " '/content/gdrive/MyDrive/Colab_Notebooks/Fire_ImageDataSet/Neutral/N_image_127.jpg',\n",
              " '/content/gdrive/MyDrive/Colab_Notebooks/Fire_ImageDataSet/Neutral/N_image_125.jpg',\n",
              " '/content/gdrive/MyDrive/Colab_Notebooks/Fire_ImageDataSet/Neutral/N_image_448.jpg',\n",
              " '/content/gdrive/MyDrive/Colab_Notebooks/Fire_ImageDataSet/Neutral/N_image_134.jpg',\n",
              " '/content/gdrive/MyDrive/Colab_Notebooks/Fire_ImageDataSet/Neutral/N_image_455.jpg',\n",
              " '/content/gdrive/MyDrive/Colab_Notebooks/Fire_ImageDataSet/Neutral/N_image_447.jpg',\n",
              " '/content/gdrive/MyDrive/Colab_Notebooks/Fire_ImageDataSet/Neutral/N_image_445.jpg',\n",
              " '/content/gdrive/MyDrive/Colab_Notebooks/Fire_ImageDataSet/Neutral/N_image_124.jpg',\n",
              " '/content/gdrive/MyDrive/Colab_Notebooks/Fire_ImageDataSet/Neutral/N_image_123.jpg',\n",
              " '/content/gdrive/MyDrive/Colab_Notebooks/Fire_ImageDataSet/Neutral/N_image_122.jpg',\n",
              " '/content/gdrive/MyDrive/Colab_Notebooks/Fire_ImageDataSet/Neutral/N_image_121.jpg',\n",
              " '/content/gdrive/MyDrive/Colab_Notebooks/Fire_ImageDataSet/Neutral/N_image_120.jpg',\n",
              " '/content/gdrive/MyDrive/Colab_Notebooks/Fire_ImageDataSet/Neutral/N_image_12.jpg',\n",
              " '/content/gdrive/MyDrive/Colab_Notebooks/Fire_ImageDataSet/Neutral/N_image_117.jpg',\n",
              " '/content/gdrive/MyDrive/Colab_Notebooks/Fire_ImageDataSet/Neutral/N_image_119.jpg',\n",
              " '/content/gdrive/MyDrive/Colab_Notebooks/Fire_ImageDataSet/Neutral/N_image_118.jpg',\n",
              " '/content/gdrive/MyDrive/Colab_Notebooks/Fire_ImageDataSet/Neutral/N_image_446.jpg',\n",
              " '/content/gdrive/MyDrive/Colab_Notebooks/Fire_ImageDataSet/Neutral/N_image_107.jpg',\n",
              " '/content/gdrive/MyDrive/Colab_Notebooks/Fire_ImageDataSet/Neutral/N_image_109.jpg',\n",
              " '/content/gdrive/MyDrive/Colab_Notebooks/Fire_ImageDataSet/Neutral/N_image_113.jpg',\n",
              " '/content/gdrive/MyDrive/Colab_Notebooks/Fire_ImageDataSet/Neutral/N_image_114.jpg',\n",
              " '/content/gdrive/MyDrive/Colab_Notebooks/Fire_ImageDataSet/Neutral/N_image_115.jpg',\n",
              " '/content/gdrive/MyDrive/Colab_Notebooks/Fire_ImageDataSet/Neutral/N_image_112.jpg',\n",
              " '/content/gdrive/MyDrive/Colab_Notebooks/Fire_ImageDataSet/Neutral/N_image_11.jpg',\n",
              " '/content/gdrive/MyDrive/Colab_Notebooks/Fire_ImageDataSet/Neutral/N_image_108.jpg',\n",
              " '/content/gdrive/MyDrive/Colab_Notebooks/Fire_ImageDataSet/Neutral/N_image_111.jpg',\n",
              " '/content/gdrive/MyDrive/Colab_Notebooks/Fire_ImageDataSet/Neutral/N_image_110.jpg',\n",
              " '/content/gdrive/MyDrive/Colab_Notebooks/Fire_ImageDataSet/Neutral/N_image_444.jpg',\n",
              " '/content/gdrive/MyDrive/Colab_Notebooks/Fire_ImageDataSet/Neutral/N_image_116.jpg',\n",
              " '/content/gdrive/MyDrive/Colab_Notebooks/Fire_ImageDataSet/Neutral/N_image_432.jpg',\n",
              " '/content/gdrive/MyDrive/Colab_Notebooks/Fire_ImageDataSet/Neutral/N_image_406.jpg',\n",
              " '/content/gdrive/MyDrive/Colab_Notebooks/Fire_ImageDataSet/Neutral/N_image_431.jpg',\n",
              " '/content/gdrive/MyDrive/Colab_Notebooks/Fire_ImageDataSet/Neutral/N_image_0.jpg',\n",
              " '/content/gdrive/MyDrive/Colab_Notebooks/Fire_ImageDataSet/Neutral/N_image_104.jpg',\n",
              " '/content/gdrive/MyDrive/Colab_Notebooks/Fire_ImageDataSet/Neutral/N_image_101.jpg',\n",
              " '/content/gdrive/MyDrive/Colab_Notebooks/Fire_ImageDataSet/Neutral/N_image_105.jpg',\n",
              " '/content/gdrive/MyDrive/Colab_Notebooks/Fire_ImageDataSet/Neutral/N_image_103.jpg',\n",
              " '/content/gdrive/MyDrive/Colab_Notebooks/Fire_ImageDataSet/Neutral/N_image_102.jpg',\n",
              " '/content/gdrive/MyDrive/Colab_Notebooks/Fire_ImageDataSet/Neutral/N_image_106.jpg',\n",
              " '/content/gdrive/MyDrive/Colab_Notebooks/Fire_ImageDataSet/Neutral/N_image_100.jpg',\n",
              " '/content/gdrive/MyDrive/Colab_Notebooks/Fire_ImageDataSet/Neutral/N_image_10.jpg',\n",
              " '/content/gdrive/MyDrive/Colab_Notebooks/Fire_ImageDataSet/Neutral/N_image_1.jpg',\n",
              " '/content/gdrive/MyDrive/Colab_Notebooks/Fire_ImageDataSet/Neutral/N_image_851.jpg',\n",
              " '/content/gdrive/MyDrive/Colab_Notebooks/Fire_ImageDataSet/Neutral/N_image_224.jpg',\n",
              " '/content/gdrive/MyDrive/Colab_Notebooks/Fire_ImageDataSet/Neutral/N_image_222.jpg',\n",
              " '/content/gdrive/MyDrive/Colab_Notebooks/Fire_ImageDataSet/Neutral/N_image_221.jpg',\n",
              " '/content/gdrive/MyDrive/Colab_Notebooks/Fire_ImageDataSet/Neutral/N_image_223.jpg',\n",
              " '/content/gdrive/MyDrive/Colab_Notebooks/Fire_ImageDataSet/Neutral/N_image_220.jpg',\n",
              " '/content/gdrive/MyDrive/Colab_Notebooks/Fire_ImageDataSet/Neutral/N_image_217.jpg',\n",
              " '/content/gdrive/MyDrive/Colab_Notebooks/Fire_ImageDataSet/Neutral/N_image_216.jpg',\n",
              " '/content/gdrive/MyDrive/Colab_Notebooks/Fire_ImageDataSet/Neutral/N_image_219.jpg',\n",
              " '/content/gdrive/MyDrive/Colab_Notebooks/Fire_ImageDataSet/Neutral/N_image_22.jpg',\n",
              " '/content/gdrive/MyDrive/Colab_Notebooks/Fire_ImageDataSet/Neutral/N_image_218.jpg',\n",
              " '/content/gdrive/MyDrive/Colab_Notebooks/Fire_ImageDataSet/Neutral/N_image_850.jpg',\n",
              " '/content/gdrive/MyDrive/Colab_Notebooks/Fire_ImageDataSet/Neutral/N_image_849.jpg',\n",
              " '/content/gdrive/MyDrive/Colab_Notebooks/Fire_ImageDataSet/Neutral/N_image_215.jpg',\n",
              " '/content/gdrive/MyDrive/Colab_Notebooks/Fire_ImageDataSet/Neutral/N_image_214.jpg',\n",
              " '/content/gdrive/MyDrive/Colab_Notebooks/Fire_ImageDataSet/Neutral/N_image_213.jpg',\n",
              " '/content/gdrive/MyDrive/Colab_Notebooks/Fire_ImageDataSet/Neutral/N_image_210.jpg',\n",
              " '/content/gdrive/MyDrive/Colab_Notebooks/Fire_ImageDataSet/Neutral/N_image_211.jpg',\n",
              " '/content/gdrive/MyDrive/Colab_Notebooks/Fire_ImageDataSet/Neutral/N_image_212.jpg',\n",
              " '/content/gdrive/MyDrive/Colab_Notebooks/Fire_ImageDataSet/Neutral/N_image_21.jpg',\n",
              " '/content/gdrive/MyDrive/Colab_Notebooks/Fire_ImageDataSet/Neutral/N_image_208.jpg',\n",
              " '/content/gdrive/MyDrive/Colab_Notebooks/Fire_ImageDataSet/Neutral/N_image_207.jpg',\n",
              " '/content/gdrive/MyDrive/Colab_Notebooks/Fire_ImageDataSet/Neutral/N_image_209.jpg',\n",
              " '/content/gdrive/MyDrive/Colab_Notebooks/Fire_ImageDataSet/Neutral/N_image_848.jpg',\n",
              " '/content/gdrive/MyDrive/Colab_Notebooks/Fire_ImageDataSet/Neutral/N_image_847.jpg',\n",
              " '/content/gdrive/MyDrive/Colab_Notebooks/Fire_ImageDataSet/Neutral/N_image_206.jpg',\n",
              " '/content/gdrive/MyDrive/Colab_Notebooks/Fire_ImageDataSet/Neutral/N_image_202.jpg',\n",
              " '/content/gdrive/MyDrive/Colab_Notebooks/Fire_ImageDataSet/Neutral/N_image_200.jpg',\n",
              " '/content/gdrive/MyDrive/Colab_Notebooks/Fire_ImageDataSet/Neutral/N_image_204.jpg',\n",
              " '/content/gdrive/MyDrive/Colab_Notebooks/Fire_ImageDataSet/Neutral/N_image_205.jpg',\n",
              " '/content/gdrive/MyDrive/Colab_Notebooks/Fire_ImageDataSet/Neutral/N_image_201.jpg',\n",
              " '/content/gdrive/MyDrive/Colab_Notebooks/Fire_ImageDataSet/Neutral/N_image_203.jpg',\n",
              " '/content/gdrive/MyDrive/Colab_Notebooks/Fire_ImageDataSet/Neutral/N_image_20.jpg',\n",
              " '/content/gdrive/MyDrive/Colab_Notebooks/Fire_ImageDataSet/Neutral/N_image_2.jpg',\n",
              " '/content/gdrive/MyDrive/Colab_Notebooks/Fire_ImageDataSet/Neutral/N_image_199.jpg',\n",
              " '/content/gdrive/MyDrive/Colab_Notebooks/Fire_ImageDataSet/Neutral/N_image_846.jpg',\n",
              " '/content/gdrive/MyDrive/Colab_Notebooks/Fire_ImageDataSet/Neutral/N_image_845.jpg',\n",
              " '/content/gdrive/MyDrive/Colab_Notebooks/Fire_ImageDataSet/Neutral/N_image_198.jpg',\n",
              " '/content/gdrive/MyDrive/Colab_Notebooks/Fire_ImageDataSet/Neutral/N_image_844.jpg',\n",
              " '/content/gdrive/MyDrive/Colab_Notebooks/Fire_ImageDataSet/Neutral/N_image_196.jpg',\n",
              " '/content/gdrive/MyDrive/Colab_Notebooks/Fire_ImageDataSet/Neutral/N_image_195.jpg',\n",
              " '/content/gdrive/MyDrive/Colab_Notebooks/Fire_ImageDataSet/Neutral/N_image_197.jpg',\n",
              " '/content/gdrive/MyDrive/Colab_Notebooks/Fire_ImageDataSet/Neutral/N_image_194.jpg',\n",
              " '/content/gdrive/MyDrive/Colab_Notebooks/Fire_ImageDataSet/Neutral/N_image_190.jpg',\n",
              " '/content/gdrive/MyDrive/Colab_Notebooks/Fire_ImageDataSet/Neutral/N_image_191.jpg',\n",
              " '/content/gdrive/MyDrive/Colab_Notebooks/Fire_ImageDataSet/Neutral/N_image_192.jpg',\n",
              " '/content/gdrive/MyDrive/Colab_Notebooks/Fire_ImageDataSet/Neutral/N_image_193.jpg',\n",
              " '/content/gdrive/MyDrive/Colab_Notebooks/Fire_ImageDataSet/Neutral/N_image_19.jpg',\n",
              " '/content/gdrive/MyDrive/Colab_Notebooks/Fire_ImageDataSet/Neutral/N_image_189.jpg',\n",
              " '/content/gdrive/MyDrive/Colab_Notebooks/Fire_ImageDataSet/Neutral/N_image_78.jpg',\n",
              " '/content/gdrive/MyDrive/Colab_Notebooks/Fire_ImageDataSet/Neutral/N_image_185.jpg',\n",
              " '/content/gdrive/MyDrive/Colab_Notebooks/Fire_ImageDataSet/Neutral/N_image_188.jpg',\n",
              " '/content/gdrive/MyDrive/Colab_Notebooks/Fire_ImageDataSet/Neutral/N_image_187.jpg',\n",
              " '/content/gdrive/MyDrive/Colab_Notebooks/Fire_ImageDataSet/Neutral/N_image_186.jpg',\n",
              " '/content/gdrive/MyDrive/Colab_Notebooks/Fire_ImageDataSet/Neutral/N_image_184.jpg',\n",
              " '/content/gdrive/MyDrive/Colab_Notebooks/Fire_ImageDataSet/Neutral/N_image_183.jpg',\n",
              " '/content/gdrive/MyDrive/Colab_Notebooks/Fire_ImageDataSet/Neutral/N_image_182.jpg',\n",
              " '/content/gdrive/MyDrive/Colab_Notebooks/Fire_ImageDataSet/Neutral/N_image_180.jpg',\n",
              " '/content/gdrive/MyDrive/Colab_Notebooks/Fire_ImageDataSet/Neutral/N_image_181.jpg',\n",
              " '/content/gdrive/MyDrive/Colab_Notebooks/Fire_ImageDataSet/Neutral/N_image_730.jpg',\n",
              " '/content/gdrive/MyDrive/Colab_Notebooks/Fire_ImageDataSet/Neutral/N_image_18.jpg',\n",
              " '/content/gdrive/MyDrive/Colab_Notebooks/Fire_ImageDataSet/Neutral/N_image_724.jpg',\n",
              " '/content/gdrive/MyDrive/Colab_Notebooks/Fire_ImageDataSet/Neutral/N_image_175.jpg',\n",
              " '/content/gdrive/MyDrive/Colab_Notebooks/Fire_ImageDataSet/Neutral/N_image_177.jpg',\n",
              " '/content/gdrive/MyDrive/Colab_Notebooks/Fire_ImageDataSet/Neutral/N_image_179.jpg',\n",
              " '/content/gdrive/MyDrive/Colab_Notebooks/Fire_ImageDataSet/Neutral/N_image_176.jpg',\n",
              " '/content/gdrive/MyDrive/Colab_Notebooks/Fire_ImageDataSet/Neutral/N_image_178.jpg',\n",
              " '/content/gdrive/MyDrive/Colab_Notebooks/Fire_ImageDataSet/Neutral/N_image_174.jpg',\n",
              " '/content/gdrive/MyDrive/Colab_Notebooks/Fire_ImageDataSet/Neutral/N_image_171.jpg',\n",
              " '/content/gdrive/MyDrive/Colab_Notebooks/Fire_ImageDataSet/Neutral/N_image_172.jpg',\n",
              " '/content/gdrive/MyDrive/Colab_Notebooks/Fire_ImageDataSet/Neutral/N_image_173.jpg',\n",
              " '/content/gdrive/MyDrive/Colab_Notebooks/Fire_ImageDataSet/Neutral/N_image_570.jpg',\n",
              " '/content/gdrive/MyDrive/Colab_Notebooks/Fire_ImageDataSet/Neutral/N_image_170.jpg',\n",
              " '/content/gdrive/MyDrive/Colab_Notebooks/Fire_ImageDataSet/Neutral/N_image_580.jpg',\n",
              " '/content/gdrive/MyDrive/Colab_Notebooks/Fire_ImageDataSet/Neutral/N_image_277.jpg',\n",
              " '/content/gdrive/MyDrive/Colab_Notebooks/Fire_ImageDataSet/Neutral/N_image_276.jpg',\n",
              " '/content/gdrive/MyDrive/Colab_Notebooks/Fire_ImageDataSet/Neutral/N_image_275.jpg',\n",
              " '/content/gdrive/MyDrive/Colab_Notebooks/Fire_ImageDataSet/Neutral/N_image_274.jpg',\n",
              " '/content/gdrive/MyDrive/Colab_Notebooks/Fire_ImageDataSet/Neutral/N_image_278.jpg',\n",
              " '/content/gdrive/MyDrive/Colab_Notebooks/Fire_ImageDataSet/Neutral/N_image_273.jpg',\n",
              " '/content/gdrive/MyDrive/Colab_Notebooks/Fire_ImageDataSet/Neutral/N_image_272.jpg',\n",
              " '/content/gdrive/MyDrive/Colab_Notebooks/Fire_ImageDataSet/Neutral/N_image_271.jpg',\n",
              " '/content/gdrive/MyDrive/Colab_Notebooks/Fire_ImageDataSet/Neutral/N_image_270.jpg',\n",
              " '/content/gdrive/MyDrive/Colab_Notebooks/Fire_ImageDataSet/Neutral/N_image_861.jpg',\n",
              " '/content/gdrive/MyDrive/Colab_Notebooks/Fire_ImageDataSet/Neutral/N_image_27.jpg',\n",
              " '/content/gdrive/MyDrive/Colab_Notebooks/Fire_ImageDataSet/Neutral/N_image_860.jpg',\n",
              " '/content/gdrive/MyDrive/Colab_Notebooks/Fire_ImageDataSet/Neutral/N_image_263.jpg',\n",
              " '/content/gdrive/MyDrive/Colab_Notebooks/Fire_ImageDataSet/Neutral/N_image_268.jpg',\n",
              " '/content/gdrive/MyDrive/Colab_Notebooks/Fire_ImageDataSet/Neutral/N_image_269.jpg',\n",
              " '/content/gdrive/MyDrive/Colab_Notebooks/Fire_ImageDataSet/Neutral/N_image_267.jpg',\n",
              " '/content/gdrive/MyDrive/Colab_Notebooks/Fire_ImageDataSet/Neutral/N_image_265.jpg',\n",
              " '/content/gdrive/MyDrive/Colab_Notebooks/Fire_ImageDataSet/Neutral/N_image_264.jpg',\n",
              " '/content/gdrive/MyDrive/Colab_Notebooks/Fire_ImageDataSet/Neutral/N_image_266.jpg',\n",
              " '/content/gdrive/MyDrive/Colab_Notebooks/Fire_ImageDataSet/Neutral/N_image_262.jpg',\n",
              " '/content/gdrive/MyDrive/Colab_Notebooks/Fire_ImageDataSet/Neutral/N_image_261.jpg',\n",
              " '/content/gdrive/MyDrive/Colab_Notebooks/Fire_ImageDataSet/Neutral/N_image_859.jpg',\n",
              " '/content/gdrive/MyDrive/Colab_Notebooks/Fire_ImageDataSet/Neutral/N_image_260.jpg',\n",
              " '/content/gdrive/MyDrive/Colab_Notebooks/Fire_ImageDataSet/Neutral/N_image_858.jpg',\n",
              " '/content/gdrive/MyDrive/Colab_Notebooks/Fire_ImageDataSet/Neutral/N_image_258.jpg',\n",
              " '/content/gdrive/MyDrive/Colab_Notebooks/Fire_ImageDataSet/Neutral/N_image_259.jpg',\n",
              " '/content/gdrive/MyDrive/Colab_Notebooks/Fire_ImageDataSet/Neutral/N_image_26.jpg',\n",
              " '/content/gdrive/MyDrive/Colab_Notebooks/Fire_ImageDataSet/Neutral/N_image_257.jpg',\n",
              " '/content/gdrive/MyDrive/Colab_Notebooks/Fire_ImageDataSet/Neutral/N_image_256.jpg',\n",
              " '/content/gdrive/MyDrive/Colab_Notebooks/Fire_ImageDataSet/Neutral/N_image_254.jpg',\n",
              " '/content/gdrive/MyDrive/Colab_Notebooks/Fire_ImageDataSet/Neutral/N_image_253.jpg',\n",
              " '/content/gdrive/MyDrive/Colab_Notebooks/Fire_ImageDataSet/Neutral/N_image_255.jpg',\n",
              " '/content/gdrive/MyDrive/Colab_Notebooks/Fire_ImageDataSet/Neutral/N_image_252.jpg',\n",
              " '/content/gdrive/MyDrive/Colab_Notebooks/Fire_ImageDataSet/Neutral/N_image_857.jpg',\n",
              " '/content/gdrive/MyDrive/Colab_Notebooks/Fire_ImageDataSet/Neutral/N_image_251.jpg',\n",
              " '/content/gdrive/MyDrive/Colab_Notebooks/Fire_ImageDataSet/Neutral/N_image_856.jpg',\n",
              " '/content/gdrive/MyDrive/Colab_Notebooks/Fire_ImageDataSet/Neutral/N_image_25.jpg',\n",
              " '/content/gdrive/MyDrive/Colab_Notebooks/Fire_ImageDataSet/Neutral/N_image_248.jpg',\n",
              " '/content/gdrive/MyDrive/Colab_Notebooks/Fire_ImageDataSet/Neutral/N_image_249.jpg',\n",
              " '/content/gdrive/MyDrive/Colab_Notebooks/Fire_ImageDataSet/Neutral/N_image_250.jpg',\n",
              " '/content/gdrive/MyDrive/Colab_Notebooks/Fire_ImageDataSet/Neutral/N_image_246.jpg',\n",
              " '/content/gdrive/MyDrive/Colab_Notebooks/Fire_ImageDataSet/Neutral/N_image_247.jpg',\n",
              " '/content/gdrive/MyDrive/Colab_Notebooks/Fire_ImageDataSet/Neutral/N_image_245.jpg',\n",
              " '/content/gdrive/MyDrive/Colab_Notebooks/Fire_ImageDataSet/Neutral/N_image_244.jpg',\n",
              " '/content/gdrive/MyDrive/Colab_Notebooks/Fire_ImageDataSet/Neutral/N_image_243.jpg',\n",
              " '/content/gdrive/MyDrive/Colab_Notebooks/Fire_ImageDataSet/Neutral/N_image_855.jpg',\n",
              " '/content/gdrive/MyDrive/Colab_Notebooks/Fire_ImageDataSet/Neutral/N_image_242.jpg',\n",
              " '/content/gdrive/MyDrive/Colab_Notebooks/Fire_ImageDataSet/Neutral/N_image_241.jpg',\n",
              " '/content/gdrive/MyDrive/Colab_Notebooks/Fire_ImageDataSet/Neutral/N_image_24.jpg',\n",
              " '/content/gdrive/MyDrive/Colab_Notebooks/Fire_ImageDataSet/Neutral/N_image_240.jpg',\n",
              " '/content/gdrive/MyDrive/Colab_Notebooks/Fire_ImageDataSet/Neutral/N_image_238.jpg',\n",
              " '/content/gdrive/MyDrive/Colab_Notebooks/Fire_ImageDataSet/Neutral/N_image_235.jpg',\n",
              " '/content/gdrive/MyDrive/Colab_Notebooks/Fire_ImageDataSet/Neutral/N_image_239.jpg',\n",
              " '/content/gdrive/MyDrive/Colab_Notebooks/Fire_ImageDataSet/Neutral/N_image_234.jpg',\n",
              " '/content/gdrive/MyDrive/Colab_Notebooks/Fire_ImageDataSet/Neutral/N_image_237.jpg',\n",
              " '/content/gdrive/MyDrive/Colab_Notebooks/Fire_ImageDataSet/Neutral/N_image_236.jpg',\n",
              " '/content/gdrive/MyDrive/Colab_Notebooks/Fire_ImageDataSet/Neutral/N_image_854.jpg',\n",
              " '/content/gdrive/MyDrive/Colab_Notebooks/Fire_ImageDataSet/Neutral/N_image_853.jpg',\n",
              " '/content/gdrive/MyDrive/Colab_Notebooks/Fire_ImageDataSet/Neutral/N_image_233.jpg',\n",
              " '/content/gdrive/MyDrive/Colab_Notebooks/Fire_ImageDataSet/Neutral/N_image_852.jpg',\n",
              " '/content/gdrive/MyDrive/Colab_Notebooks/Fire_ImageDataSet/Neutral/N_image_232.jpg',\n",
              " '/content/gdrive/MyDrive/Colab_Notebooks/Fire_ImageDataSet/Neutral/N_image_231.jpg',\n",
              " '/content/gdrive/MyDrive/Colab_Notebooks/Fire_ImageDataSet/Neutral/N_image_230.jpg',\n",
              " '/content/gdrive/MyDrive/Colab_Notebooks/Fire_ImageDataSet/Neutral/N_image_23.jpg',\n",
              " '/content/gdrive/MyDrive/Colab_Notebooks/Fire_ImageDataSet/Neutral/N_image_229.jpg',\n",
              " '/content/gdrive/MyDrive/Colab_Notebooks/Fire_ImageDataSet/Neutral/N_image_225.jpg',\n",
              " '/content/gdrive/MyDrive/Colab_Notebooks/Fire_ImageDataSet/Neutral/N_image_228.jpg',\n",
              " '/content/gdrive/MyDrive/Colab_Notebooks/Fire_ImageDataSet/Neutral/N_image_227.jpg',\n",
              " '/content/gdrive/MyDrive/Colab_Notebooks/Fire_ImageDataSet/Neutral/N_image_226.jpg',\n",
              " '/content/gdrive/MyDrive/Colab_Notebooks/Fire_ImageDataSet/Neutral/N_image_872.jpg',\n",
              " '/content/gdrive/MyDrive/Colab_Notebooks/Fire_ImageDataSet/Neutral/N_image_871.jpg',\n",
              " '/content/gdrive/MyDrive/Colab_Notebooks/Fire_ImageDataSet/Neutral/N_image_322.jpg',\n",
              " '/content/gdrive/MyDrive/Colab_Notebooks/Fire_ImageDataSet/Neutral/N_image_321.jpg',\n",
              " '/content/gdrive/MyDrive/Colab_Notebooks/Fire_ImageDataSet/Neutral/N_image_318.jpg',\n",
              " '/content/gdrive/MyDrive/Colab_Notebooks/Fire_ImageDataSet/Neutral/N_image_320.jpg',\n",
              " '/content/gdrive/MyDrive/Colab_Notebooks/Fire_ImageDataSet/Neutral/N_image_32.jpg',\n",
              " '/content/gdrive/MyDrive/Colab_Notebooks/Fire_ImageDataSet/Neutral/N_image_317.jpg',\n",
              " '/content/gdrive/MyDrive/Colab_Notebooks/Fire_ImageDataSet/Neutral/N_image_319.jpg',\n",
              " '/content/gdrive/MyDrive/Colab_Notebooks/Fire_ImageDataSet/Neutral/N_image_316.jpg',\n",
              " '/content/gdrive/MyDrive/Colab_Notebooks/Fire_ImageDataSet/Neutral/N_image_315.jpg',\n",
              " '/content/gdrive/MyDrive/Colab_Notebooks/Fire_ImageDataSet/Neutral/N_image_870.jpg',\n",
              " '/content/gdrive/MyDrive/Colab_Notebooks/Fire_ImageDataSet/Neutral/N_image_314.jpg',\n",
              " '/content/gdrive/MyDrive/Colab_Notebooks/Fire_ImageDataSet/Neutral/N_image_869.jpg',\n",
              " '/content/gdrive/MyDrive/Colab_Notebooks/Fire_ImageDataSet/Neutral/N_image_31.jpg',\n",
              " '/content/gdrive/MyDrive/Colab_Notebooks/Fire_ImageDataSet/Neutral/N_image_312.jpg',\n",
              " '/content/gdrive/MyDrive/Colab_Notebooks/Fire_ImageDataSet/Neutral/N_image_306.jpg',\n",
              " '/content/gdrive/MyDrive/Colab_Notebooks/Fire_ImageDataSet/Neutral/N_image_313.jpg',\n",
              " '/content/gdrive/MyDrive/Colab_Notebooks/Fire_ImageDataSet/Neutral/N_image_310.jpg',\n",
              " '/content/gdrive/MyDrive/Colab_Notebooks/Fire_ImageDataSet/Neutral/N_image_309.jpg',\n",
              " '/content/gdrive/MyDrive/Colab_Notebooks/Fire_ImageDataSet/Neutral/N_image_311.jpg',\n",
              " '/content/gdrive/MyDrive/Colab_Notebooks/Fire_ImageDataSet/Neutral/N_image_308.jpg',\n",
              " '/content/gdrive/MyDrive/Colab_Notebooks/Fire_ImageDataSet/Neutral/N_image_307.jpg',\n",
              " '/content/gdrive/MyDrive/Colab_Notebooks/Fire_ImageDataSet/Neutral/N_image_868.jpg',\n",
              " '/content/gdrive/MyDrive/Colab_Notebooks/Fire_ImageDataSet/Neutral/N_image_305.jpg',\n",
              " '/content/gdrive/MyDrive/Colab_Notebooks/Fire_ImageDataSet/Neutral/N_image_303.jpg',\n",
              " '/content/gdrive/MyDrive/Colab_Notebooks/Fire_ImageDataSet/Neutral/N_image_304.jpg',\n",
              " '/content/gdrive/MyDrive/Colab_Notebooks/Fire_ImageDataSet/Neutral/N_image_302.jpg',\n",
              " '/content/gdrive/MyDrive/Colab_Notebooks/Fire_ImageDataSet/Neutral/N_image_300.jpg',\n",
              " '/content/gdrive/MyDrive/Colab_Notebooks/Fire_ImageDataSet/Neutral/N_image_301.jpg',\n",
              " '/content/gdrive/MyDrive/Colab_Notebooks/Fire_ImageDataSet/Neutral/N_image_30.jpg',\n",
              " '/content/gdrive/MyDrive/Colab_Notebooks/Fire_ImageDataSet/Neutral/N_image_299.jpg',\n",
              " '/content/gdrive/MyDrive/Colab_Notebooks/Fire_ImageDataSet/Neutral/N_image_3.jpg',\n",
              " '/content/gdrive/MyDrive/Colab_Notebooks/Fire_ImageDataSet/Neutral/N_image_298.jpg',\n",
              " '/content/gdrive/MyDrive/Colab_Notebooks/Fire_ImageDataSet/Neutral/N_image_867.jpg',\n",
              " '/content/gdrive/MyDrive/Colab_Notebooks/Fire_ImageDataSet/Neutral/N_image_297.jpg',\n",
              " '/content/gdrive/MyDrive/Colab_Notebooks/Fire_ImageDataSet/Neutral/N_image_866.jpg',\n",
              " '/content/gdrive/MyDrive/Colab_Notebooks/Fire_ImageDataSet/Neutral/N_image_865.jpg',\n",
              " '/content/gdrive/MyDrive/Colab_Notebooks/Fire_ImageDataSet/Neutral/N_image_296.jpg',\n",
              " '/content/gdrive/MyDrive/Colab_Notebooks/Fire_ImageDataSet/Neutral/N_image_295.jpg',\n",
              " '/content/gdrive/MyDrive/Colab_Notebooks/Fire_ImageDataSet/Neutral/N_image_293.jpg',\n",
              " '/content/gdrive/MyDrive/Colab_Notebooks/Fire_ImageDataSet/Neutral/N_image_292.jpg',\n",
              " '/content/gdrive/MyDrive/Colab_Notebooks/Fire_ImageDataSet/Neutral/N_image_294.jpg',\n",
              " '/content/gdrive/MyDrive/Colab_Notebooks/Fire_ImageDataSet/Neutral/N_image_291.jpg',\n",
              " '/content/gdrive/MyDrive/Colab_Notebooks/Fire_ImageDataSet/Neutral/N_image_29.jpg',\n",
              " '/content/gdrive/MyDrive/Colab_Notebooks/Fire_ImageDataSet/Neutral/N_image_290.jpg',\n",
              " '/content/gdrive/MyDrive/Colab_Notebooks/Fire_ImageDataSet/Neutral/N_image_289.jpg',\n",
              " '/content/gdrive/MyDrive/Colab_Notebooks/Fire_ImageDataSet/Neutral/N_image_288.jpg',\n",
              " '/content/gdrive/MyDrive/Colab_Notebooks/Fire_ImageDataSet/Neutral/N_image_864.jpg',\n",
              " '/content/gdrive/MyDrive/Colab_Notebooks/Fire_ImageDataSet/Neutral/N_image_863.jpg',\n",
              " '/content/gdrive/MyDrive/Colab_Notebooks/Fire_ImageDataSet/Neutral/N_image_287.jpg',\n",
              " '/content/gdrive/MyDrive/Colab_Notebooks/Fire_ImageDataSet/Neutral/N_image_285.jpg',\n",
              " '/content/gdrive/MyDrive/Colab_Notebooks/Fire_ImageDataSet/Neutral/N_image_286.jpg',\n",
              " '/content/gdrive/MyDrive/Colab_Notebooks/Fire_ImageDataSet/Neutral/N_image_283.jpg',\n",
              " '/content/gdrive/MyDrive/Colab_Notebooks/Fire_ImageDataSet/Neutral/N_image_284.jpg',\n",
              " '/content/gdrive/MyDrive/Colab_Notebooks/Fire_ImageDataSet/Neutral/N_image_282.jpg',\n",
              " '/content/gdrive/MyDrive/Colab_Notebooks/Fire_ImageDataSet/Neutral/N_image_281.jpg',\n",
              " '/content/gdrive/MyDrive/Colab_Notebooks/Fire_ImageDataSet/Neutral/N_image_28.jpg',\n",
              " '/content/gdrive/MyDrive/Colab_Notebooks/Fire_ImageDataSet/Neutral/N_image_280.jpg',\n",
              " '/content/gdrive/MyDrive/Colab_Notebooks/Fire_ImageDataSet/Neutral/N_image_862.jpg',\n",
              " '/content/gdrive/MyDrive/Colab_Notebooks/Fire_ImageDataSet/Neutral/N_image_279.jpg',\n",
              " '/content/gdrive/MyDrive/Colab_Notebooks/Fire_ImageDataSet/Neutral/N_image_883.jpg',\n",
              " '/content/gdrive/MyDrive/Colab_Notebooks/Fire_ImageDataSet/Neutral/N_image_882.jpg',\n",
              " '/content/gdrive/MyDrive/Colab_Notebooks/Fire_ImageDataSet/Neutral/N_image_881.jpg',\n",
              " '/content/gdrive/MyDrive/Colab_Notebooks/Fire_ImageDataSet/Neutral/N_image_37.jpg',\n",
              " '/content/gdrive/MyDrive/Colab_Notebooks/Fire_ImageDataSet/Neutral/N_image_369.jpg',\n",
              " '/content/gdrive/MyDrive/Colab_Notebooks/Fire_ImageDataSet/Neutral/N_image_364.jpg',\n",
              " '/content/gdrive/MyDrive/Colab_Notebooks/Fire_ImageDataSet/Neutral/N_image_363.jpg',\n",
              " '/content/gdrive/MyDrive/Colab_Notebooks/Fire_ImageDataSet/Neutral/N_image_367.jpg',\n",
              " '/content/gdrive/MyDrive/Colab_Notebooks/Fire_ImageDataSet/Neutral/N_image_366.jpg',\n",
              " '/content/gdrive/MyDrive/Colab_Notebooks/Fire_ImageDataSet/Neutral/N_image_368.jpg',\n",
              " '/content/gdrive/MyDrive/Colab_Notebooks/Fire_ImageDataSet/Neutral/N_image_365.jpg',\n",
              " '/content/gdrive/MyDrive/Colab_Notebooks/Fire_ImageDataSet/Neutral/N_image_362.jpg',\n",
              " '/content/gdrive/MyDrive/Colab_Notebooks/Fire_ImageDataSet/Neutral/N_image_361.jpg',\n",
              " '/content/gdrive/MyDrive/Colab_Notebooks/Fire_ImageDataSet/Neutral/N_image_880.jpg',\n",
              " '/content/gdrive/MyDrive/Colab_Notebooks/Fire_ImageDataSet/Neutral/N_image_360.jpg',\n",
              " '/content/gdrive/MyDrive/Colab_Notebooks/Fire_ImageDataSet/Neutral/N_image_879.jpg',\n",
              " '/content/gdrive/MyDrive/Colab_Notebooks/Fire_ImageDataSet/Neutral/N_image_355.jpg',\n",
              " '/content/gdrive/MyDrive/Colab_Notebooks/Fire_ImageDataSet/Neutral/N_image_354.jpg',\n",
              " '/content/gdrive/MyDrive/Colab_Notebooks/Fire_ImageDataSet/Neutral/N_image_36.jpg',\n",
              " '/content/gdrive/MyDrive/Colab_Notebooks/Fire_ImageDataSet/Neutral/N_image_358.jpg',\n",
              " '/content/gdrive/MyDrive/Colab_Notebooks/Fire_ImageDataSet/Neutral/N_image_359.jpg',\n",
              " '/content/gdrive/MyDrive/Colab_Notebooks/Fire_ImageDataSet/Neutral/N_image_356.jpg',\n",
              " '/content/gdrive/MyDrive/Colab_Notebooks/Fire_ImageDataSet/Neutral/N_image_357.jpg',\n",
              " '/content/gdrive/MyDrive/Colab_Notebooks/Fire_ImageDataSet/Neutral/N_image_353.jpg',\n",
              " '/content/gdrive/MyDrive/Colab_Notebooks/Fire_ImageDataSet/Neutral/N_image_352.jpg',\n",
              " '/content/gdrive/MyDrive/Colab_Notebooks/Fire_ImageDataSet/Neutral/N_image_878.jpg',\n",
              " '/content/gdrive/MyDrive/Colab_Notebooks/Fire_ImageDataSet/Neutral/N_image_351.jpg',\n",
              " '/content/gdrive/MyDrive/Colab_Notebooks/Fire_ImageDataSet/Neutral/N_image_877.jpg',\n",
              " '/content/gdrive/MyDrive/Colab_Notebooks/Fire_ImageDataSet/Neutral/N_image_35.jpg',\n",
              " '/content/gdrive/MyDrive/Colab_Notebooks/Fire_ImageDataSet/Neutral/N_image_350.jpg',\n",
              " '/content/gdrive/MyDrive/Colab_Notebooks/Fire_ImageDataSet/Neutral/N_image_349.jpg',\n",
              " '/content/gdrive/MyDrive/Colab_Notebooks/Fire_ImageDataSet/Neutral/N_image_348.jpg',\n",
              " '/content/gdrive/MyDrive/Colab_Notebooks/Fire_ImageDataSet/Neutral/N_image_346.jpg',\n",
              " '/content/gdrive/MyDrive/Colab_Notebooks/Fire_ImageDataSet/Neutral/N_image_345.jpg',\n",
              " '/content/gdrive/MyDrive/Colab_Notebooks/Fire_ImageDataSet/Neutral/N_image_347.jpg',\n",
              " '/content/gdrive/MyDrive/Colab_Notebooks/Fire_ImageDataSet/Neutral/N_image_344.jpg',\n",
              " '/content/gdrive/MyDrive/Colab_Notebooks/Fire_ImageDataSet/Neutral/N_image_343.jpg',\n",
              " '/content/gdrive/MyDrive/Colab_Notebooks/Fire_ImageDataSet/Neutral/N_image_876.jpg',\n",
              " '/content/gdrive/MyDrive/Colab_Notebooks/Fire_ImageDataSet/Neutral/N_image_342.jpg',\n",
              " '/content/gdrive/MyDrive/Colab_Notebooks/Fire_ImageDataSet/Neutral/N_image_336.jpg',\n",
              " '/content/gdrive/MyDrive/Colab_Notebooks/Fire_ImageDataSet/Neutral/N_image_338.jpg',\n",
              " '/content/gdrive/MyDrive/Colab_Notebooks/Fire_ImageDataSet/Neutral/N_image_340.jpg',\n",
              " '/content/gdrive/MyDrive/Colab_Notebooks/Fire_ImageDataSet/Neutral/N_image_341.jpg',\n",
              " '/content/gdrive/MyDrive/Colab_Notebooks/Fire_ImageDataSet/Neutral/N_image_339.jpg',\n",
              " '/content/gdrive/MyDrive/Colab_Notebooks/Fire_ImageDataSet/Neutral/N_image_34.jpg',\n",
              " '/content/gdrive/MyDrive/Colab_Notebooks/Fire_ImageDataSet/Neutral/N_image_335.jpg',\n",
              " '/content/gdrive/MyDrive/Colab_Notebooks/Fire_ImageDataSet/Neutral/N_image_337.jpg',\n",
              " '/content/gdrive/MyDrive/Colab_Notebooks/Fire_ImageDataSet/Neutral/N_image_334.jpg',\n",
              " '/content/gdrive/MyDrive/Colab_Notebooks/Fire_ImageDataSet/Neutral/N_image_875.jpg',\n",
              " '/content/gdrive/MyDrive/Colab_Notebooks/Fire_ImageDataSet/Neutral/N_image_874.jpg',\n",
              " '/content/gdrive/MyDrive/Colab_Notebooks/Fire_ImageDataSet/Neutral/N_image_333.jpg',\n",
              " '/content/gdrive/MyDrive/Colab_Notebooks/Fire_ImageDataSet/Neutral/N_image_331.jpg',\n",
              " '/content/gdrive/MyDrive/Colab_Notebooks/Fire_ImageDataSet/Neutral/N_image_328.jpg',\n",
              " '/content/gdrive/MyDrive/Colab_Notebooks/Fire_ImageDataSet/Neutral/N_image_332.jpg',\n",
              " '/content/gdrive/MyDrive/Colab_Notebooks/Fire_ImageDataSet/Neutral/N_image_329.jpg',\n",
              " '/content/gdrive/MyDrive/Colab_Notebooks/Fire_ImageDataSet/Neutral/N_image_33.jpg',\n",
              " '/content/gdrive/MyDrive/Colab_Notebooks/Fire_ImageDataSet/Neutral/N_image_327.jpg',\n",
              " '/content/gdrive/MyDrive/Colab_Notebooks/Fire_ImageDataSet/Neutral/N_image_326.jpg',\n",
              " '/content/gdrive/MyDrive/Colab_Notebooks/Fire_ImageDataSet/Neutral/N_image_325.jpg',\n",
              " '/content/gdrive/MyDrive/Colab_Notebooks/Fire_ImageDataSet/Neutral/N_image_324.jpg',\n",
              " '/content/gdrive/MyDrive/Colab_Notebooks/Fire_ImageDataSet/Neutral/N_image_873.jpg',\n",
              " '/content/gdrive/MyDrive/Colab_Notebooks/Fire_ImageDataSet/Neutral/N_image_323.jpg',\n",
              " '/content/gdrive/MyDrive/Colab_Notebooks/Fire_ImageDataSet/Neutral/N_image_894.jpg',\n",
              " '/content/gdrive/MyDrive/Colab_Notebooks/Fire_ImageDataSet/Neutral/N_image_424.jpg',\n",
              " '/content/gdrive/MyDrive/Colab_Notebooks/Fire_ImageDataSet/Neutral/N_image_893.jpg',\n",
              " '/content/gdrive/MyDrive/Colab_Notebooks/Fire_ImageDataSet/Neutral/N_image_423.jpg',\n",
              " '/content/gdrive/MyDrive/Colab_Notebooks/Fire_ImageDataSet/Neutral/N_image_420.jpg',\n",
              " '/content/gdrive/MyDrive/Colab_Notebooks/Fire_ImageDataSet/Neutral/N_image_42.jpg',\n",
              " '/content/gdrive/MyDrive/Colab_Notebooks/Fire_ImageDataSet/Neutral/N_image_421.jpg',\n",
              " '/content/gdrive/MyDrive/Colab_Notebooks/Fire_ImageDataSet/Neutral/N_image_418.jpg',\n",
              " '/content/gdrive/MyDrive/Colab_Notebooks/Fire_ImageDataSet/Neutral/N_image_422.jpg',\n",
              " '/content/gdrive/MyDrive/Colab_Notebooks/Fire_ImageDataSet/Neutral/N_image_417.jpg',\n",
              " '/content/gdrive/MyDrive/Colab_Notebooks/Fire_ImageDataSet/Neutral/N_image_419.jpg',\n",
              " '/content/gdrive/MyDrive/Colab_Notebooks/Fire_ImageDataSet/Neutral/N_image_416.jpg',\n",
              " '/content/gdrive/MyDrive/Colab_Notebooks/Fire_ImageDataSet/Neutral/N_image_892.jpg',\n",
              " '/content/gdrive/MyDrive/Colab_Notebooks/Fire_ImageDataSet/Neutral/N_image_415.jpg',\n",
              " '/content/gdrive/MyDrive/Colab_Notebooks/Fire_ImageDataSet/Neutral/N_image_891.jpg',\n",
              " '/content/gdrive/MyDrive/Colab_Notebooks/Fire_ImageDataSet/Neutral/N_image_414.jpg',\n",
              " '/content/gdrive/MyDrive/Colab_Notebooks/Fire_ImageDataSet/Neutral/N_image_412.jpg',\n",
              " '/content/gdrive/MyDrive/Colab_Notebooks/Fire_ImageDataSet/Neutral/N_image_411.jpg',\n",
              " '/content/gdrive/MyDrive/Colab_Notebooks/Fire_ImageDataSet/Neutral/N_image_41.jpg',\n",
              " '/content/gdrive/MyDrive/Colab_Notebooks/Fire_ImageDataSet/Neutral/N_image_410.jpg',\n",
              " '/content/gdrive/MyDrive/Colab_Notebooks/Fire_ImageDataSet/Neutral/N_image_413.jpg',\n",
              " '/content/gdrive/MyDrive/Colab_Notebooks/Fire_ImageDataSet/Neutral/N_image_409.jpg',\n",
              " '/content/gdrive/MyDrive/Colab_Notebooks/Fire_ImageDataSet/Neutral/N_image_408.jpg',\n",
              " '/content/gdrive/MyDrive/Colab_Notebooks/Fire_ImageDataSet/Neutral/N_image_407.jpg',\n",
              " '/content/gdrive/MyDrive/Colab_Notebooks/Fire_ImageDataSet/Neutral/N_image_890.jpg',\n",
              " '/content/gdrive/MyDrive/Colab_Notebooks/Fire_ImageDataSet/Neutral/N_image_405.jpg',\n",
              " '/content/gdrive/MyDrive/Colab_Notebooks/Fire_ImageDataSet/Neutral/N_image_889.jpg',\n",
              " '/content/gdrive/MyDrive/Colab_Notebooks/Fire_ImageDataSet/Neutral/N_image_400.jpg',\n",
              " '/content/gdrive/MyDrive/Colab_Notebooks/Fire_ImageDataSet/Neutral/N_image_403.jpg',\n",
              " '/content/gdrive/MyDrive/Colab_Notebooks/Fire_ImageDataSet/Neutral/N_image_399.jpg',\n",
              " '/content/gdrive/MyDrive/Colab_Notebooks/Fire_ImageDataSet/Neutral/N_image_40.jpg',\n",
              " '/content/gdrive/MyDrive/Colab_Notebooks/Fire_ImageDataSet/Neutral/N_image_401.jpg',\n",
              " '/content/gdrive/MyDrive/Colab_Notebooks/Fire_ImageDataSet/Neutral/N_image_404.jpg',\n",
              " '/content/gdrive/MyDrive/Colab_Notebooks/Fire_ImageDataSet/Neutral/N_image_402.jpg',\n",
              " '/content/gdrive/MyDrive/Colab_Notebooks/Fire_ImageDataSet/Neutral/N_image_4.jpg',\n",
              " '/content/gdrive/MyDrive/Colab_Notebooks/Fire_ImageDataSet/Neutral/N_image_398.jpg',\n",
              " '/content/gdrive/MyDrive/Colab_Notebooks/Fire_ImageDataSet/Neutral/N_image_888.jpg',\n",
              " '/content/gdrive/MyDrive/Colab_Notebooks/Fire_ImageDataSet/Neutral/N_image_397.jpg',\n",
              " '/content/gdrive/MyDrive/Colab_Notebooks/Fire_ImageDataSet/Neutral/N_image_887.jpg',\n",
              " '/content/gdrive/MyDrive/Colab_Notebooks/Fire_ImageDataSet/Neutral/N_image_396.jpg',\n",
              " '/content/gdrive/MyDrive/Colab_Notebooks/Fire_ImageDataSet/Neutral/N_image_391.jpg',\n",
              " '/content/gdrive/MyDrive/Colab_Notebooks/Fire_ImageDataSet/Neutral/N_image_395.jpg',\n",
              " '/content/gdrive/MyDrive/Colab_Notebooks/Fire_ImageDataSet/Neutral/N_image_394.jpg',\n",
              " '/content/gdrive/MyDrive/Colab_Notebooks/Fire_ImageDataSet/Neutral/N_image_393.jpg',\n",
              " '/content/gdrive/MyDrive/Colab_Notebooks/Fire_ImageDataSet/Neutral/N_image_392.jpg',\n",
              " '/content/gdrive/MyDrive/Colab_Notebooks/Fire_ImageDataSet/Neutral/N_image_390.jpg',\n",
              " '/content/gdrive/MyDrive/Colab_Notebooks/Fire_ImageDataSet/Neutral/N_image_39.jpg',\n",
              " '/content/gdrive/MyDrive/Colab_Notebooks/Fire_ImageDataSet/Neutral/N_image_389.jpg',\n",
              " '/content/gdrive/MyDrive/Colab_Notebooks/Fire_ImageDataSet/Neutral/N_image_886.jpg',\n",
              " '/content/gdrive/MyDrive/Colab_Notebooks/Fire_ImageDataSet/Neutral/N_image_388.jpg',\n",
              " '/content/gdrive/MyDrive/Colab_Notebooks/Fire_ImageDataSet/Neutral/N_image_885.jpg',\n",
              " '/content/gdrive/MyDrive/Colab_Notebooks/Fire_ImageDataSet/Neutral/N_image_385.jpg',\n",
              " '/content/gdrive/MyDrive/Colab_Notebooks/Fire_ImageDataSet/Neutral/N_image_386.jpg',\n",
              " '/content/gdrive/MyDrive/Colab_Notebooks/Fire_ImageDataSet/Neutral/N_image_387.jpg',\n",
              " '/content/gdrive/MyDrive/Colab_Notebooks/Fire_ImageDataSet/Neutral/N_image_384.jpg',\n",
              " '/content/gdrive/MyDrive/Colab_Notebooks/Fire_ImageDataSet/Neutral/N_image_382.jpg',\n",
              " '/content/gdrive/MyDrive/Colab_Notebooks/Fire_ImageDataSet/Neutral/N_image_380.jpg',\n",
              " '/content/gdrive/MyDrive/Colab_Notebooks/Fire_ImageDataSet/Neutral/N_image_383.jpg',\n",
              " '/content/gdrive/MyDrive/Colab_Notebooks/Fire_ImageDataSet/Neutral/N_image_381.jpg',\n",
              " '/content/gdrive/MyDrive/Colab_Notebooks/Fire_ImageDataSet/Neutral/N_image_38.jpg',\n",
              " '/content/gdrive/MyDrive/Colab_Notebooks/Fire_ImageDataSet/Neutral/N_image_884.jpg',\n",
              " '/content/gdrive/MyDrive/Colab_Notebooks/Fire_ImageDataSet/Neutral/N_image_379.jpg',\n",
              " '/content/gdrive/MyDrive/Colab_Notebooks/Fire_ImageDataSet/Neutral/N_image_374.jpg',\n",
              " '/content/gdrive/MyDrive/Colab_Notebooks/Fire_ImageDataSet/Neutral/N_image_373.jpg',\n",
              " '/content/gdrive/MyDrive/Colab_Notebooks/Fire_ImageDataSet/Neutral/N_image_376.jpg',\n",
              " '/content/gdrive/MyDrive/Colab_Notebooks/Fire_ImageDataSet/Neutral/N_image_377.jpg',\n",
              " '/content/gdrive/MyDrive/Colab_Notebooks/Fire_ImageDataSet/Neutral/N_image_372.jpg',\n",
              " '/content/gdrive/MyDrive/Colab_Notebooks/Fire_ImageDataSet/Neutral/N_image_378.jpg',\n",
              " '/content/gdrive/MyDrive/Colab_Notebooks/Fire_ImageDataSet/Neutral/N_image_375.jpg',\n",
              " '/content/gdrive/MyDrive/Colab_Notebooks/Fire_ImageDataSet/Neutral/N_image_371.jpg',\n",
              " '/content/gdrive/MyDrive/Colab_Notebooks/Fire_ImageDataSet/Neutral/N_image_370.jpg',\n",
              " '/content/gdrive/MyDrive/Colab_Notebooks/Fire_ImageDataSet/Neutral/TN_image_14.jpg',\n",
              " '/content/gdrive/MyDrive/Colab_Notebooks/Fire_ImageDataSet/Neutral/TN_image_13.jpg',\n",
              " '/content/gdrive/MyDrive/Colab_Notebooks/Fire_ImageDataSet/Neutral/N_image_471.jpg',\n",
              " '/content/gdrive/MyDrive/Colab_Notebooks/Fire_ImageDataSet/Neutral/TN_image_12.jpg',\n",
              " '/content/gdrive/MyDrive/Colab_Notebooks/Fire_ImageDataSet/Neutral/N_image_47.jpg',\n",
              " '/content/gdrive/MyDrive/Colab_Notebooks/Fire_ImageDataSet/Neutral/N_image_466.jpg',\n",
              " '/content/gdrive/MyDrive/Colab_Notebooks/Fire_ImageDataSet/Neutral/N_image_468.jpg',\n",
              " '/content/gdrive/MyDrive/Colab_Notebooks/Fire_ImageDataSet/Neutral/N_image_467.jpg',\n",
              " '/content/gdrive/MyDrive/Colab_Notebooks/Fire_ImageDataSet/Neutral/TN_image_11.jpg',\n",
              " '/content/gdrive/MyDrive/Colab_Notebooks/Fire_ImageDataSet/Neutral/N_image_470.jpg',\n",
              " '/content/gdrive/MyDrive/Colab_Notebooks/Fire_ImageDataSet/Neutral/N_image_469.jpg',\n",
              " '/content/gdrive/MyDrive/Colab_Notebooks/Fire_ImageDataSet/Neutral/N_image_465.jpg',\n",
              " '/content/gdrive/MyDrive/Colab_Notebooks/Fire_ImageDataSet/Neutral/N_image_464.jpg',\n",
              " '/content/gdrive/MyDrive/Colab_Notebooks/Fire_ImageDataSet/Neutral/N_image_463.jpg',\n",
              " '/content/gdrive/MyDrive/Colab_Notebooks/Fire_ImageDataSet/Neutral/TN_image_10.jpg',\n",
              " '/content/gdrive/MyDrive/Colab_Notebooks/Fire_ImageDataSet/Neutral/N_image_462.jpg',\n",
              " '/content/gdrive/MyDrive/Colab_Notebooks/Fire_ImageDataSet/Neutral/TN_image_1.jpg',\n",
              " '/content/gdrive/MyDrive/Colab_Notebooks/Fire_ImageDataSet/Neutral/N_image_461.jpg',\n",
              " '/content/gdrive/MyDrive/Colab_Notebooks/Fire_ImageDataSet/Neutral/N_image_453.jpg',\n",
              " '/content/gdrive/MyDrive/Colab_Notebooks/Fire_ImageDataSet/Neutral/N_image_454.jpg',\n",
              " '/content/gdrive/MyDrive/Colab_Notebooks/Fire_ImageDataSet/Neutral/N_image_46.jpg',\n",
              " '/content/gdrive/MyDrive/Colab_Notebooks/Fire_ImageDataSet/Neutral/N_image_460.jpg',\n",
              " '/content/gdrive/MyDrive/Colab_Notebooks/Fire_ImageDataSet/Neutral/N_image_451.jpg',\n",
              " '/content/gdrive/MyDrive/Colab_Notebooks/Fire_ImageDataSet/Neutral/N_image_452.jpg',\n",
              " '/content/gdrive/MyDrive/Colab_Notebooks/Fire_ImageDataSet/Neutral/N_image_450.jpg',\n",
              " '/content/gdrive/MyDrive/Colab_Notebooks/Fire_ImageDataSet/Neutral/N_image_45.jpg',\n",
              " '/content/gdrive/MyDrive/Colab_Notebooks/Fire_ImageDataSet/Neutral/TN_image_0.jpg',\n",
              " '/content/gdrive/MyDrive/Colab_Notebooks/Fire_ImageDataSet/Neutral/N_image_449.jpg',\n",
              " '/content/gdrive/MyDrive/Colab_Notebooks/Fire_ImageDataSet/Neutral/N_image_899.jpg',\n",
              " '/content/gdrive/MyDrive/Colab_Notebooks/Fire_ImageDataSet/Neutral/N_image_442.jpg',\n",
              " '/content/gdrive/MyDrive/Colab_Notebooks/Fire_ImageDataSet/Neutral/N_image_441.jpg',\n",
              " '/content/gdrive/MyDrive/Colab_Notebooks/Fire_ImageDataSet/Neutral/N_image_443.jpg',\n",
              " '/content/gdrive/MyDrive/Colab_Notebooks/Fire_ImageDataSet/Neutral/N_image_442(1).jpg',\n",
              " '/content/gdrive/MyDrive/Colab_Notebooks/Fire_ImageDataSet/Neutral/N_image_440.jpg',\n",
              " '/content/gdrive/MyDrive/Colab_Notebooks/Fire_ImageDataSet/Neutral/N_image_441(1).jpg',\n",
              " '/content/gdrive/MyDrive/Colab_Notebooks/Fire_ImageDataSet/Neutral/N_image_440(1).jpg',\n",
              " '/content/gdrive/MyDrive/Colab_Notebooks/Fire_ImageDataSet/Neutral/N_image_44.jpg',\n",
              " '/content/gdrive/MyDrive/Colab_Notebooks/Fire_ImageDataSet/Neutral/N_image_44(1).jpg',\n",
              " '/content/gdrive/MyDrive/Colab_Notebooks/Fire_ImageDataSet/Neutral/N_image_898.jpg',\n",
              " '/content/gdrive/MyDrive/Colab_Notebooks/Fire_ImageDataSet/Neutral/N_image_439.jpg',\n",
              " '/content/gdrive/MyDrive/Colab_Notebooks/Fire_ImageDataSet/Neutral/N_image_897.jpg',\n",
              " '/content/gdrive/MyDrive/Colab_Notebooks/Fire_ImageDataSet/Neutral/N_image_438.jpg',\n",
              " '/content/gdrive/MyDrive/Colab_Notebooks/Fire_ImageDataSet/Neutral/N_image_439(1).jpg',\n",
              " '/content/gdrive/MyDrive/Colab_Notebooks/Fire_ImageDataSet/Neutral/N_image_437.jpg',\n",
              " '/content/gdrive/MyDrive/Colab_Notebooks/Fire_ImageDataSet/Neutral/N_image_436(1).jpg',\n",
              " '/content/gdrive/MyDrive/Colab_Notebooks/Fire_ImageDataSet/Neutral/N_image_436.jpg',\n",
              " '/content/gdrive/MyDrive/Colab_Notebooks/Fire_ImageDataSet/Neutral/N_image_437(1).jpg',\n",
              " '/content/gdrive/MyDrive/Colab_Notebooks/Fire_ImageDataSet/Neutral/N_image_438(1).jpg',\n",
              " '/content/gdrive/MyDrive/Colab_Notebooks/Fire_ImageDataSet/Neutral/N_image_435.jpg',\n",
              " '/content/gdrive/MyDrive/Colab_Notebooks/Fire_ImageDataSet/Neutral/N_image_435(1).jpg',\n",
              " '/content/gdrive/MyDrive/Colab_Notebooks/Fire_ImageDataSet/Neutral/N_image_896.jpg',\n",
              " '/content/gdrive/MyDrive/Colab_Notebooks/Fire_ImageDataSet/Neutral/N_image_434.jpg',\n",
              " '/content/gdrive/MyDrive/Colab_Notebooks/Fire_ImageDataSet/Neutral/N_image_895.jpg',\n",
              " '/content/gdrive/MyDrive/Colab_Notebooks/Fire_ImageDataSet/Neutral/N_image_430.jpg',\n",
              " '/content/gdrive/MyDrive/Colab_Notebooks/Fire_ImageDataSet/Neutral/N_image_429.jpg',\n",
              " '/content/gdrive/MyDrive/Colab_Notebooks/Fire_ImageDataSet/Neutral/N_image_43.jpg',\n",
              " '/content/gdrive/MyDrive/Colab_Notebooks/Fire_ImageDataSet/Neutral/N_image_434(1).jpg',\n",
              " '/content/gdrive/MyDrive/Colab_Notebooks/Fire_ImageDataSet/Neutral/N_image_433.jpg',\n",
              " '/content/gdrive/MyDrive/Colab_Notebooks/Fire_ImageDataSet/Neutral/N_image_428.jpg',\n",
              " '/content/gdrive/MyDrive/Colab_Notebooks/Fire_ImageDataSet/Neutral/N_image_427.jpg',\n",
              " '/content/gdrive/MyDrive/Colab_Notebooks/Fire_ImageDataSet/Neutral/N_image_426.jpg',\n",
              " '/content/gdrive/MyDrive/Colab_Notebooks/Fire_ImageDataSet/Neutral/N_image_425.jpg',\n",
              " '/content/gdrive/MyDrive/Colab_Notebooks/Fire_ImageDataSet/Neutral/TN_image_24.jpg',\n",
              " '/content/gdrive/MyDrive/Colab_Notebooks/Fire_ImageDataSet/Neutral/N_image_524.jpg',\n",
              " '/content/gdrive/MyDrive/Colab_Notebooks/Fire_ImageDataSet/Neutral/N_image_523.jpg',\n",
              " '/content/gdrive/MyDrive/Colab_Notebooks/Fire_ImageDataSet/Neutral/N_image_521.jpg',\n",
              " '/content/gdrive/MyDrive/Colab_Notebooks/Fire_ImageDataSet/Neutral/N_image_520.jpg',\n",
              " '/content/gdrive/MyDrive/Colab_Notebooks/Fire_ImageDataSet/Neutral/N_image_522.jpg',\n",
              " '/content/gdrive/MyDrive/Colab_Notebooks/Fire_ImageDataSet/Neutral/N_image_52.jpg',\n",
              " '/content/gdrive/MyDrive/Colab_Notebooks/Fire_ImageDataSet/Neutral/N_image_519.jpg',\n",
              " '/content/gdrive/MyDrive/Colab_Notebooks/Fire_ImageDataSet/Neutral/N_image_518.jpg',\n",
              " '/content/gdrive/MyDrive/Colab_Notebooks/Fire_ImageDataSet/Neutral/N_image_517.jpg',\n",
              " '/content/gdrive/MyDrive/Colab_Notebooks/Fire_ImageDataSet/Neutral/TN_image_23.jpg',\n",
              " '/content/gdrive/MyDrive/Colab_Notebooks/Fire_ImageDataSet/Neutral/N_image_516.jpg',\n",
              " '/content/gdrive/MyDrive/Colab_Notebooks/Fire_ImageDataSet/Neutral/TN_image_22.jpg',\n",
              " '/content/gdrive/MyDrive/Colab_Notebooks/Fire_ImageDataSet/Neutral/N_image_515.jpg',\n",
              " '/content/gdrive/MyDrive/Colab_Notebooks/Fire_ImageDataSet/Neutral/N_image_514.jpg',\n",
              " '/content/gdrive/MyDrive/Colab_Notebooks/Fire_ImageDataSet/Neutral/N_image_510.jpg',\n",
              " '/content/gdrive/MyDrive/Colab_Notebooks/Fire_ImageDataSet/Neutral/N_image_513.jpg',\n",
              " '/content/gdrive/MyDrive/Colab_Notebooks/Fire_ImageDataSet/Neutral/N_image_511.jpg',\n",
              " '/content/gdrive/MyDrive/Colab_Notebooks/Fire_ImageDataSet/Neutral/N_image_512.jpg',\n",
              " '/content/gdrive/MyDrive/Colab_Notebooks/Fire_ImageDataSet/Neutral/N_image_51.jpg',\n",
              " '/content/gdrive/MyDrive/Colab_Notebooks/Fire_ImageDataSet/Neutral/N_image_509.jpg',\n",
              " '/content/gdrive/MyDrive/Colab_Notebooks/Fire_ImageDataSet/Neutral/N_image_508.jpg',\n",
              " '/content/gdrive/MyDrive/Colab_Notebooks/Fire_ImageDataSet/Neutral/TN_image_21.jpg',\n",
              " '/content/gdrive/MyDrive/Colab_Notebooks/Fire_ImageDataSet/Neutral/N_image_507.jpg',\n",
              " '/content/gdrive/MyDrive/Colab_Notebooks/Fire_ImageDataSet/Neutral/TN_image_20.jpg',\n",
              " '/content/gdrive/MyDrive/Colab_Notebooks/Fire_ImageDataSet/Neutral/N_image_501.jpg',\n",
              " '/content/gdrive/MyDrive/Colab_Notebooks/Fire_ImageDataSet/Neutral/N_image_503.jpg',\n",
              " '/content/gdrive/MyDrive/Colab_Notebooks/Fire_ImageDataSet/Neutral/N_image_506.jpg',\n",
              " '/content/gdrive/MyDrive/Colab_Notebooks/Fire_ImageDataSet/Neutral/N_image_504.jpg',\n",
              " '/content/gdrive/MyDrive/Colab_Notebooks/Fire_ImageDataSet/Neutral/TN_image_2.jpg',\n",
              " '/content/gdrive/MyDrive/Colab_Notebooks/Fire_ImageDataSet/Neutral/N_image_505.jpg',\n",
              " '/content/gdrive/MyDrive/Colab_Notebooks/Fire_ImageDataSet/Neutral/N_image_502.jpg',\n",
              " '/content/gdrive/MyDrive/Colab_Notebooks/Fire_ImageDataSet/Neutral/N_image_50.jpg',\n",
              " '/content/gdrive/MyDrive/Colab_Notebooks/Fire_ImageDataSet/Neutral/N_image_500.jpg',\n",
              " '/content/gdrive/MyDrive/Colab_Notebooks/Fire_ImageDataSet/Neutral/N_image_5.jpg',\n",
              " '/content/gdrive/MyDrive/Colab_Notebooks/Fire_ImageDataSet/Neutral/TN_image_19.jpg',\n",
              " '/content/gdrive/MyDrive/Colab_Notebooks/Fire_ImageDataSet/Neutral/N_image_499.jpg',\n",
              " '/content/gdrive/MyDrive/Colab_Notebooks/Fire_ImageDataSet/Neutral/N_image_493.jpg',\n",
              " '/content/gdrive/MyDrive/Colab_Notebooks/Fire_ImageDataSet/Neutral/TN_image_18.jpg',\n",
              " '/content/gdrive/MyDrive/Colab_Notebooks/Fire_ImageDataSet/Neutral/N_image_497.jpg',\n",
              " '/content/gdrive/MyDrive/Colab_Notebooks/Fire_ImageDataSet/Neutral/N_image_496.jpg',\n",
              " '/content/gdrive/MyDrive/Colab_Notebooks/Fire_ImageDataSet/Neutral/N_image_495.jpg',\n",
              " '/content/gdrive/MyDrive/Colab_Notebooks/Fire_ImageDataSet/Neutral/N_image_498.jpg',\n",
              " '/content/gdrive/MyDrive/Colab_Notebooks/Fire_ImageDataSet/Neutral/N_image_494.jpg',\n",
              " '/content/gdrive/MyDrive/Colab_Notebooks/Fire_ImageDataSet/Neutral/N_image_492.jpg',\n",
              " '/content/gdrive/MyDrive/Colab_Notebooks/Fire_ImageDataSet/Neutral/N_image_491.jpg',\n",
              " '/content/gdrive/MyDrive/Colab_Notebooks/Fire_ImageDataSet/Neutral/N_image_490.jpg',\n",
              " '/content/gdrive/MyDrive/Colab_Notebooks/Fire_ImageDataSet/Neutral/TN_image_17.jpg',\n",
              " '/content/gdrive/MyDrive/Colab_Notebooks/Fire_ImageDataSet/Neutral/N_image_49.jpg',\n",
              " '/content/gdrive/MyDrive/Colab_Notebooks/Fire_ImageDataSet/Neutral/TN_image_16.jpg',\n",
              " '/content/gdrive/MyDrive/Colab_Notebooks/Fire_ImageDataSet/Neutral/N_image_488.jpg',\n",
              " '/content/gdrive/MyDrive/Colab_Notebooks/Fire_ImageDataSet/Neutral/N_image_489.jpg',\n",
              " '/content/gdrive/MyDrive/Colab_Notebooks/Fire_ImageDataSet/Neutral/N_image_487.jpg',\n",
              " '/content/gdrive/MyDrive/Colab_Notebooks/Fire_ImageDataSet/Neutral/N_image_483.jpg',\n",
              " '/content/gdrive/MyDrive/Colab_Notebooks/Fire_ImageDataSet/Neutral/N_image_482.jpg',\n",
              " '/content/gdrive/MyDrive/Colab_Notebooks/Fire_ImageDataSet/Neutral/N_image_485.jpg',\n",
              " '/content/gdrive/MyDrive/Colab_Notebooks/Fire_ImageDataSet/Neutral/N_image_484.jpg',\n",
              " '/content/gdrive/MyDrive/Colab_Notebooks/Fire_ImageDataSet/Neutral/N_image_486.jpg',\n",
              " '/content/gdrive/MyDrive/Colab_Notebooks/Fire_ImageDataSet/Neutral/N_image_481.jpg',\n",
              " '/content/gdrive/MyDrive/Colab_Notebooks/Fire_ImageDataSet/Neutral/TN_image_15.jpg',\n",
              " '/content/gdrive/MyDrive/Colab_Notebooks/Fire_ImageDataSet/Neutral/N_image_480.jpg',\n",
              " '/content/gdrive/MyDrive/Colab_Notebooks/Fire_ImageDataSet/Neutral/N_image_48.jpg',\n",
              " '/content/gdrive/MyDrive/Colab_Notebooks/Fire_ImageDataSet/Neutral/N_image_476.jpg',\n",
              " '/content/gdrive/MyDrive/Colab_Notebooks/Fire_ImageDataSet/Neutral/N_image_477.jpg',\n",
              " '/content/gdrive/MyDrive/Colab_Notebooks/Fire_ImageDataSet/Neutral/N_image_478.jpg',\n",
              " '/content/gdrive/MyDrive/Colab_Notebooks/Fire_ImageDataSet/Neutral/N_image_479.jpg',\n",
              " '/content/gdrive/MyDrive/Colab_Notebooks/Fire_ImageDataSet/Neutral/N_image_475.jpg',\n",
              " '/content/gdrive/MyDrive/Colab_Notebooks/Fire_ImageDataSet/Neutral/N_image_474.jpg',\n",
              " '/content/gdrive/MyDrive/Colab_Notebooks/Fire_ImageDataSet/Neutral/N_image_473.jpg',\n",
              " '/content/gdrive/MyDrive/Colab_Notebooks/Fire_ImageDataSet/Neutral/N_image_472.jpg',\n",
              " '/content/gdrive/MyDrive/Colab_Notebooks/Fire_ImageDataSet/Neutral/N_image_572.jpg',\n",
              " '/content/gdrive/MyDrive/Colab_Notebooks/Fire_ImageDataSet/Neutral/TN_image_35.jpg',\n",
              " '/content/gdrive/MyDrive/Colab_Notebooks/Fire_ImageDataSet/Neutral/N_image_567.jpg',\n",
              " '/content/gdrive/MyDrive/Colab_Notebooks/Fire_ImageDataSet/Neutral/N_image_566.jpg',\n",
              " '/content/gdrive/MyDrive/Colab_Notebooks/Fire_ImageDataSet/Neutral/N_image_57.jpg',\n",
              " '/content/gdrive/MyDrive/Colab_Notebooks/Fire_ImageDataSet/Neutral/N_image_565.jpg',\n",
              " '/content/gdrive/MyDrive/Colab_Notebooks/Fire_ImageDataSet/Neutral/N_image_569.jpg',\n",
              " '/content/gdrive/MyDrive/Colab_Notebooks/Fire_ImageDataSet/Neutral/N_image_568.jpg',\n",
              " '/content/gdrive/MyDrive/Colab_Notebooks/Fire_ImageDataSet/Neutral/N_image_571.jpg',\n",
              " '/content/gdrive/MyDrive/Colab_Notebooks/Fire_ImageDataSet/Neutral/N_image_564.jpg',\n",
              " '/content/gdrive/MyDrive/Colab_Notebooks/Fire_ImageDataSet/Neutral/N_image_563.jpg',\n",
              " '/content/gdrive/MyDrive/Colab_Notebooks/Fire_ImageDataSet/Neutral/TN_image_34.jpg',\n",
              " '/content/gdrive/MyDrive/Colab_Notebooks/Fire_ImageDataSet/Neutral/TN_image_33.jpg',\n",
              " '/content/gdrive/MyDrive/Colab_Notebooks/Fire_ImageDataSet/Neutral/N_image_562.jpg',\n",
              " '/content/gdrive/MyDrive/Colab_Notebooks/Fire_ImageDataSet/Neutral/TN_image_32.jpg',\n",
              " '/content/gdrive/MyDrive/Colab_Notebooks/Fire_ImageDataSet/Neutral/N_image_556.jpg',\n",
              " '/content/gdrive/MyDrive/Colab_Notebooks/Fire_ImageDataSet/Neutral/N_image_56.jpg',\n",
              " '/content/gdrive/MyDrive/Colab_Notebooks/Fire_ImageDataSet/Neutral/N_image_558.jpg',\n",
              " '/content/gdrive/MyDrive/Colab_Notebooks/Fire_ImageDataSet/Neutral/N_image_561.jpg',\n",
              " '/content/gdrive/MyDrive/Colab_Notebooks/Fire_ImageDataSet/Neutral/N_image_557.jpg',\n",
              " '/content/gdrive/MyDrive/Colab_Notebooks/Fire_ImageDataSet/Neutral/N_image_559.jpg',\n",
              " '/content/gdrive/MyDrive/Colab_Notebooks/Fire_ImageDataSet/Neutral/N_image_560.jpg',\n",
              " '/content/gdrive/MyDrive/Colab_Notebooks/Fire_ImageDataSet/Neutral/N_image_555.jpg',\n",
              " '/content/gdrive/MyDrive/Colab_Notebooks/Fire_ImageDataSet/Neutral/N_image_554.jpg',\n",
              " '/content/gdrive/MyDrive/Colab_Notebooks/Fire_ImageDataSet/Neutral/TN_image_31.jpg',\n",
              " '/content/gdrive/MyDrive/Colab_Notebooks/Fire_ImageDataSet/Neutral/N_image_553.jpg',\n",
              " '/content/gdrive/MyDrive/Colab_Notebooks/Fire_ImageDataSet/Neutral/TN_image_30.jpg',\n",
              " '/content/gdrive/MyDrive/Colab_Notebooks/Fire_ImageDataSet/Neutral/N_image_548.jpg',\n",
              " '/content/gdrive/MyDrive/Colab_Notebooks/Fire_ImageDataSet/Neutral/N_image_552.jpg',\n",
              " '/content/gdrive/MyDrive/Colab_Notebooks/Fire_ImageDataSet/Neutral/N_image_55.jpg',\n",
              " '/content/gdrive/MyDrive/Colab_Notebooks/Fire_ImageDataSet/Neutral/N_image_550.jpg',\n",
              " '/content/gdrive/MyDrive/Colab_Notebooks/Fire_ImageDataSet/Neutral/N_image_549.jpg',\n",
              " '/content/gdrive/MyDrive/Colab_Notebooks/Fire_ImageDataSet/Neutral/N_image_546.jpg',\n",
              " '/content/gdrive/MyDrive/Colab_Notebooks/Fire_ImageDataSet/Neutral/N_image_551.jpg',\n",
              " '/content/gdrive/MyDrive/Colab_Notebooks/Fire_ImageDataSet/Neutral/N_image_547.jpg',\n",
              " '/content/gdrive/MyDrive/Colab_Notebooks/Fire_ImageDataSet/Neutral/N_image_545.jpg',\n",
              " '/content/gdrive/MyDrive/Colab_Notebooks/Fire_ImageDataSet/Neutral/TN_image_3.jpg',\n",
              " '/content/gdrive/MyDrive/Colab_Notebooks/Fire_ImageDataSet/Neutral/N_image_544.jpg',\n",
              " '/content/gdrive/MyDrive/Colab_Notebooks/Fire_ImageDataSet/Neutral/TN_image_29.jpg',\n",
              " '/content/gdrive/MyDrive/Colab_Notebooks/Fire_ImageDataSet/Neutral/N_image_542.jpg',\n",
              " '/content/gdrive/MyDrive/Colab_Notebooks/Fire_ImageDataSet/Neutral/N_image_541.jpg',\n",
              " '/content/gdrive/MyDrive/Colab_Notebooks/Fire_ImageDataSet/Neutral/N_image_543.jpg',\n",
              " '/content/gdrive/MyDrive/Colab_Notebooks/Fire_ImageDataSet/Neutral/N_image_539.jpg',\n",
              " '/content/gdrive/MyDrive/Colab_Notebooks/Fire_ImageDataSet/Neutral/N_image_54.jpg',\n",
              " '/content/gdrive/MyDrive/Colab_Notebooks/Fire_ImageDataSet/Neutral/N_image_538.jpg',\n",
              " '/content/gdrive/MyDrive/Colab_Notebooks/Fire_ImageDataSet/Neutral/N_image_536.jpg',\n",
              " '/content/gdrive/MyDrive/Colab_Notebooks/Fire_ImageDataSet/Neutral/N_image_537.jpg',\n",
              " '/content/gdrive/MyDrive/Colab_Notebooks/Fire_ImageDataSet/Neutral/N_image_535.jpg',\n",
              " '/content/gdrive/MyDrive/Colab_Notebooks/Fire_ImageDataSet/Neutral/TN_image_28.jpg',\n",
              " '/content/gdrive/MyDrive/Colab_Notebooks/Fire_ImageDataSet/Neutral/N_image_534.jpg',\n",
              " '/content/gdrive/MyDrive/Colab_Notebooks/Fire_ImageDataSet/Neutral/TN_image_27.jpg',\n",
              " '/content/gdrive/MyDrive/Colab_Notebooks/Fire_ImageDataSet/Neutral/N_image_533.jpg',\n",
              " '/content/gdrive/MyDrive/Colab_Notebooks/Fire_ImageDataSet/Neutral/N_image_532.jpg',\n",
              " '/content/gdrive/MyDrive/Colab_Notebooks/Fire_ImageDataSet/Neutral/N_image_531.jpg',\n",
              " '/content/gdrive/MyDrive/Colab_Notebooks/Fire_ImageDataSet/Neutral/N_image_529.jpg',\n",
              " '/content/gdrive/MyDrive/Colab_Notebooks/Fire_ImageDataSet/Neutral/N_image_53.jpg',\n",
              " '/content/gdrive/MyDrive/Colab_Notebooks/Fire_ImageDataSet/Neutral/N_image_530.jpg',\n",
              " '/content/gdrive/MyDrive/Colab_Notebooks/Fire_ImageDataSet/Neutral/N_image_528.jpg',\n",
              " '/content/gdrive/MyDrive/Colab_Notebooks/Fire_ImageDataSet/Neutral/N_image_527.jpg',\n",
              " '/content/gdrive/MyDrive/Colab_Notebooks/Fire_ImageDataSet/Neutral/N_image_526.jpg',\n",
              " '/content/gdrive/MyDrive/Colab_Notebooks/Fire_ImageDataSet/Neutral/TN_image_26.jpg',\n",
              " '/content/gdrive/MyDrive/Colab_Notebooks/Fire_ImageDataSet/Neutral/TN_image_25.jpg',\n",
              " '/content/gdrive/MyDrive/Colab_Notebooks/Fire_ImageDataSet/Neutral/N_image_525.jpg',\n",
              " '/content/gdrive/MyDrive/Colab_Notebooks/Fire_ImageDataSet/Neutral/TN_image_46.jpg',\n",
              " '/content/gdrive/MyDrive/Colab_Notebooks/Fire_ImageDataSet/Neutral/TN_image_45.jpg',\n",
              " '/content/gdrive/MyDrive/Colab_Notebooks/Fire_ImageDataSet/Neutral/N_image_618.jpg',\n",
              " '/content/gdrive/MyDrive/Colab_Notebooks/Fire_ImageDataSet/Neutral/TN_image_44.jpg',\n",
              " '/content/gdrive/MyDrive/Colab_Notebooks/Fire_ImageDataSet/Neutral/N_image_616.jpg',\n",
              " '/content/gdrive/MyDrive/Colab_Notebooks/Fire_ImageDataSet/Neutral/N_image_615.jpg',\n",
              " '/content/gdrive/MyDrive/Colab_Notebooks/Fire_ImageDataSet/Neutral/N_image_617.jpg',\n",
              " '/content/gdrive/MyDrive/Colab_Notebooks/Fire_ImageDataSet/Neutral/N_image_614.jpg',\n",
              " '/content/gdrive/MyDrive/Colab_Notebooks/Fire_ImageDataSet/Neutral/N_image_613.jpg',\n",
              " '/content/gdrive/MyDrive/Colab_Notebooks/Fire_ImageDataSet/Neutral/N_image_612.jpg',\n",
              " '/content/gdrive/MyDrive/Colab_Notebooks/Fire_ImageDataSet/Neutral/N_image_611.jpg',\n",
              " '/content/gdrive/MyDrive/Colab_Notebooks/Fire_ImageDataSet/Neutral/N_image_610.jpg',\n",
              " '/content/gdrive/MyDrive/Colab_Notebooks/Fire_ImageDataSet/Neutral/N_image_61.jpg',\n",
              " '/content/gdrive/MyDrive/Colab_Notebooks/Fire_ImageDataSet/Neutral/TN_image_43.jpg',\n",
              " '/content/gdrive/MyDrive/Colab_Notebooks/Fire_ImageDataSet/Neutral/N_image_609.jpg',\n",
              " '/content/gdrive/MyDrive/Colab_Notebooks/Fire_ImageDataSet/Neutral/N_image_60.jpg',\n",
              " '/content/gdrive/MyDrive/Colab_Notebooks/Fire_ImageDataSet/Neutral/TN_image_42.jpg',\n",
              " '/content/gdrive/MyDrive/Colab_Notebooks/Fire_ImageDataSet/Neutral/N_image_608.jpg',\n",
              " '/content/gdrive/MyDrive/Colab_Notebooks/Fire_ImageDataSet/Neutral/N_image_607.jpg',\n",
              " '/content/gdrive/MyDrive/Colab_Notebooks/Fire_ImageDataSet/Neutral/N_image_603.jpg',\n",
              " '/content/gdrive/MyDrive/Colab_Notebooks/Fire_ImageDataSet/Neutral/N_image_605.jpg',\n",
              " '/content/gdrive/MyDrive/Colab_Notebooks/Fire_ImageDataSet/Neutral/N_image_606.jpg',\n",
              " '/content/gdrive/MyDrive/Colab_Notebooks/Fire_ImageDataSet/Neutral/N_image_604.jpg',\n",
              " '/content/gdrive/MyDrive/Colab_Notebooks/Fire_ImageDataSet/Neutral/N_image_602.jpg',\n",
              " '/content/gdrive/MyDrive/Colab_Notebooks/Fire_ImageDataSet/Neutral/N_image_601.jpg',\n",
              " '/content/gdrive/MyDrive/Colab_Notebooks/Fire_ImageDataSet/Neutral/N_image_600.jpg',\n",
              " '/content/gdrive/MyDrive/Colab_Notebooks/Fire_ImageDataSet/Neutral/TN_image_41.jpg',\n",
              " '/content/gdrive/MyDrive/Colab_Notebooks/Fire_ImageDataSet/Neutral/TN_image_40.jpg',\n",
              " '/content/gdrive/MyDrive/Colab_Notebooks/Fire_ImageDataSet/Neutral/TN_image_4.jpg',\n",
              " '/content/gdrive/MyDrive/Colab_Notebooks/Fire_ImageDataSet/Neutral/N_image_6.jpg',\n",
              " '/content/gdrive/MyDrive/Colab_Notebooks/Fire_ImageDataSet/Neutral/N_image_599.jpg',\n",
              " '/content/gdrive/MyDrive/Colab_Notebooks/Fire_ImageDataSet/Neutral/N_image_598.jpg',\n",
              " '/content/gdrive/MyDrive/Colab_Notebooks/Fire_ImageDataSet/Neutral/N_image_597.jpg',\n",
              " '/content/gdrive/MyDrive/Colab_Notebooks/Fire_ImageDataSet/Neutral/N_image_596.jpg',\n",
              " '/content/gdrive/MyDrive/Colab_Notebooks/Fire_ImageDataSet/Neutral/N_image_595.jpg',\n",
              " '/content/gdrive/MyDrive/Colab_Notebooks/Fire_ImageDataSet/Neutral/N_image_594.jpg',\n",
              " '/content/gdrive/MyDrive/Colab_Notebooks/Fire_ImageDataSet/Neutral/N_image_593.jpg',\n",
              " '/content/gdrive/MyDrive/Colab_Notebooks/Fire_ImageDataSet/Neutral/N_image_592.jpg',\n",
              " '/content/gdrive/MyDrive/Colab_Notebooks/Fire_ImageDataSet/Neutral/TN_image_39.jpg',\n",
              " '/content/gdrive/MyDrive/Colab_Notebooks/Fire_ImageDataSet/Neutral/N_image_591.jpg',\n",
              " '/content/gdrive/MyDrive/Colab_Notebooks/Fire_ImageDataSet/Neutral/TN_image_38.jpg',\n",
              " '/content/gdrive/MyDrive/Colab_Notebooks/Fire_ImageDataSet/Neutral/N_image_590.jpg',\n",
              " '/content/gdrive/MyDrive/Colab_Notebooks/Fire_ImageDataSet/Neutral/N_image_59.jpg',\n",
              " '/content/gdrive/MyDrive/Colab_Notebooks/Fire_ImageDataSet/Neutral/N_image_585.jpg',\n",
              " '/content/gdrive/MyDrive/Colab_Notebooks/Fire_ImageDataSet/Neutral/N_image_588.jpg',\n",
              " '/content/gdrive/MyDrive/Colab_Notebooks/Fire_ImageDataSet/Neutral/N_image_589.jpg',\n",
              " '/content/gdrive/MyDrive/Colab_Notebooks/Fire_ImageDataSet/Neutral/N_image_587.jpg',\n",
              " '/content/gdrive/MyDrive/Colab_Notebooks/Fire_ImageDataSet/Neutral/N_image_586.jpg',\n",
              " '/content/gdrive/MyDrive/Colab_Notebooks/Fire_ImageDataSet/Neutral/N_image_584.jpg',\n",
              " '/content/gdrive/MyDrive/Colab_Notebooks/Fire_ImageDataSet/Neutral/N_image_583.jpg',\n",
              " '/content/gdrive/MyDrive/Colab_Notebooks/Fire_ImageDataSet/Neutral/TN_image_37.jpg',\n",
              " '/content/gdrive/MyDrive/Colab_Notebooks/Fire_ImageDataSet/Neutral/N_image_582.jpg',\n",
              " '/content/gdrive/MyDrive/Colab_Notebooks/Fire_ImageDataSet/Neutral/TN_image_36.jpg',\n",
              " '/content/gdrive/MyDrive/Colab_Notebooks/Fire_ImageDataSet/Neutral/N_image_576.jpg',\n",
              " '/content/gdrive/MyDrive/Colab_Notebooks/Fire_ImageDataSet/Neutral/N_image_579.jpg',\n",
              " '/content/gdrive/MyDrive/Colab_Notebooks/Fire_ImageDataSet/Neutral/N_image_581.jpg',\n",
              " '/content/gdrive/MyDrive/Colab_Notebooks/Fire_ImageDataSet/Neutral/N_image_578.jpg',\n",
              " '/content/gdrive/MyDrive/Colab_Notebooks/Fire_ImageDataSet/Neutral/N_image_575.jpg',\n",
              " '/content/gdrive/MyDrive/Colab_Notebooks/Fire_ImageDataSet/Neutral/N_image_58.jpg',\n",
              " '/content/gdrive/MyDrive/Colab_Notebooks/Fire_ImageDataSet/Neutral/N_image_574.jpg',\n",
              " '/content/gdrive/MyDrive/Colab_Notebooks/Fire_ImageDataSet/Neutral/N_image_577.jpg',\n",
              " '/content/gdrive/MyDrive/Colab_Notebooks/Fire_ImageDataSet/Neutral/N_image_573.jpg',\n",
              " '/content/gdrive/MyDrive/Colab_Notebooks/Fire_ImageDataSet/Neutral/N_image_672.jpg',\n",
              " '/content/gdrive/MyDrive/Colab_Notebooks/Fire_ImageDataSet/Neutral/TN_image_55.jpg',\n",
              " '/content/gdrive/MyDrive/Colab_Notebooks/Fire_ImageDataSet/Neutral/TN_image_56.jpg',\n",
              " '/content/gdrive/MyDrive/Colab_Notebooks/Fire_ImageDataSet/Neutral/N_image_670.jpg',\n",
              " '/content/gdrive/MyDrive/Colab_Notebooks/Fire_ImageDataSet/Neutral/N_image_671.jpg',\n",
              " '/content/gdrive/MyDrive/Colab_Notebooks/Fire_ImageDataSet/Neutral/N_image_67.jpg',\n",
              " '/content/gdrive/MyDrive/Colab_Notebooks/Fire_ImageDataSet/Neutral/N_image_667.jpg',\n",
              " '/content/gdrive/MyDrive/Colab_Notebooks/Fire_ImageDataSet/Neutral/N_image_669.jpg',\n",
              " '/content/gdrive/MyDrive/Colab_Notebooks/Fire_ImageDataSet/Neutral/N_image_668.jpg',\n",
              " '/content/gdrive/MyDrive/Colab_Notebooks/Fire_ImageDataSet/Neutral/N_image_665.jpg',\n",
              " '/content/gdrive/MyDrive/Colab_Notebooks/Fire_ImageDataSet/Neutral/N_image_666.jpg',\n",
              " '/content/gdrive/MyDrive/Colab_Notebooks/Fire_ImageDataSet/Neutral/N_image_664.jpg',\n",
              " '/content/gdrive/MyDrive/Colab_Notebooks/Fire_ImageDataSet/Neutral/TN_image_54.jpg',\n",
              " '/content/gdrive/MyDrive/Colab_Notebooks/Fire_ImageDataSet/Neutral/N_image_663.jpg',\n",
              " '/content/gdrive/MyDrive/Colab_Notebooks/Fire_ImageDataSet/Neutral/TN_image_53.jpg',\n",
              " '/content/gdrive/MyDrive/Colab_Notebooks/Fire_ImageDataSet/Neutral/N_image_660.jpg',\n",
              " '/content/gdrive/MyDrive/Colab_Notebooks/Fire_ImageDataSet/Neutral/N_image_661.jpg',\n",
              " '/content/gdrive/MyDrive/Colab_Notebooks/Fire_ImageDataSet/Neutral/N_image_66.jpg',\n",
              " '/content/gdrive/MyDrive/Colab_Notebooks/Fire_ImageDataSet/Neutral/N_image_658.jpg',\n",
              " '/content/gdrive/MyDrive/Colab_Notebooks/Fire_ImageDataSet/Neutral/N_image_662.jpg',\n",
              " '/content/gdrive/MyDrive/Colab_Notebooks/Fire_ImageDataSet/Neutral/N_image_659.jpg',\n",
              " '/content/gdrive/MyDrive/Colab_Notebooks/Fire_ImageDataSet/Neutral/N_image_657.jpg',\n",
              " '/content/gdrive/MyDrive/Colab_Notebooks/Fire_ImageDataSet/Neutral/N_image_656.jpg',\n",
              " '/content/gdrive/MyDrive/Colab_Notebooks/Fire_ImageDataSet/Neutral/N_image_655.jpg',\n",
              " '/content/gdrive/MyDrive/Colab_Notebooks/Fire_ImageDataSet/Neutral/TN_image_52.jpg',\n",
              " '/content/gdrive/MyDrive/Colab_Notebooks/Fire_ImageDataSet/Neutral/N_image_654.jpg',\n",
              " '/content/gdrive/MyDrive/Colab_Notebooks/Fire_ImageDataSet/Neutral/TN_image_51.jpg',\n",
              " '/content/gdrive/MyDrive/Colab_Notebooks/Fire_ImageDataSet/Neutral/N_image_653.jpg',\n",
              " '/content/gdrive/MyDrive/Colab_Notebooks/Fire_ImageDataSet/Neutral/N_image_652.jpg',\n",
              " '/content/gdrive/MyDrive/Colab_Notebooks/Fire_ImageDataSet/Neutral/N_image_651.jpg',\n",
              " '/content/gdrive/MyDrive/Colab_Notebooks/Fire_ImageDataSet/Neutral/N_image_65.jpg',\n",
              " '/content/gdrive/MyDrive/Colab_Notebooks/Fire_ImageDataSet/Neutral/N_image_649.jpg',\n",
              " '/content/gdrive/MyDrive/Colab_Notebooks/Fire_ImageDataSet/Neutral/N_image_650.jpg',\n",
              " '/content/gdrive/MyDrive/Colab_Notebooks/Fire_ImageDataSet/Neutral/N_image_648.jpg',\n",
              " '/content/gdrive/MyDrive/Colab_Notebooks/Fire_ImageDataSet/Neutral/N_image_647.jpg',\n",
              " '/content/gdrive/MyDrive/Colab_Notebooks/Fire_ImageDataSet/Neutral/N_image_646.jpg',\n",
              " '/content/gdrive/MyDrive/Colab_Notebooks/Fire_ImageDataSet/Neutral/TN_image_50.jpg',\n",
              " '/content/gdrive/MyDrive/Colab_Notebooks/Fire_ImageDataSet/Neutral/N_image_645.jpg',\n",
              " '/content/gdrive/MyDrive/Colab_Notebooks/Fire_ImageDataSet/Neutral/TN_image_5.jpg',\n",
              " '/content/gdrive/MyDrive/Colab_Notebooks/Fire_ImageDataSet/Neutral/N_image_644.jpg',\n",
              " '/content/gdrive/MyDrive/Colab_Notebooks/Fire_ImageDataSet/Neutral/N_image_642.jpg',\n",
              " '/content/gdrive/MyDrive/Colab_Notebooks/Fire_ImageDataSet/Neutral/N_image_643.jpg',\n",
              " '/content/gdrive/MyDrive/Colab_Notebooks/Fire_ImageDataSet/Neutral/N_image_641.jpg',\n",
              " '/content/gdrive/MyDrive/Colab_Notebooks/Fire_ImageDataSet/Neutral/N_image_640.jpg',\n",
              " '/content/gdrive/MyDrive/Colab_Notebooks/Fire_ImageDataSet/Neutral/N_image_64.jpg',\n",
              " '/content/gdrive/MyDrive/Colab_Notebooks/Fire_ImageDataSet/Neutral/N_image_637.jpg',\n",
              " '/content/gdrive/MyDrive/Colab_Notebooks/Fire_ImageDataSet/Neutral/N_image_639.jpg',\n",
              " '/content/gdrive/MyDrive/Colab_Notebooks/Fire_ImageDataSet/Neutral/N_image_638.jpg',\n",
              " '/content/gdrive/MyDrive/Colab_Notebooks/Fire_ImageDataSet/Neutral/TN_image_49.jpg',\n",
              " '/content/gdrive/MyDrive/Colab_Notebooks/Fire_ImageDataSet/Neutral/N_image_636.jpg',\n",
              " '/content/gdrive/MyDrive/Colab_Notebooks/Fire_ImageDataSet/Neutral/TN_image_48.jpg',\n",
              " '/content/gdrive/MyDrive/Colab_Notebooks/Fire_ImageDataSet/Neutral/N_image_630.jpg',\n",
              " '/content/gdrive/MyDrive/Colab_Notebooks/Fire_ImageDataSet/Neutral/N_image_633.jpg',\n",
              " '/content/gdrive/MyDrive/Colab_Notebooks/Fire_ImageDataSet/Neutral/N_image_632.jpg',\n",
              " '/content/gdrive/MyDrive/Colab_Notebooks/Fire_ImageDataSet/Neutral/N_image_635.jpg',\n",
              " '/content/gdrive/MyDrive/Colab_Notebooks/Fire_ImageDataSet/Neutral/N_image_634.jpg',\n",
              " '/content/gdrive/MyDrive/Colab_Notebooks/Fire_ImageDataSet/Neutral/N_image_63.jpg',\n",
              " '/content/gdrive/MyDrive/Colab_Notebooks/Fire_ImageDataSet/Neutral/N_image_631.jpg',\n",
              " '/content/gdrive/MyDrive/Colab_Notebooks/Fire_ImageDataSet/Neutral/N_image_629.jpg',\n",
              " '/content/gdrive/MyDrive/Colab_Notebooks/Fire_ImageDataSet/Neutral/N_image_628.jpg',\n",
              " '/content/gdrive/MyDrive/Colab_Notebooks/Fire_ImageDataSet/Neutral/TN_image_47.jpg',\n",
              " '/content/gdrive/MyDrive/Colab_Notebooks/Fire_ImageDataSet/Neutral/N_image_627.jpg',\n",
              " '/content/gdrive/MyDrive/Colab_Notebooks/Fire_ImageDataSet/Neutral/N_image_624.jpg',\n",
              " '/content/gdrive/MyDrive/Colab_Notebooks/Fire_ImageDataSet/Neutral/N_image_626.jpg',\n",
              " '/content/gdrive/MyDrive/Colab_Notebooks/Fire_ImageDataSet/Neutral/N_image_623.jpg',\n",
              " '/content/gdrive/MyDrive/Colab_Notebooks/Fire_ImageDataSet/Neutral/N_image_625.jpg',\n",
              " '/content/gdrive/MyDrive/Colab_Notebooks/Fire_ImageDataSet/Neutral/N_image_622.jpg',\n",
              " '/content/gdrive/MyDrive/Colab_Notebooks/Fire_ImageDataSet/Neutral/N_image_621.jpg',\n",
              " '/content/gdrive/MyDrive/Colab_Notebooks/Fire_ImageDataSet/Neutral/N_image_619.jpg',\n",
              " '/content/gdrive/MyDrive/Colab_Notebooks/Fire_ImageDataSet/Neutral/N_image_620.jpg',\n",
              " '/content/gdrive/MyDrive/Colab_Notebooks/Fire_ImageDataSet/Neutral/N_image_62.jpg',\n",
              " '/content/gdrive/MyDrive/Colab_Notebooks/Fire_ImageDataSet/Neutral/TN_image_66.jpg',\n",
              " '/content/gdrive/MyDrive/Colab_Notebooks/Fire_ImageDataSet/Neutral/N_image_717.jpg',\n",
              " '/content/gdrive/MyDrive/Colab_Notebooks/Fire_ImageDataSet/Neutral/TN_image_65.jpg',\n",
              " '/content/gdrive/MyDrive/Colab_Notebooks/Fire_ImageDataSet/Neutral/N_image_716.jpg',\n",
              " '/content/gdrive/MyDrive/Colab_Notebooks/Fire_ImageDataSet/Neutral/N_image_711.jpg',\n",
              " '/content/gdrive/MyDrive/Colab_Notebooks/Fire_ImageDataSet/Neutral/N_image_712.jpg',\n",
              " '/content/gdrive/MyDrive/Colab_Notebooks/Fire_ImageDataSet/Neutral/N_image_713.jpg',\n",
              " '/content/gdrive/MyDrive/Colab_Notebooks/Fire_ImageDataSet/Neutral/N_image_715.jpg',\n",
              " '/content/gdrive/MyDrive/Colab_Notebooks/Fire_ImageDataSet/Neutral/N_image_710.jpg',\n",
              " '/content/gdrive/MyDrive/Colab_Notebooks/Fire_ImageDataSet/Neutral/N_image_714.jpg',\n",
              " '/content/gdrive/MyDrive/Colab_Notebooks/Fire_ImageDataSet/Neutral/N_image_71.jpg',\n",
              " '/content/gdrive/MyDrive/Colab_Notebooks/Fire_ImageDataSet/Neutral/N_image_709.jpg',\n",
              " '/content/gdrive/MyDrive/Colab_Notebooks/Fire_ImageDataSet/Neutral/TN_image_64.jpg',\n",
              " '/content/gdrive/MyDrive/Colab_Notebooks/Fire_ImageDataSet/Neutral/N_image_708.jpg',\n",
              " '/content/gdrive/MyDrive/Colab_Notebooks/Fire_ImageDataSet/Neutral/TN_image_63.jpg',\n",
              " '/content/gdrive/MyDrive/Colab_Notebooks/Fire_ImageDataSet/Neutral/N_image_703.jpg',\n",
              " '/content/gdrive/MyDrive/Colab_Notebooks/Fire_ImageDataSet/Neutral/N_image_707.jpg',\n",
              " '/content/gdrive/MyDrive/Colab_Notebooks/Fire_ImageDataSet/Neutral/N_image_705.jpg',\n",
              " '/content/gdrive/MyDrive/Colab_Notebooks/Fire_ImageDataSet/Neutral/N_image_706.jpg',\n",
              " '/content/gdrive/MyDrive/Colab_Notebooks/Fire_ImageDataSet/Neutral/N_image_704.jpg',\n",
              " '/content/gdrive/MyDrive/Colab_Notebooks/Fire_ImageDataSet/Neutral/N_image_702.jpg',\n",
              " '/content/gdrive/MyDrive/Colab_Notebooks/Fire_ImageDataSet/Neutral/N_image_701.jpg',\n",
              " '/content/gdrive/MyDrive/Colab_Notebooks/Fire_ImageDataSet/Neutral/N_image_70.jpg',\n",
              " '/content/gdrive/MyDrive/Colab_Notebooks/Fire_ImageDataSet/Neutral/N_image_700.jpg',\n",
              " '/content/gdrive/MyDrive/Colab_Notebooks/Fire_ImageDataSet/Neutral/TN_image_62.jpg',\n",
              " '/content/gdrive/MyDrive/Colab_Notebooks/Fire_ImageDataSet/Neutral/N_image_7.jpg',\n",
              " '/content/gdrive/MyDrive/Colab_Notebooks/Fire_ImageDataSet/Neutral/N_image_693.jpg',\n",
              " '/content/gdrive/MyDrive/Colab_Notebooks/Fire_ImageDataSet/Neutral/N_image_699.jpg',\n",
              " '/content/gdrive/MyDrive/Colab_Notebooks/Fire_ImageDataSet/Neutral/N_image_697.jpg',\n",
              " '/content/gdrive/MyDrive/Colab_Notebooks/Fire_ImageDataSet/Neutral/N_image_691.jpg',\n",
              " '/content/gdrive/MyDrive/Colab_Notebooks/Fire_ImageDataSet/Neutral/N_image_696.jpg',\n",
              " '/content/gdrive/MyDrive/Colab_Notebooks/Fire_ImageDataSet/Neutral/N_image_698.jpg',\n",
              " '/content/gdrive/MyDrive/Colab_Notebooks/Fire_ImageDataSet/Neutral/N_image_694.jpg',\n",
              " '/content/gdrive/MyDrive/Colab_Notebooks/Fire_ImageDataSet/Neutral/N_image_695.jpg',\n",
              " '/content/gdrive/MyDrive/Colab_Notebooks/Fire_ImageDataSet/Neutral/N_image_692.jpg',\n",
              " '/content/gdrive/MyDrive/Colab_Notebooks/Fire_ImageDataSet/Neutral/TN_image_61.jpg',\n",
              " '/content/gdrive/MyDrive/Colab_Notebooks/Fire_ImageDataSet/Neutral/TN_image_60.jpg',\n",
              " '/content/gdrive/MyDrive/Colab_Notebooks/Fire_ImageDataSet/Neutral/N_image_690.jpg',\n",
              " '/content/gdrive/MyDrive/Colab_Notebooks/Fire_ImageDataSet/Neutral/TN_image_6.jpg',\n",
              " '/content/gdrive/MyDrive/Colab_Notebooks/Fire_ImageDataSet/Neutral/N_image_687.jpg',\n",
              " '/content/gdrive/MyDrive/Colab_Notebooks/Fire_ImageDataSet/Neutral/N_image_689.jpg',\n",
              " '/content/gdrive/MyDrive/Colab_Notebooks/Fire_ImageDataSet/Neutral/N_image_69.jpg',\n",
              " '/content/gdrive/MyDrive/Colab_Notebooks/Fire_ImageDataSet/Neutral/N_image_688.jpg',\n",
              " '/content/gdrive/MyDrive/Colab_Notebooks/Fire_ImageDataSet/Neutral/N_image_686.jpg',\n",
              " '/content/gdrive/MyDrive/Colab_Notebooks/Fire_ImageDataSet/Neutral/N_image_684.jpg',\n",
              " '/content/gdrive/MyDrive/Colab_Notebooks/Fire_ImageDataSet/Neutral/N_image_685.jpg',\n",
              " '/content/gdrive/MyDrive/Colab_Notebooks/Fire_ImageDataSet/Neutral/N_image_683.jpg',\n",
              " '/content/gdrive/MyDrive/Colab_Notebooks/Fire_ImageDataSet/Neutral/N_image_682.jpg',\n",
              " '/content/gdrive/MyDrive/Colab_Notebooks/Fire_ImageDataSet/Neutral/TN_image_59.jpg',\n",
              " '/content/gdrive/MyDrive/Colab_Notebooks/Fire_ImageDataSet/Neutral/N_image_681.jpg',\n",
              " '/content/gdrive/MyDrive/Colab_Notebooks/Fire_ImageDataSet/Neutral/TN_image_58.jpg',\n",
              " '/content/gdrive/MyDrive/Colab_Notebooks/Fire_ImageDataSet/Neutral/TN_image_57.jpg',\n",
              " '/content/gdrive/MyDrive/Colab_Notebooks/Fire_ImageDataSet/Neutral/N_image_678.jpg',\n",
              " '/content/gdrive/MyDrive/Colab_Notebooks/Fire_ImageDataSet/Neutral/N_image_679.jpg',\n",
              " '/content/gdrive/MyDrive/Colab_Notebooks/Fire_ImageDataSet/Neutral/N_image_677.jpg',\n",
              " '/content/gdrive/MyDrive/Colab_Notebooks/Fire_ImageDataSet/Neutral/N_image_68.jpg',\n",
              " '/content/gdrive/MyDrive/Colab_Notebooks/Fire_ImageDataSet/Neutral/N_image_676.jpg',\n",
              " '/content/gdrive/MyDrive/Colab_Notebooks/Fire_ImageDataSet/Neutral/N_image_680.jpg',\n",
              " '/content/gdrive/MyDrive/Colab_Notebooks/Fire_ImageDataSet/Neutral/N_image_675.jpg',\n",
              " '/content/gdrive/MyDrive/Colab_Notebooks/Fire_ImageDataSet/Neutral/N_image_674.jpg',\n",
              " '/content/gdrive/MyDrive/Colab_Notebooks/Fire_ImageDataSet/Neutral/N_image_673.jpg',\n",
              " '/content/gdrive/MyDrive/Colab_Notebooks/Fire_ImageDataSet/Neutral/N_image_770.jpg',\n",
              " '/content/gdrive/MyDrive/Colab_Notebooks/Fire_ImageDataSet/Neutral/N_image_769.jpg',\n",
              " '/content/gdrive/MyDrive/Colab_Notebooks/Fire_ImageDataSet/Neutral/N_image_768.jpg',\n",
              " '/content/gdrive/MyDrive/Colab_Notebooks/Fire_ImageDataSet/Neutral/N_image_771.jpg',\n",
              " '/content/gdrive/MyDrive/Colab_Notebooks/Fire_ImageDataSet/Neutral/N_image_77.jpg',\n",
              " '/content/gdrive/MyDrive/Colab_Notebooks/Fire_ImageDataSet/Neutral/N_image_772.jpg',\n",
              " '/content/gdrive/MyDrive/Colab_Notebooks/Fire_ImageDataSet/Neutral/N_image_766.jpg',\n",
              " '/content/gdrive/MyDrive/Colab_Notebooks/Fire_ImageDataSet/Neutral/N_image_767.jpg',\n",
              " '/content/gdrive/MyDrive/Colab_Notebooks/Fire_ImageDataSet/Neutral/N_image_765.jpg',\n",
              " '/content/gdrive/MyDrive/Colab_Notebooks/Fire_ImageDataSet/Neutral/TN_image_76.jpg',\n",
              " '/content/gdrive/MyDrive/Colab_Notebooks/Fire_ImageDataSet/Neutral/TN_image_75.jpg',\n",
              " '/content/gdrive/MyDrive/Colab_Notebooks/Fire_ImageDataSet/Neutral/N_image_764.jpg',\n",
              " '/content/gdrive/MyDrive/Colab_Notebooks/Fire_ImageDataSet/Neutral/TN_image_74.jpg',\n",
              " '/content/gdrive/MyDrive/Colab_Notebooks/Fire_ImageDataSet/Neutral/N_image_762.jpg',\n",
              " '/content/gdrive/MyDrive/Colab_Notebooks/Fire_ImageDataSet/Neutral/N_image_758.jpg',\n",
              " '/content/gdrive/MyDrive/Colab_Notebooks/Fire_ImageDataSet/Neutral/N_image_76.jpg',\n",
              " '/content/gdrive/MyDrive/Colab_Notebooks/Fire_ImageDataSet/Neutral/N_image_760.jpg',\n",
              " '/content/gdrive/MyDrive/Colab_Notebooks/Fire_ImageDataSet/Neutral/N_image_763.jpg',\n",
              " '/content/gdrive/MyDrive/Colab_Notebooks/Fire_ImageDataSet/Neutral/N_image_761.jpg',\n",
              " '/content/gdrive/MyDrive/Colab_Notebooks/Fire_ImageDataSet/Neutral/N_image_757.jpg',\n",
              " '/content/gdrive/MyDrive/Colab_Notebooks/Fire_ImageDataSet/Neutral/N_image_759.jpg',\n",
              " '/content/gdrive/MyDrive/Colab_Notebooks/Fire_ImageDataSet/Neutral/N_image_756.jpg',\n",
              " '/content/gdrive/MyDrive/Colab_Notebooks/Fire_ImageDataSet/Neutral/TN_image_73.jpg',\n",
              " '/content/gdrive/MyDrive/Colab_Notebooks/Fire_ImageDataSet/Neutral/N_image_755.jpg',\n",
              " '/content/gdrive/MyDrive/Colab_Notebooks/Fire_ImageDataSet/Neutral/N_image_754.jpg',\n",
              " '/content/gdrive/MyDrive/Colab_Notebooks/Fire_ImageDataSet/Neutral/N_image_749.jpg',\n",
              " '/content/gdrive/MyDrive/Colab_Notebooks/Fire_ImageDataSet/Neutral/N_image_750.jpg',\n",
              " '/content/gdrive/MyDrive/Colab_Notebooks/Fire_ImageDataSet/Neutral/N_image_752.jpg',\n",
              " '/content/gdrive/MyDrive/Colab_Notebooks/Fire_ImageDataSet/Neutral/N_image_753.jpg',\n",
              " '/content/gdrive/MyDrive/Colab_Notebooks/Fire_ImageDataSet/Neutral/N_image_748.jpg',\n",
              " '/content/gdrive/MyDrive/Colab_Notebooks/Fire_ImageDataSet/Neutral/N_image_75.jpg',\n",
              " '/content/gdrive/MyDrive/Colab_Notebooks/Fire_ImageDataSet/Neutral/N_image_751.jpg',\n",
              " '/content/gdrive/MyDrive/Colab_Notebooks/Fire_ImageDataSet/Neutral/N_image_747.jpg',\n",
              " '/content/gdrive/MyDrive/Colab_Notebooks/Fire_ImageDataSet/Neutral/TN_image_72.jpg',\n",
              " '/content/gdrive/MyDrive/Colab_Notebooks/Fire_ImageDataSet/Neutral/TN_image_71.jpg',\n",
              " '/content/gdrive/MyDrive/Colab_Notebooks/Fire_ImageDataSet/Neutral/N_image_746.jpg',\n",
              " '/content/gdrive/MyDrive/Colab_Notebooks/Fire_ImageDataSet/Neutral/N_image_745.jpg',\n",
              " '/content/gdrive/MyDrive/Colab_Notebooks/Fire_ImageDataSet/Neutral/N_image_743.jpg',\n",
              " '/content/gdrive/MyDrive/Colab_Notebooks/Fire_ImageDataSet/Neutral/N_image_744.jpg',\n",
              " '/content/gdrive/MyDrive/Colab_Notebooks/Fire_ImageDataSet/Neutral/N_image_742.jpg',\n",
              " '/content/gdrive/MyDrive/Colab_Notebooks/Fire_ImageDataSet/Neutral/N_image_741.jpg',\n",
              " '/content/gdrive/MyDrive/Colab_Notebooks/Fire_ImageDataSet/Neutral/N_image_74.jpg',\n",
              " '/content/gdrive/MyDrive/Colab_Notebooks/Fire_ImageDataSet/Neutral/N_image_739.jpg',\n",
              " '/content/gdrive/MyDrive/Colab_Notebooks/Fire_ImageDataSet/Neutral/N_image_740.jpg',\n",
              " '/content/gdrive/MyDrive/Colab_Notebooks/Fire_ImageDataSet/Neutral/N_image_738.jpg',\n",
              " '/content/gdrive/MyDrive/Colab_Notebooks/Fire_ImageDataSet/Neutral/TN_image_70.jpg',\n",
              " '/content/gdrive/MyDrive/Colab_Notebooks/Fire_ImageDataSet/Neutral/TN_image_7.jpg',\n",
              " '/content/gdrive/MyDrive/Colab_Notebooks/Fire_ImageDataSet/Neutral/N_image_737.jpg',\n",
              " '/content/gdrive/MyDrive/Colab_Notebooks/Fire_ImageDataSet/Neutral/TN_image_69.jpg',\n",
              " '/content/gdrive/MyDrive/Colab_Notebooks/Fire_ImageDataSet/Neutral/N_image_736.jpg',\n",
              " '/content/gdrive/MyDrive/Colab_Notebooks/Fire_ImageDataSet/Neutral/N_image_734.jpg',\n",
              " '/content/gdrive/MyDrive/Colab_Notebooks/Fire_ImageDataSet/Neutral/N_image_735.jpg',\n",
              " '/content/gdrive/MyDrive/Colab_Notebooks/Fire_ImageDataSet/Neutral/N_image_733.jpg',\n",
              " '/content/gdrive/MyDrive/Colab_Notebooks/Fire_ImageDataSet/Neutral/N_image_732.jpg',\n",
              " '/content/gdrive/MyDrive/Colab_Notebooks/Fire_ImageDataSet/Neutral/N_image_731.jpg',\n",
              " '/content/gdrive/MyDrive/Colab_Notebooks/Fire_ImageDataSet/Neutral/N_image_73.jpg',\n",
              " '/content/gdrive/MyDrive/Colab_Notebooks/Fire_ImageDataSet/Neutral/N_image_728.jpg',\n",
              " '/content/gdrive/MyDrive/Colab_Notebooks/Fire_ImageDataSet/Neutral/N_image_729.jpg',\n",
              " '/content/gdrive/MyDrive/Colab_Notebooks/Fire_ImageDataSet/Neutral/TN_image_68.jpg',\n",
              " '/content/gdrive/MyDrive/Colab_Notebooks/Fire_ImageDataSet/Neutral/N_image_727.jpg',\n",
              " '/content/gdrive/MyDrive/Colab_Notebooks/Fire_ImageDataSet/Neutral/TN_image_67.jpg',\n",
              " '/content/gdrive/MyDrive/Colab_Notebooks/Fire_ImageDataSet/Neutral/N_image_721.jpg',\n",
              " '/content/gdrive/MyDrive/Colab_Notebooks/Fire_ImageDataSet/Neutral/N_image_725.jpg',\n",
              " '/content/gdrive/MyDrive/Colab_Notebooks/Fire_ImageDataSet/Neutral/N_image_726.jpg',\n",
              " '/content/gdrive/MyDrive/Colab_Notebooks/Fire_ImageDataSet/Neutral/N_image_723.jpg',\n",
              " '/content/gdrive/MyDrive/Colab_Notebooks/Fire_ImageDataSet/Neutral/N_image_722.jpg',\n",
              " '/content/gdrive/MyDrive/Colab_Notebooks/Fire_ImageDataSet/Neutral/N_image_720.jpg',\n",
              " '/content/gdrive/MyDrive/Colab_Notebooks/Fire_ImageDataSet/Neutral/N_image_719.jpg',\n",
              " '/content/gdrive/MyDrive/Colab_Notebooks/Fire_ImageDataSet/Neutral/N_image_72.jpg',\n",
              " '/content/gdrive/MyDrive/Colab_Notebooks/Fire_ImageDataSet/Neutral/N_image_718.jpg',\n",
              " '/content/gdrive/MyDrive/Colab_Notebooks/Fire_ImageDataSet/Neutral/TN_image_85.jpg',\n",
              " '/content/gdrive/MyDrive/Colab_Notebooks/Fire_ImageDataSet/Neutral/N_image_815.jpg',\n",
              " '/content/gdrive/MyDrive/Colab_Notebooks/Fire_ImageDataSet/Neutral/N_image_817.jpg',\n",
              " '/content/gdrive/MyDrive/Colab_Notebooks/Fire_ImageDataSet/Neutral/N_image_813.jpg',\n",
              " '/content/gdrive/MyDrive/Colab_Notebooks/Fire_ImageDataSet/Neutral/N_image_818.jpg',\n",
              " '/content/gdrive/MyDrive/Colab_Notebooks/Fire_ImageDataSet/Neutral/N_image_816.jpg',\n",
              " '/content/gdrive/MyDrive/Colab_Notebooks/Fire_ImageDataSet/Neutral/N_image_811.jpg',\n",
              " '/content/gdrive/MyDrive/Colab_Notebooks/Fire_ImageDataSet/Neutral/N_image_814.jpg',\n",
              " '/content/gdrive/MyDrive/Colab_Notebooks/Fire_ImageDataSet/Neutral/N_image_812.jpg',\n",
              " '/content/gdrive/MyDrive/Colab_Notebooks/Fire_ImageDataSet/Neutral/N_image_810.jpg',\n",
              " '/content/gdrive/MyDrive/Colab_Notebooks/Fire_ImageDataSet/Neutral/TN_image_84.jpg',\n",
              " '/content/gdrive/MyDrive/Colab_Notebooks/Fire_ImageDataSet/Neutral/N_image_81.jpg',\n",
              " '/content/gdrive/MyDrive/Colab_Notebooks/Fire_ImageDataSet/Neutral/TN_image_83.jpg',\n",
              " '/content/gdrive/MyDrive/Colab_Notebooks/Fire_ImageDataSet/Neutral/N_image_806.jpg',\n",
              " '/content/gdrive/MyDrive/Colab_Notebooks/Fire_ImageDataSet/Neutral/N_image_809.jpg',\n",
              " '/content/gdrive/MyDrive/Colab_Notebooks/Fire_ImageDataSet/Neutral/N_image_808.jpg',\n",
              " '/content/gdrive/MyDrive/Colab_Notebooks/Fire_ImageDataSet/Neutral/N_image_804.jpg',\n",
              " '/content/gdrive/MyDrive/Colab_Notebooks/Fire_ImageDataSet/Neutral/N_image_807.jpg',\n",
              " '/content/gdrive/MyDrive/Colab_Notebooks/Fire_ImageDataSet/Neutral/N_image_805.jpg',\n",
              " '/content/gdrive/MyDrive/Colab_Notebooks/Fire_ImageDataSet/Neutral/N_image_803.jpg',\n",
              " '/content/gdrive/MyDrive/Colab_Notebooks/Fire_ImageDataSet/Neutral/N_image_802.jpg',\n",
              " '/content/gdrive/MyDrive/Colab_Notebooks/Fire_ImageDataSet/Neutral/N_image_801.jpg',\n",
              " '/content/gdrive/MyDrive/Colab_Notebooks/Fire_ImageDataSet/Neutral/TN_image_82.jpg',\n",
              " '/content/gdrive/MyDrive/Colab_Notebooks/Fire_ImageDataSet/Neutral/N_image_800.jpg',\n",
              " '/content/gdrive/MyDrive/Colab_Notebooks/Fire_ImageDataSet/Neutral/TN_image_81.jpg',\n",
              " '/content/gdrive/MyDrive/Colab_Notebooks/Fire_ImageDataSet/Neutral/N_image_80.jpg',\n",
              " '/content/gdrive/MyDrive/Colab_Notebooks/Fire_ImageDataSet/Neutral/N_image_799.jpg',\n",
              " '/content/gdrive/MyDrive/Colab_Notebooks/Fire_ImageDataSet/Neutral/N_image_798.jpg',\n",
              " '/content/gdrive/MyDrive/Colab_Notebooks/Fire_ImageDataSet/Neutral/N_image_8.jpg',\n",
              " '/content/gdrive/MyDrive/Colab_Notebooks/Fire_ImageDataSet/Neutral/N_image_796.jpg',\n",
              " '/content/gdrive/MyDrive/Colab_Notebooks/Fire_ImageDataSet/Neutral/N_image_797.jpg',\n",
              " '/content/gdrive/MyDrive/Colab_Notebooks/Fire_ImageDataSet/Neutral/N_image_793.jpg',\n",
              " '/content/gdrive/MyDrive/Colab_Notebooks/Fire_ImageDataSet/Neutral/N_image_795.jpg',\n",
              " '/content/gdrive/MyDrive/Colab_Notebooks/Fire_ImageDataSet/Neutral/N_image_794.jpg',\n",
              " '/content/gdrive/MyDrive/Colab_Notebooks/Fire_ImageDataSet/Neutral/TN_image_80.jpg',\n",
              " '/content/gdrive/MyDrive/Colab_Notebooks/Fire_ImageDataSet/Neutral/TN_image_8.jpg',\n",
              " '/content/gdrive/MyDrive/Colab_Notebooks/Fire_ImageDataSet/Neutral/N_image_792.jpg',\n",
              " '/content/gdrive/MyDrive/Colab_Notebooks/Fire_ImageDataSet/Neutral/TN_image_79.jpg',\n",
              " '/content/gdrive/MyDrive/Colab_Notebooks/Fire_ImageDataSet/Neutral/N_image_787.jpg',\n",
              " '/content/gdrive/MyDrive/Colab_Notebooks/Fire_ImageDataSet/Neutral/N_image_786.jpg',\n",
              " '/content/gdrive/MyDrive/Colab_Notebooks/Fire_ImageDataSet/Neutral/N_image_789.jpg',\n",
              " '/content/gdrive/MyDrive/Colab_Notebooks/Fire_ImageDataSet/Neutral/N_image_785.jpg',\n",
              " '/content/gdrive/MyDrive/Colab_Notebooks/Fire_ImageDataSet/Neutral/N_image_788.jpg',\n",
              " '/content/gdrive/MyDrive/Colab_Notebooks/Fire_ImageDataSet/Neutral/N_image_79.jpg',\n",
              " '/content/gdrive/MyDrive/Colab_Notebooks/Fire_ImageDataSet/Neutral/N_image_790.jpg',\n",
              " '/content/gdrive/MyDrive/Colab_Notebooks/Fire_ImageDataSet/Neutral/N_image_791.jpg',\n",
              " '/content/gdrive/MyDrive/Colab_Notebooks/Fire_ImageDataSet/Neutral/N_image_784.jpg',\n",
              " '/content/gdrive/MyDrive/Colab_Notebooks/Fire_ImageDataSet/Neutral/TN_image_78.jpg',\n",
              " '/content/gdrive/MyDrive/Colab_Notebooks/Fire_ImageDataSet/Neutral/TN_image_77.jpg',\n",
              " '/content/gdrive/MyDrive/Colab_Notebooks/Fire_ImageDataSet/Neutral/N_image_783.jpg',\n",
              " '/content/gdrive/MyDrive/Colab_Notebooks/Fire_ImageDataSet/Neutral/N_image_781.jpg',\n",
              " '/content/gdrive/MyDrive/Colab_Notebooks/Fire_ImageDataSet/Neutral/N_image_782.jpg',\n",
              " '/content/gdrive/MyDrive/Colab_Notebooks/Fire_ImageDataSet/Neutral/N_image_779.jpg',\n",
              " '/content/gdrive/MyDrive/Colab_Notebooks/Fire_ImageDataSet/Neutral/N_image_780.jpg',\n",
              " '/content/gdrive/MyDrive/Colab_Notebooks/Fire_ImageDataSet/Neutral/N_image_777.jpg',\n",
              " '/content/gdrive/MyDrive/Colab_Notebooks/Fire_ImageDataSet/Neutral/N_image_776.jpg',\n",
              " '/content/gdrive/MyDrive/Colab_Notebooks/Fire_ImageDataSet/Neutral/N_image_778.jpg',\n",
              " '/content/gdrive/MyDrive/Colab_Notebooks/Fire_ImageDataSet/Neutral/N_image_775.jpg',\n",
              " '/content/gdrive/MyDrive/Colab_Notebooks/Fire_ImageDataSet/Neutral/N_image_774.jpg',\n",
              " '/content/gdrive/MyDrive/Colab_Notebooks/Fire_ImageDataSet/Neutral/N_image_773.jpg',\n",
              " '/content/gdrive/MyDrive/Colab_Notebooks/Fire_ImageDataSet/Neutral/TN_image_97.jpg',\n",
              " '/content/gdrive/MyDrive/Colab_Notebooks/Fire_ImageDataSet/Neutral/TN_image_96.jpg',\n",
              " '/content/gdrive/MyDrive/Colab_Notebooks/Fire_ImageDataSet/Neutral/TN_image_95.jpg',\n",
              " '/content/gdrive/MyDrive/Colab_Notebooks/Fire_ImageDataSet/Neutral/N_image_99.jpg',\n",
              " '/content/gdrive/MyDrive/Colab_Notebooks/Fire_ImageDataSet/Neutral/N_image_97.jpg',\n",
              " '/content/gdrive/MyDrive/Colab_Notebooks/Fire_ImageDataSet/Neutral/N_image_98.jpg',\n",
              " '/content/gdrive/MyDrive/Colab_Notebooks/Fire_ImageDataSet/Neutral/TN_image_94.jpg',\n",
              " '/content/gdrive/MyDrive/Colab_Notebooks/Fire_ImageDataSet/Neutral/N_image_96.jpg',\n",
              " '/content/gdrive/MyDrive/Colab_Notebooks/Fire_ImageDataSet/Neutral/TN_image_93.jpg',\n",
              " '/content/gdrive/MyDrive/Colab_Notebooks/Fire_ImageDataSet/Neutral/N_image_91.jpg',\n",
              " '/content/gdrive/MyDrive/Colab_Notebooks/Fire_ImageDataSet/Neutral/N_image_95.jpg',\n",
              " '/content/gdrive/MyDrive/Colab_Notebooks/Fire_ImageDataSet/Neutral/N_image_93.jpg',\n",
              " '/content/gdrive/MyDrive/Colab_Notebooks/Fire_ImageDataSet/Neutral/N_image_94.jpg',\n",
              " '/content/gdrive/MyDrive/Colab_Notebooks/Fire_ImageDataSet/Neutral/N_image_92.jpg',\n",
              " '/content/gdrive/MyDrive/Colab_Notebooks/Fire_ImageDataSet/Neutral/N_image_90.jpg',\n",
              " '/content/gdrive/MyDrive/Colab_Notebooks/Fire_ImageDataSet/Neutral/N_image_89.jpg',\n",
              " '/content/gdrive/MyDrive/Colab_Notebooks/Fire_ImageDataSet/Neutral/N_image_9.jpg',\n",
              " '/content/gdrive/MyDrive/Colab_Notebooks/Fire_ImageDataSet/Neutral/N_image_88.jpg',\n",
              " '/content/gdrive/MyDrive/Colab_Notebooks/Fire_ImageDataSet/Neutral/TN_image_92.jpg',\n",
              " '/content/gdrive/MyDrive/Colab_Notebooks/Fire_ImageDataSet/Neutral/N_image_87.jpg',\n",
              " '/content/gdrive/MyDrive/Colab_Notebooks/Fire_ImageDataSet/Neutral/TN_image_91.jpg',\n",
              " '/content/gdrive/MyDrive/Colab_Notebooks/Fire_ImageDataSet/Neutral/N_image_86.jpg',\n",
              " '/content/gdrive/MyDrive/Colab_Notebooks/Fire_ImageDataSet/Neutral/N_image_85.jpg',\n",
              " '/content/gdrive/MyDrive/Colab_Notebooks/Fire_ImageDataSet/Neutral/N_image_842.jpg',\n",
              " '/content/gdrive/MyDrive/Colab_Notebooks/Fire_ImageDataSet/Neutral/N_image_839.jpg',\n",
              " '/content/gdrive/MyDrive/Colab_Notebooks/Fire_ImageDataSet/Neutral/N_image_841.jpg',\n",
              " '/content/gdrive/MyDrive/Colab_Notebooks/Fire_ImageDataSet/Neutral/N_image_840.jpg',\n",
              " '/content/gdrive/MyDrive/Colab_Notebooks/Fire_ImageDataSet/Neutral/N_image_843.jpg',\n",
              " '/content/gdrive/MyDrive/Colab_Notebooks/Fire_ImageDataSet/Neutral/N_image_84.jpg',\n",
              " '/content/gdrive/MyDrive/Colab_Notebooks/Fire_ImageDataSet/Neutral/N_image_838.jpg',\n",
              " '/content/gdrive/MyDrive/Colab_Notebooks/Fire_ImageDataSet/Neutral/TN_image_90.jpg',\n",
              " '/content/gdrive/MyDrive/Colab_Notebooks/Fire_ImageDataSet/Neutral/N_image_837.jpg',\n",
              " '/content/gdrive/MyDrive/Colab_Notebooks/Fire_ImageDataSet/Neutral/TN_image_9.jpg',\n",
              " '/content/gdrive/MyDrive/Colab_Notebooks/Fire_ImageDataSet/Neutral/N_image_836.jpg',\n",
              " '/content/gdrive/MyDrive/Colab_Notebooks/Fire_ImageDataSet/Neutral/N_image_830.jpg',\n",
              " '/content/gdrive/MyDrive/Colab_Notebooks/Fire_ImageDataSet/Neutral/N_image_831.jpg',\n",
              " '/content/gdrive/MyDrive/Colab_Notebooks/Fire_ImageDataSet/Neutral/N_image_832.jpg',\n",
              " '/content/gdrive/MyDrive/Colab_Notebooks/Fire_ImageDataSet/Neutral/N_image_834.jpg',\n",
              " '/content/gdrive/MyDrive/Colab_Notebooks/Fire_ImageDataSet/Neutral/N_image_835.jpg',\n",
              " '/content/gdrive/MyDrive/Colab_Notebooks/Fire_ImageDataSet/Neutral/N_image_833.jpg',\n",
              " '/content/gdrive/MyDrive/Colab_Notebooks/Fire_ImageDataSet/Neutral/N_image_83.jpg',\n",
              " '/content/gdrive/MyDrive/Colab_Notebooks/Fire_ImageDataSet/Neutral/N_image_829.jpg',\n",
              " '/content/gdrive/MyDrive/Colab_Notebooks/Fire_ImageDataSet/Neutral/TN_image_89.jpg',\n",
              " '/content/gdrive/MyDrive/Colab_Notebooks/Fire_ImageDataSet/Neutral/N_image_828.jpg',\n",
              " '/content/gdrive/MyDrive/Colab_Notebooks/Fire_ImageDataSet/Neutral/N_image_827.jpg',\n",
              " '/content/gdrive/MyDrive/Colab_Notebooks/Fire_ImageDataSet/Neutral/N_image_826.jpg',\n",
              " '/content/gdrive/MyDrive/Colab_Notebooks/Fire_ImageDataSet/Neutral/N_image_820.jpg',\n",
              " '/content/gdrive/MyDrive/Colab_Notebooks/Fire_ImageDataSet/Neutral/N_image_823.jpg',\n",
              " '/content/gdrive/MyDrive/Colab_Notebooks/Fire_ImageDataSet/Neutral/N_image_825.jpg',\n",
              " '/content/gdrive/MyDrive/Colab_Notebooks/Fire_ImageDataSet/Neutral/N_image_821.jpg',\n",
              " ...]"
            ]
          },
          "execution_count": 10,
          "metadata": {},
          "output_type": "execute_result"
        }
      ],
      "source": [
        "image_path_list = []\n",
        "\n",
        "valid_vdo_extensions = [\".jpg\", \".jpeg\", \".png\", \".tif\", \".tiff\"] #specify your vald extensions here #specify vald extensions here\n",
        "valid_vdo_extensions = [item.lower() for item in valid_vdo_extensions]\n",
        "     \n",
        "#create a list all files in directory and\n",
        "#append files with a vaild extention to image_path_list\n",
        "for file in os.listdir(baseimagefolders):  ### extract each vdo from a given folder\n",
        "    #print(file)\n",
        "    extension = os.path.splitext(file)[1] ### How to extract only extension of a vdo file\n",
        "    if extension.lower() not in valid_vdo_extensions:\n",
        "        continue\n",
        "            \n",
        "    # image_path_list contains list of all vdo files with full path bame of a given vdo folder\n",
        "    image_path_list.append(os.path.join(baseimagefolders, file))\n",
        "image_path_list"
      ]
    },
    {
      "cell_type": "code",
      "execution_count": null,
      "metadata": {
        "id": "LTCzAT34m65V"
      },
      "outputs": [],
      "source": [
        "def img_Framing_Process(child, imageDir):\n",
        "#------------------\n",
        " \n",
        "\n",
        "    # Following 3 variables - for final csv \n",
        "    frame_filename = []\n",
        "    frame_image    = []\n",
        "    frame_class    = []\n",
        "    \n",
        "    \n",
        "   \n",
        "    #  valid extensions of base image\n",
        "    image_path_list = []\n",
        "\n",
        "    valid_extensions = [\".jpg\", \".jpeg\", \".png\", \".tif\", \".tiff\"] #specify your vald extensions here #specify vald extensions here\n",
        "    valid_extensions = [item.lower() for item in valid_extensions]\n",
        "     \n",
        "    #create a list all files in directory and\n",
        "    #append files with a vaild extention to image_path_list\n",
        "    for file in os.listdir(imageDir):  ### extract each image from a given folder\n",
        "        #print(file)\n",
        "        extension = os.path.splitext(file)[1] ### How to extract only extension of a vdo file\n",
        "        if extension.lower() not in valid_extensions:\n",
        "            continue\n",
        "        # image_path_list contains list of all vdo files with full path name of a given vdo folder\n",
        "        image_path_list.append(os.path.join(imageDir, file))\n",
        "    #print(image_path_list)\n",
        "    \n",
        "    #loop through image_path_list to open each image\n",
        "    for Imagefile in image_path_list:       \n",
        "              \n",
        "        #image = cv2.imread(imagePath)\n",
        "        FIlenameOnly = os.path.basename(Imagefile)\n",
        "        #print(\"FIlenameOnly :\" , FIlenameOnly)\n",
        "        ## storing the images and their class in a dataframe\n",
        "        frame_filename.append(FIlenameOnly)  # Only filename\n",
        "        #temp = Path(Imagefile).stem # Find file name without extension\n",
        "        #Outimage = os.path.join(OutimageDir+Imagefile)\n",
        "        Outimage = Imagefile\n",
        "        #print(\"Outimage :\" , Outimage)\n",
        "        frame_image.append(Outimage)         # File Name with complete path\n",
        "        # creating the class of image        # Class i.e. \n",
        "        #print(\"child :\" , child)\n",
        "        frame_class.append(child)\n",
        "\n",
        "    # storing the images and their class in a dataframe\n",
        "    train_data = pd.DataFrame()\n",
        "    train_data['FrameFilename'] = frame_filename\n",
        "    train_data['FullPathName'] = frame_image\n",
        "    train_data['class'] = frame_class\n",
        "    \n",
        "    # converting the dataframe into csv file \n",
        "    #train_data.to_csv('C:/GG-16-03/CAP4/HumanActivityRecognition/Dataset/VDO/train_new.csv',header=True, index=False)\n",
        "    return train_data"
      ]
    },
    {
      "cell_type": "code",
      "execution_count": null,
      "metadata": {
        "colab": {
          "base_uri": "https://localhost:8080/"
        },
        "id": "I0TyvsqooCIi",
        "outputId": "13ff03b5-2b1f-4f49-9365-359e42a67422"
      },
      "outputs": [
        {
          "name": "stdout",
          "output_type": "stream",
          "text": [
            "Processing Folder : /content/gdrive/MyDrive/Colab_Notebooks/Fire_ImageDataSet/Fire\n",
            "1\n",
            "Processing Folder : /content/gdrive/MyDrive/Colab_Notebooks/Fire_ImageDataSet/Neutral\n",
            "2\n",
            "(2009, 3)\n"
          ]
        }
      ],
      "source": [
        "# Main script that call vdo_Framing_Process \n",
        "\n",
        "count = 0\n",
        "for child in os.listdir(root_folder):\n",
        "    if child == \"ModelSave\":\n",
        "        continue\n",
        "    if child == \"OutputFiles\":\n",
        "        continue\n",
        "\n",
        "\n",
        "    count = count + 1\n",
        "    baseimagefolders = os.path.join(root_folder, child)\n",
        "    if os.path.isdir(baseimagefolders):\n",
        "        print(\"Processing Folder :\" , baseimagefolders)\n",
        "        #outImage  = FramesVdo\n",
        "        \n",
        "        \n",
        "        ### Calling vdo_Framing_Process function\n",
        "        #df = img_Framing_Process(child , baseimagefolders,outImage)\n",
        "        df = img_Framing_Process(child , baseimagefolders)\n",
        "        print(count)\n",
        "        if (count == 1):  ### First iteration - copy function used to create df2 for csv\n",
        "            df2 = df.copy()\n",
        "        else:\n",
        "            df2 = pd.concat([df2 , df])  ### all other iteration concat function to append df2\n",
        "            \n",
        "print(df2.shape)\n",
        "\n",
        "# converting the dataframe into csv file \n",
        "#df2.to_csv('C:/GG-16-03/CAP4/HumanActivityRecognition/Dataset/VDO/Final_2vdoframeFile.csv',header=True, index=False)\n",
        "df2.to_csv(OutputFiles+'/step0_frameFile.csv',header=True, index=False)\n"
      ]
    },
    {
      "cell_type": "code",
      "execution_count": null,
      "metadata": {
        "colab": {
          "base_uri": "https://localhost:8080/",
          "height": 206
        },
        "id": "oNY-cPKjsGt9",
        "outputId": "1d8ab9e6-3b8f-492b-9cb1-fffe90d07ea7"
      },
      "outputs": [
        {
          "data": {
            "text/html": [
              "\n",
              "  <div id=\"df-c5cbeb92-5e8b-4c62-b890-c6e9d3156706\">\n",
              "    <div class=\"colab-df-container\">\n",
              "      <div>\n",
              "<style scoped>\n",
              "    .dataframe tbody tr th:only-of-type {\n",
              "        vertical-align: middle;\n",
              "    }\n",
              "\n",
              "    .dataframe tbody tr th {\n",
              "        vertical-align: top;\n",
              "    }\n",
              "\n",
              "    .dataframe thead th {\n",
              "        text-align: right;\n",
              "    }\n",
              "</style>\n",
              "<table border=\"1\" class=\"dataframe\">\n",
              "  <thead>\n",
              "    <tr style=\"text-align: right;\">\n",
              "      <th></th>\n",
              "      <th>FrameFilename</th>\n",
              "      <th>FullPathName</th>\n",
              "      <th>class</th>\n",
              "    </tr>\n",
              "  </thead>\n",
              "  <tbody>\n",
              "    <tr>\n",
              "      <th>0</th>\n",
              "      <td>image_898.jpg</td>\n",
              "      <td>/content/gdrive/MyDrive/Colab_Notebooks/Fire_I...</td>\n",
              "      <td>Fire</td>\n",
              "    </tr>\n",
              "    <tr>\n",
              "      <th>1</th>\n",
              "      <td>image_96.jpg</td>\n",
              "      <td>/content/gdrive/MyDrive/Colab_Notebooks/Fire_I...</td>\n",
              "      <td>Fire</td>\n",
              "    </tr>\n",
              "    <tr>\n",
              "      <th>2</th>\n",
              "      <td>image_894.jpg</td>\n",
              "      <td>/content/gdrive/MyDrive/Colab_Notebooks/Fire_I...</td>\n",
              "      <td>Fire</td>\n",
              "    </tr>\n",
              "    <tr>\n",
              "      <th>3</th>\n",
              "      <td>image_895.jpg</td>\n",
              "      <td>/content/gdrive/MyDrive/Colab_Notebooks/Fire_I...</td>\n",
              "      <td>Fire</td>\n",
              "    </tr>\n",
              "    <tr>\n",
              "      <th>4</th>\n",
              "      <td>image_876.jpg</td>\n",
              "      <td>/content/gdrive/MyDrive/Colab_Notebooks/Fire_I...</td>\n",
              "      <td>Fire</td>\n",
              "    </tr>\n",
              "  </tbody>\n",
              "</table>\n",
              "</div>\n",
              "      <button class=\"colab-df-convert\" onclick=\"convertToInteractive('df-c5cbeb92-5e8b-4c62-b890-c6e9d3156706')\"\n",
              "              title=\"Convert this dataframe to an interactive table.\"\n",
              "              style=\"display:none;\">\n",
              "        \n",
              "  <svg xmlns=\"http://www.w3.org/2000/svg\" height=\"24px\"viewBox=\"0 0 24 24\"\n",
              "       width=\"24px\">\n",
              "    <path d=\"M0 0h24v24H0V0z\" fill=\"none\"/>\n",
              "    <path d=\"M18.56 5.44l.94 2.06.94-2.06 2.06-.94-2.06-.94-.94-2.06-.94 2.06-2.06.94zm-11 1L8.5 8.5l.94-2.06 2.06-.94-2.06-.94L8.5 2.5l-.94 2.06-2.06.94zm10 10l.94 2.06.94-2.06 2.06-.94-2.06-.94-.94-2.06-.94 2.06-2.06.94z\"/><path d=\"M17.41 7.96l-1.37-1.37c-.4-.4-.92-.59-1.43-.59-.52 0-1.04.2-1.43.59L10.3 9.45l-7.72 7.72c-.78.78-.78 2.05 0 2.83L4 21.41c.39.39.9.59 1.41.59.51 0 1.02-.2 1.41-.59l7.78-7.78 2.81-2.81c.8-.78.8-2.07 0-2.86zM5.41 20L4 18.59l7.72-7.72 1.47 1.35L5.41 20z\"/>\n",
              "  </svg>\n",
              "      </button>\n",
              "      \n",
              "  <style>\n",
              "    .colab-df-container {\n",
              "      display:flex;\n",
              "      flex-wrap:wrap;\n",
              "      gap: 12px;\n",
              "    }\n",
              "\n",
              "    .colab-df-convert {\n",
              "      background-color: #E8F0FE;\n",
              "      border: none;\n",
              "      border-radius: 50%;\n",
              "      cursor: pointer;\n",
              "      display: none;\n",
              "      fill: #1967D2;\n",
              "      height: 32px;\n",
              "      padding: 0 0 0 0;\n",
              "      width: 32px;\n",
              "    }\n",
              "\n",
              "    .colab-df-convert:hover {\n",
              "      background-color: #E2EBFA;\n",
              "      box-shadow: 0px 1px 2px rgba(60, 64, 67, 0.3), 0px 1px 3px 1px rgba(60, 64, 67, 0.15);\n",
              "      fill: #174EA6;\n",
              "    }\n",
              "\n",
              "    [theme=dark] .colab-df-convert {\n",
              "      background-color: #3B4455;\n",
              "      fill: #D2E3FC;\n",
              "    }\n",
              "\n",
              "    [theme=dark] .colab-df-convert:hover {\n",
              "      background-color: #434B5C;\n",
              "      box-shadow: 0px 1px 3px 1px rgba(0, 0, 0, 0.15);\n",
              "      filter: drop-shadow(0px 1px 2px rgba(0, 0, 0, 0.3));\n",
              "      fill: #FFFFFF;\n",
              "    }\n",
              "  </style>\n",
              "\n",
              "      <script>\n",
              "        const buttonEl =\n",
              "          document.querySelector('#df-c5cbeb92-5e8b-4c62-b890-c6e9d3156706 button.colab-df-convert');\n",
              "        buttonEl.style.display =\n",
              "          google.colab.kernel.accessAllowed ? 'block' : 'none';\n",
              "\n",
              "        async function convertToInteractive(key) {\n",
              "          const element = document.querySelector('#df-c5cbeb92-5e8b-4c62-b890-c6e9d3156706');\n",
              "          const dataTable =\n",
              "            await google.colab.kernel.invokeFunction('convertToInteractive',\n",
              "                                                     [key], {});\n",
              "          if (!dataTable) return;\n",
              "\n",
              "          const docLinkHtml = 'Like what you see? Visit the ' +\n",
              "            '<a target=\"_blank\" href=https://colab.research.google.com/notebooks/data_table.ipynb>data table notebook</a>'\n",
              "            + ' to learn more about interactive tables.';\n",
              "          element.innerHTML = '';\n",
              "          dataTable['output_type'] = 'display_data';\n",
              "          await google.colab.output.renderOutput(dataTable, element);\n",
              "          const docLink = document.createElement('div');\n",
              "          docLink.innerHTML = docLinkHtml;\n",
              "          element.appendChild(docLink);\n",
              "        }\n",
              "      </script>\n",
              "    </div>\n",
              "  </div>\n",
              "  "
            ],
            "text/plain": [
              "   FrameFilename                                       FullPathName class\n",
              "0  image_898.jpg  /content/gdrive/MyDrive/Colab_Notebooks/Fire_I...  Fire\n",
              "1   image_96.jpg  /content/gdrive/MyDrive/Colab_Notebooks/Fire_I...  Fire\n",
              "2  image_894.jpg  /content/gdrive/MyDrive/Colab_Notebooks/Fire_I...  Fire\n",
              "3  image_895.jpg  /content/gdrive/MyDrive/Colab_Notebooks/Fire_I...  Fire\n",
              "4  image_876.jpg  /content/gdrive/MyDrive/Colab_Notebooks/Fire_I...  Fire"
            ]
          },
          "execution_count": 13,
          "metadata": {},
          "output_type": "execute_result"
        }
      ],
      "source": [
        "df2.head()"
      ]
    },
    {
      "cell_type": "code",
      "execution_count": null,
      "metadata": {
        "colab": {
          "base_uri": "https://localhost:8080/",
          "height": 206
        },
        "id": "Oy8LspP8sKdZ",
        "outputId": "63d72683-8554-4ecd-b708-ba01df27e456"
      },
      "outputs": [
        {
          "data": {
            "text/html": [
              "\n",
              "  <div id=\"df-be8e720f-838f-47e7-9fe1-7ff24b83ad17\">\n",
              "    <div class=\"colab-df-container\">\n",
              "      <div>\n",
              "<style scoped>\n",
              "    .dataframe tbody tr th:only-of-type {\n",
              "        vertical-align: middle;\n",
              "    }\n",
              "\n",
              "    .dataframe tbody tr th {\n",
              "        vertical-align: top;\n",
              "    }\n",
              "\n",
              "    .dataframe thead th {\n",
              "        text-align: right;\n",
              "    }\n",
              "</style>\n",
              "<table border=\"1\" class=\"dataframe\">\n",
              "  <thead>\n",
              "    <tr style=\"text-align: right;\">\n",
              "      <th></th>\n",
              "      <th>FrameFilename</th>\n",
              "      <th>FullPathName</th>\n",
              "      <th>class</th>\n",
              "      <th>Train_Test</th>\n",
              "    </tr>\n",
              "  </thead>\n",
              "  <tbody>\n",
              "    <tr>\n",
              "      <th>0</th>\n",
              "      <td>image_898.jpg</td>\n",
              "      <td>/content/gdrive/MyDrive/Colab_Notebooks/Fire_I...</td>\n",
              "      <td>Fire</td>\n",
              "      <td>i</td>\n",
              "    </tr>\n",
              "    <tr>\n",
              "      <th>1</th>\n",
              "      <td>image_96.jpg</td>\n",
              "      <td>/content/gdrive/MyDrive/Colab_Notebooks/Fire_I...</td>\n",
              "      <td>Fire</td>\n",
              "      <td>i</td>\n",
              "    </tr>\n",
              "    <tr>\n",
              "      <th>2</th>\n",
              "      <td>image_894.jpg</td>\n",
              "      <td>/content/gdrive/MyDrive/Colab_Notebooks/Fire_I...</td>\n",
              "      <td>Fire</td>\n",
              "      <td>i</td>\n",
              "    </tr>\n",
              "    <tr>\n",
              "      <th>3</th>\n",
              "      <td>image_895.jpg</td>\n",
              "      <td>/content/gdrive/MyDrive/Colab_Notebooks/Fire_I...</td>\n",
              "      <td>Fire</td>\n",
              "      <td>i</td>\n",
              "    </tr>\n",
              "    <tr>\n",
              "      <th>4</th>\n",
              "      <td>image_876.jpg</td>\n",
              "      <td>/content/gdrive/MyDrive/Colab_Notebooks/Fire_I...</td>\n",
              "      <td>Fire</td>\n",
              "      <td>i</td>\n",
              "    </tr>\n",
              "  </tbody>\n",
              "</table>\n",
              "</div>\n",
              "      <button class=\"colab-df-convert\" onclick=\"convertToInteractive('df-be8e720f-838f-47e7-9fe1-7ff24b83ad17')\"\n",
              "              title=\"Convert this dataframe to an interactive table.\"\n",
              "              style=\"display:none;\">\n",
              "        \n",
              "  <svg xmlns=\"http://www.w3.org/2000/svg\" height=\"24px\"viewBox=\"0 0 24 24\"\n",
              "       width=\"24px\">\n",
              "    <path d=\"M0 0h24v24H0V0z\" fill=\"none\"/>\n",
              "    <path d=\"M18.56 5.44l.94 2.06.94-2.06 2.06-.94-2.06-.94-.94-2.06-.94 2.06-2.06.94zm-11 1L8.5 8.5l.94-2.06 2.06-.94-2.06-.94L8.5 2.5l-.94 2.06-2.06.94zm10 10l.94 2.06.94-2.06 2.06-.94-2.06-.94-.94-2.06-.94 2.06-2.06.94z\"/><path d=\"M17.41 7.96l-1.37-1.37c-.4-.4-.92-.59-1.43-.59-.52 0-1.04.2-1.43.59L10.3 9.45l-7.72 7.72c-.78.78-.78 2.05 0 2.83L4 21.41c.39.39.9.59 1.41.59.51 0 1.02-.2 1.41-.59l7.78-7.78 2.81-2.81c.8-.78.8-2.07 0-2.86zM5.41 20L4 18.59l7.72-7.72 1.47 1.35L5.41 20z\"/>\n",
              "  </svg>\n",
              "      </button>\n",
              "      \n",
              "  <style>\n",
              "    .colab-df-container {\n",
              "      display:flex;\n",
              "      flex-wrap:wrap;\n",
              "      gap: 12px;\n",
              "    }\n",
              "\n",
              "    .colab-df-convert {\n",
              "      background-color: #E8F0FE;\n",
              "      border: none;\n",
              "      border-radius: 50%;\n",
              "      cursor: pointer;\n",
              "      display: none;\n",
              "      fill: #1967D2;\n",
              "      height: 32px;\n",
              "      padding: 0 0 0 0;\n",
              "      width: 32px;\n",
              "    }\n",
              "\n",
              "    .colab-df-convert:hover {\n",
              "      background-color: #E2EBFA;\n",
              "      box-shadow: 0px 1px 2px rgba(60, 64, 67, 0.3), 0px 1px 3px 1px rgba(60, 64, 67, 0.15);\n",
              "      fill: #174EA6;\n",
              "    }\n",
              "\n",
              "    [theme=dark] .colab-df-convert {\n",
              "      background-color: #3B4455;\n",
              "      fill: #D2E3FC;\n",
              "    }\n",
              "\n",
              "    [theme=dark] .colab-df-convert:hover {\n",
              "      background-color: #434B5C;\n",
              "      box-shadow: 0px 1px 3px 1px rgba(0, 0, 0, 0.15);\n",
              "      filter: drop-shadow(0px 1px 2px rgba(0, 0, 0, 0.3));\n",
              "      fill: #FFFFFF;\n",
              "    }\n",
              "  </style>\n",
              "\n",
              "      <script>\n",
              "        const buttonEl =\n",
              "          document.querySelector('#df-be8e720f-838f-47e7-9fe1-7ff24b83ad17 button.colab-df-convert');\n",
              "        buttonEl.style.display =\n",
              "          google.colab.kernel.accessAllowed ? 'block' : 'none';\n",
              "\n",
              "        async function convertToInteractive(key) {\n",
              "          const element = document.querySelector('#df-be8e720f-838f-47e7-9fe1-7ff24b83ad17');\n",
              "          const dataTable =\n",
              "            await google.colab.kernel.invokeFunction('convertToInteractive',\n",
              "                                                     [key], {});\n",
              "          if (!dataTable) return;\n",
              "\n",
              "          const docLinkHtml = 'Like what you see? Visit the ' +\n",
              "            '<a target=\"_blank\" href=https://colab.research.google.com/notebooks/data_table.ipynb>data table notebook</a>'\n",
              "            + ' to learn more about interactive tables.';\n",
              "          element.innerHTML = '';\n",
              "          dataTable['output_type'] = 'display_data';\n",
              "          await google.colab.output.renderOutput(dataTable, element);\n",
              "          const docLink = document.createElement('div');\n",
              "          docLink.innerHTML = docLinkHtml;\n",
              "          element.appendChild(docLink);\n",
              "        }\n",
              "      </script>\n",
              "    </div>\n",
              "  </div>\n",
              "  "
            ],
            "text/plain": [
              "   FrameFilename  ... Train_Test\n",
              "0  image_898.jpg  ...          i\n",
              "1   image_96.jpg  ...          i\n",
              "2  image_894.jpg  ...          i\n",
              "3  image_895.jpg  ...          i\n",
              "4  image_876.jpg  ...          i\n",
              "\n",
              "[5 rows x 4 columns]"
            ]
          },
          "execution_count": 14,
          "metadata": {},
          "output_type": "execute_result"
        }
      ],
      "source": [
        "df2['Train_Test'] = df2['FrameFilename'].str[:1]\n",
        "df2.head()"
      ]
    },
    {
      "cell_type": "code",
      "execution_count": null,
      "metadata": {
        "colab": {
          "base_uri": "https://localhost:8080/",
          "height": 206
        },
        "id": "-azpz2Y8saay",
        "outputId": "088de6fd-ce49-457b-d2e1-93c67f7a141d"
      },
      "outputs": [
        {
          "data": {
            "text/html": [
              "\n",
              "  <div id=\"df-c00ad25d-a872-4094-895c-3cc62da9ef87\">\n",
              "    <div class=\"colab-df-container\">\n",
              "      <div>\n",
              "<style scoped>\n",
              "    .dataframe tbody tr th:only-of-type {\n",
              "        vertical-align: middle;\n",
              "    }\n",
              "\n",
              "    .dataframe tbody tr th {\n",
              "        vertical-align: top;\n",
              "    }\n",
              "\n",
              "    .dataframe thead th {\n",
              "        text-align: right;\n",
              "    }\n",
              "</style>\n",
              "<table border=\"1\" class=\"dataframe\">\n",
              "  <thead>\n",
              "    <tr style=\"text-align: right;\">\n",
              "      <th></th>\n",
              "      <th>FrameFilename</th>\n",
              "      <th>FullPathName</th>\n",
              "      <th>class</th>\n",
              "      <th>Train_Test</th>\n",
              "    </tr>\n",
              "  </thead>\n",
              "  <tbody>\n",
              "    <tr>\n",
              "      <th>1004</th>\n",
              "      <td>TN_image_87.jpg</td>\n",
              "      <td>/content/gdrive/MyDrive/Colab_Notebooks/Fire_I...</td>\n",
              "      <td>Neutral</td>\n",
              "      <td>T</td>\n",
              "    </tr>\n",
              "    <tr>\n",
              "      <th>1005</th>\n",
              "      <td>TN_image_86.jpg</td>\n",
              "      <td>/content/gdrive/MyDrive/Colab_Notebooks/Fire_I...</td>\n",
              "      <td>Neutral</td>\n",
              "      <td>T</td>\n",
              "    </tr>\n",
              "    <tr>\n",
              "      <th>1006</th>\n",
              "      <td>N_image_819.jpg</td>\n",
              "      <td>/content/gdrive/MyDrive/Colab_Notebooks/Fire_I...</td>\n",
              "      <td>Neutral</td>\n",
              "      <td>N</td>\n",
              "    </tr>\n",
              "    <tr>\n",
              "      <th>1007</th>\n",
              "      <td>TN_image_99.jpg</td>\n",
              "      <td>/content/gdrive/MyDrive/Colab_Notebooks/Fire_I...</td>\n",
              "      <td>Neutral</td>\n",
              "      <td>T</td>\n",
              "    </tr>\n",
              "    <tr>\n",
              "      <th>1008</th>\n",
              "      <td>TN_image_98.jpg</td>\n",
              "      <td>/content/gdrive/MyDrive/Colab_Notebooks/Fire_I...</td>\n",
              "      <td>Neutral</td>\n",
              "      <td>T</td>\n",
              "    </tr>\n",
              "  </tbody>\n",
              "</table>\n",
              "</div>\n",
              "      <button class=\"colab-df-convert\" onclick=\"convertToInteractive('df-c00ad25d-a872-4094-895c-3cc62da9ef87')\"\n",
              "              title=\"Convert this dataframe to an interactive table.\"\n",
              "              style=\"display:none;\">\n",
              "        \n",
              "  <svg xmlns=\"http://www.w3.org/2000/svg\" height=\"24px\"viewBox=\"0 0 24 24\"\n",
              "       width=\"24px\">\n",
              "    <path d=\"M0 0h24v24H0V0z\" fill=\"none\"/>\n",
              "    <path d=\"M18.56 5.44l.94 2.06.94-2.06 2.06-.94-2.06-.94-.94-2.06-.94 2.06-2.06.94zm-11 1L8.5 8.5l.94-2.06 2.06-.94-2.06-.94L8.5 2.5l-.94 2.06-2.06.94zm10 10l.94 2.06.94-2.06 2.06-.94-2.06-.94-.94-2.06-.94 2.06-2.06.94z\"/><path d=\"M17.41 7.96l-1.37-1.37c-.4-.4-.92-.59-1.43-.59-.52 0-1.04.2-1.43.59L10.3 9.45l-7.72 7.72c-.78.78-.78 2.05 0 2.83L4 21.41c.39.39.9.59 1.41.59.51 0 1.02-.2 1.41-.59l7.78-7.78 2.81-2.81c.8-.78.8-2.07 0-2.86zM5.41 20L4 18.59l7.72-7.72 1.47 1.35L5.41 20z\"/>\n",
              "  </svg>\n",
              "      </button>\n",
              "      \n",
              "  <style>\n",
              "    .colab-df-container {\n",
              "      display:flex;\n",
              "      flex-wrap:wrap;\n",
              "      gap: 12px;\n",
              "    }\n",
              "\n",
              "    .colab-df-convert {\n",
              "      background-color: #E8F0FE;\n",
              "      border: none;\n",
              "      border-radius: 50%;\n",
              "      cursor: pointer;\n",
              "      display: none;\n",
              "      fill: #1967D2;\n",
              "      height: 32px;\n",
              "      padding: 0 0 0 0;\n",
              "      width: 32px;\n",
              "    }\n",
              "\n",
              "    .colab-df-convert:hover {\n",
              "      background-color: #E2EBFA;\n",
              "      box-shadow: 0px 1px 2px rgba(60, 64, 67, 0.3), 0px 1px 3px 1px rgba(60, 64, 67, 0.15);\n",
              "      fill: #174EA6;\n",
              "    }\n",
              "\n",
              "    [theme=dark] .colab-df-convert {\n",
              "      background-color: #3B4455;\n",
              "      fill: #D2E3FC;\n",
              "    }\n",
              "\n",
              "    [theme=dark] .colab-df-convert:hover {\n",
              "      background-color: #434B5C;\n",
              "      box-shadow: 0px 1px 3px 1px rgba(0, 0, 0, 0.15);\n",
              "      filter: drop-shadow(0px 1px 2px rgba(0, 0, 0, 0.3));\n",
              "      fill: #FFFFFF;\n",
              "    }\n",
              "  </style>\n",
              "\n",
              "      <script>\n",
              "        const buttonEl =\n",
              "          document.querySelector('#df-c00ad25d-a872-4094-895c-3cc62da9ef87 button.colab-df-convert');\n",
              "        buttonEl.style.display =\n",
              "          google.colab.kernel.accessAllowed ? 'block' : 'none';\n",
              "\n",
              "        async function convertToInteractive(key) {\n",
              "          const element = document.querySelector('#df-c00ad25d-a872-4094-895c-3cc62da9ef87');\n",
              "          const dataTable =\n",
              "            await google.colab.kernel.invokeFunction('convertToInteractive',\n",
              "                                                     [key], {});\n",
              "          if (!dataTable) return;\n",
              "\n",
              "          const docLinkHtml = 'Like what you see? Visit the ' +\n",
              "            '<a target=\"_blank\" href=https://colab.research.google.com/notebooks/data_table.ipynb>data table notebook</a>'\n",
              "            + ' to learn more about interactive tables.';\n",
              "          element.innerHTML = '';\n",
              "          dataTable['output_type'] = 'display_data';\n",
              "          await google.colab.output.renderOutput(dataTable, element);\n",
              "          const docLink = document.createElement('div');\n",
              "          docLink.innerHTML = docLinkHtml;\n",
              "          element.appendChild(docLink);\n",
              "        }\n",
              "      </script>\n",
              "    </div>\n",
              "  </div>\n",
              "  "
            ],
            "text/plain": [
              "        FrameFilename  ... Train_Test\n",
              "1004  TN_image_87.jpg  ...          T\n",
              "1005  TN_image_86.jpg  ...          T\n",
              "1006  N_image_819.jpg  ...          N\n",
              "1007  TN_image_99.jpg  ...          T\n",
              "1008  TN_image_98.jpg  ...          T\n",
              "\n",
              "[5 rows x 4 columns]"
            ]
          },
          "execution_count": 15,
          "metadata": {},
          "output_type": "execute_result"
        }
      ],
      "source": [
        "df2.tail()"
      ]
    },
    {
      "cell_type": "code",
      "execution_count": null,
      "metadata": {
        "id": "p60Cbjfpsqw5"
      },
      "outputs": [],
      "source": [
        "df2.to_csv(OutputFiles+'/step0_frameFile.csv',header=True, index=False)"
      ]
    },
    {
      "cell_type": "code",
      "execution_count": null,
      "metadata": {
        "colab": {
          "base_uri": "https://localhost:8080/"
        },
        "id": "nfl31vp8tIXo",
        "outputId": "b28362ee-e226-4547-aa8e-176bad92b5d3"
      },
      "outputs": [
        {
          "data": {
            "text/plain": [
              "N    909\n",
              "i    900\n",
              "T    200\n",
              "Name: Train_Test, dtype: int64"
            ]
          },
          "execution_count": 17,
          "metadata": {},
          "output_type": "execute_result"
        }
      ],
      "source": [
        "#Count Unique Values of occupation\n",
        "df2['Train_Test'].value_counts()"
      ]
    },
    {
      "cell_type": "code",
      "execution_count": null,
      "metadata": {
        "colab": {
          "base_uri": "https://localhost:8080/"
        },
        "id": "hDwVBspvtVvT",
        "outputId": "576e314b-d079-46ea-a0cf-b8f60e20cb41"
      },
      "outputs": [
        {
          "name": "stdout",
          "output_type": "stream",
          "text": [
            "        FrameFilename  ... Train_Test\n",
            "900   TF_image_79.jpg  ...          T\n",
            "901   TF_image_86.jpg  ...          T\n",
            "902   TF_image_70.jpg  ...          T\n",
            "903   TF_image_90.jpg  ...          T\n",
            "904   TF_image_49.jpg  ...          T\n",
            "...               ...  ...        ...\n",
            "1003  TN_image_88.jpg  ...          T\n",
            "1004  TN_image_87.jpg  ...          T\n",
            "1005  TN_image_86.jpg  ...          T\n",
            "1007  TN_image_99.jpg  ...          T\n",
            "1008  TN_image_98.jpg  ...          T\n",
            "\n",
            "[200 rows x 4 columns]\n"
          ]
        }
      ],
      "source": [
        "# filter df2 where Train_Test   column value is 'T' - for Test data set \n",
        "Filter_Value = ['T']\n",
        "Test_Data = df2[df2['Train_Test'].isin(Filter_Value)]\n",
        "print(Test_Data)"
      ]
    },
    {
      "cell_type": "code",
      "execution_count": null,
      "metadata": {
        "colab": {
          "base_uri": "https://localhost:8080/"
        },
        "id": "rN1JoayotdMl",
        "outputId": "70ac83d3-2272-46a0-ae34-3e2a096befbf"
      },
      "outputs": [
        {
          "data": {
            "text/plain": [
              "(200, 4)"
            ]
          },
          "execution_count": 19,
          "metadata": {},
          "output_type": "execute_result"
        }
      ],
      "source": [
        "Test_Data.shape"
      ]
    },
    {
      "cell_type": "code",
      "execution_count": null,
      "metadata": {
        "colab": {
          "base_uri": "https://localhost:8080/",
          "height": 206
        },
        "id": "5Lu2iZT3tg0X",
        "outputId": "457eb3f6-992b-4ebd-ca6a-ec8794bef544"
      },
      "outputs": [
        {
          "data": {
            "text/html": [
              "\n",
              "  <div id=\"df-86e585f6-de34-435d-b69c-09316b64c3e1\">\n",
              "    <div class=\"colab-df-container\">\n",
              "      <div>\n",
              "<style scoped>\n",
              "    .dataframe tbody tr th:only-of-type {\n",
              "        vertical-align: middle;\n",
              "    }\n",
              "\n",
              "    .dataframe tbody tr th {\n",
              "        vertical-align: top;\n",
              "    }\n",
              "\n",
              "    .dataframe thead th {\n",
              "        text-align: right;\n",
              "    }\n",
              "</style>\n",
              "<table border=\"1\" class=\"dataframe\">\n",
              "  <thead>\n",
              "    <tr style=\"text-align: right;\">\n",
              "      <th></th>\n",
              "      <th>FrameFilename</th>\n",
              "      <th>FullPathName</th>\n",
              "      <th>class</th>\n",
              "      <th>Train_Test</th>\n",
              "    </tr>\n",
              "  </thead>\n",
              "  <tbody>\n",
              "    <tr>\n",
              "      <th>900</th>\n",
              "      <td>TF_image_79.jpg</td>\n",
              "      <td>/content/gdrive/MyDrive/Colab_Notebooks/Fire_I...</td>\n",
              "      <td>Fire</td>\n",
              "      <td>T</td>\n",
              "    </tr>\n",
              "    <tr>\n",
              "      <th>901</th>\n",
              "      <td>TF_image_86.jpg</td>\n",
              "      <td>/content/gdrive/MyDrive/Colab_Notebooks/Fire_I...</td>\n",
              "      <td>Fire</td>\n",
              "      <td>T</td>\n",
              "    </tr>\n",
              "    <tr>\n",
              "      <th>902</th>\n",
              "      <td>TF_image_70.jpg</td>\n",
              "      <td>/content/gdrive/MyDrive/Colab_Notebooks/Fire_I...</td>\n",
              "      <td>Fire</td>\n",
              "      <td>T</td>\n",
              "    </tr>\n",
              "    <tr>\n",
              "      <th>903</th>\n",
              "      <td>TF_image_90.jpg</td>\n",
              "      <td>/content/gdrive/MyDrive/Colab_Notebooks/Fire_I...</td>\n",
              "      <td>Fire</td>\n",
              "      <td>T</td>\n",
              "    </tr>\n",
              "    <tr>\n",
              "      <th>904</th>\n",
              "      <td>TF_image_49.jpg</td>\n",
              "      <td>/content/gdrive/MyDrive/Colab_Notebooks/Fire_I...</td>\n",
              "      <td>Fire</td>\n",
              "      <td>T</td>\n",
              "    </tr>\n",
              "  </tbody>\n",
              "</table>\n",
              "</div>\n",
              "      <button class=\"colab-df-convert\" onclick=\"convertToInteractive('df-86e585f6-de34-435d-b69c-09316b64c3e1')\"\n",
              "              title=\"Convert this dataframe to an interactive table.\"\n",
              "              style=\"display:none;\">\n",
              "        \n",
              "  <svg xmlns=\"http://www.w3.org/2000/svg\" height=\"24px\"viewBox=\"0 0 24 24\"\n",
              "       width=\"24px\">\n",
              "    <path d=\"M0 0h24v24H0V0z\" fill=\"none\"/>\n",
              "    <path d=\"M18.56 5.44l.94 2.06.94-2.06 2.06-.94-2.06-.94-.94-2.06-.94 2.06-2.06.94zm-11 1L8.5 8.5l.94-2.06 2.06-.94-2.06-.94L8.5 2.5l-.94 2.06-2.06.94zm10 10l.94 2.06.94-2.06 2.06-.94-2.06-.94-.94-2.06-.94 2.06-2.06.94z\"/><path d=\"M17.41 7.96l-1.37-1.37c-.4-.4-.92-.59-1.43-.59-.52 0-1.04.2-1.43.59L10.3 9.45l-7.72 7.72c-.78.78-.78 2.05 0 2.83L4 21.41c.39.39.9.59 1.41.59.51 0 1.02-.2 1.41-.59l7.78-7.78 2.81-2.81c.8-.78.8-2.07 0-2.86zM5.41 20L4 18.59l7.72-7.72 1.47 1.35L5.41 20z\"/>\n",
              "  </svg>\n",
              "      </button>\n",
              "      \n",
              "  <style>\n",
              "    .colab-df-container {\n",
              "      display:flex;\n",
              "      flex-wrap:wrap;\n",
              "      gap: 12px;\n",
              "    }\n",
              "\n",
              "    .colab-df-convert {\n",
              "      background-color: #E8F0FE;\n",
              "      border: none;\n",
              "      border-radius: 50%;\n",
              "      cursor: pointer;\n",
              "      display: none;\n",
              "      fill: #1967D2;\n",
              "      height: 32px;\n",
              "      padding: 0 0 0 0;\n",
              "      width: 32px;\n",
              "    }\n",
              "\n",
              "    .colab-df-convert:hover {\n",
              "      background-color: #E2EBFA;\n",
              "      box-shadow: 0px 1px 2px rgba(60, 64, 67, 0.3), 0px 1px 3px 1px rgba(60, 64, 67, 0.15);\n",
              "      fill: #174EA6;\n",
              "    }\n",
              "\n",
              "    [theme=dark] .colab-df-convert {\n",
              "      background-color: #3B4455;\n",
              "      fill: #D2E3FC;\n",
              "    }\n",
              "\n",
              "    [theme=dark] .colab-df-convert:hover {\n",
              "      background-color: #434B5C;\n",
              "      box-shadow: 0px 1px 3px 1px rgba(0, 0, 0, 0.15);\n",
              "      filter: drop-shadow(0px 1px 2px rgba(0, 0, 0, 0.3));\n",
              "      fill: #FFFFFF;\n",
              "    }\n",
              "  </style>\n",
              "\n",
              "      <script>\n",
              "        const buttonEl =\n",
              "          document.querySelector('#df-86e585f6-de34-435d-b69c-09316b64c3e1 button.colab-df-convert');\n",
              "        buttonEl.style.display =\n",
              "          google.colab.kernel.accessAllowed ? 'block' : 'none';\n",
              "\n",
              "        async function convertToInteractive(key) {\n",
              "          const element = document.querySelector('#df-86e585f6-de34-435d-b69c-09316b64c3e1');\n",
              "          const dataTable =\n",
              "            await google.colab.kernel.invokeFunction('convertToInteractive',\n",
              "                                                     [key], {});\n",
              "          if (!dataTable) return;\n",
              "\n",
              "          const docLinkHtml = 'Like what you see? Visit the ' +\n",
              "            '<a target=\"_blank\" href=https://colab.research.google.com/notebooks/data_table.ipynb>data table notebook</a>'\n",
              "            + ' to learn more about interactive tables.';\n",
              "          element.innerHTML = '';\n",
              "          dataTable['output_type'] = 'display_data';\n",
              "          await google.colab.output.renderOutput(dataTable, element);\n",
              "          const docLink = document.createElement('div');\n",
              "          docLink.innerHTML = docLinkHtml;\n",
              "          element.appendChild(docLink);\n",
              "        }\n",
              "      </script>\n",
              "    </div>\n",
              "  </div>\n",
              "  "
            ],
            "text/plain": [
              "       FrameFilename  ... Train_Test\n",
              "900  TF_image_79.jpg  ...          T\n",
              "901  TF_image_86.jpg  ...          T\n",
              "902  TF_image_70.jpg  ...          T\n",
              "903  TF_image_90.jpg  ...          T\n",
              "904  TF_image_49.jpg  ...          T\n",
              "\n",
              "[5 rows x 4 columns]"
            ]
          },
          "execution_count": 20,
          "metadata": {},
          "output_type": "execute_result"
        }
      ],
      "source": [
        "Test_Data.head()"
      ]
    },
    {
      "cell_type": "code",
      "execution_count": null,
      "metadata": {
        "colab": {
          "base_uri": "https://localhost:8080/"
        },
        "id": "fansZt-MtiCk",
        "outputId": "63b8b2f9-f60a-464d-c487-8f6257af035d"
      },
      "outputs": [
        {
          "data": {
            "text/plain": [
              "['TF_image_79.jpg',\n",
              " 'TF_image_86.jpg',\n",
              " 'TF_image_70.jpg',\n",
              " 'TF_image_90.jpg',\n",
              " 'TF_image_49.jpg',\n",
              " 'TF_image_7.jpg',\n",
              " 'TF_image_76.jpg',\n",
              " 'TF_image_75.jpg',\n",
              " 'TF_image_46.jpg',\n",
              " 'TF_image_81.jpg',\n",
              " 'TF_image_94.jpg',\n",
              " 'TF_image_83.jpg',\n",
              " 'TF_image_78.jpg',\n",
              " 'TF_image_92.jpg',\n",
              " 'TF_image_98.jpg',\n",
              " 'TF_image_96.jpg',\n",
              " 'TF_image_73.jpg',\n",
              " 'TF_image_67.jpg',\n",
              " 'TF_image_95.jpg',\n",
              " 'TF_image_80.jpg',\n",
              " 'TF_image_52.jpg',\n",
              " 'TF_image_9.jpg',\n",
              " 'TF_image_71.jpg',\n",
              " 'TF_image_97.jpg',\n",
              " 'TF_image_57.jpg',\n",
              " 'TF_image_82.jpg',\n",
              " 'TF_image_91.jpg',\n",
              " 'TF_image_88.jpg',\n",
              " 'TF_image_69.jpg',\n",
              " 'TF_image_68.jpg',\n",
              " 'TF_image_48.jpg',\n",
              " 'TF_image_99.jpg',\n",
              " 'TF_image_89.jpg',\n",
              " 'TF_image_84.jpg',\n",
              " 'TF_image_85.jpg',\n",
              " 'TF_image_77.jpg',\n",
              " 'TF_image_87.jpg',\n",
              " 'TF_image_8.jpg',\n",
              " 'TF_image_72.jpg',\n",
              " 'TF_image_53.jpg',\n",
              " 'TF_image_93.jpg',\n",
              " 'TF_image_61.jpg',\n",
              " 'TF_image_74.jpg',\n",
              " 'TF_image_55.jpg',\n",
              " 'TF_image_64.jpg',\n",
              " 'TF_image_32.jpg',\n",
              " 'TF_image_40.jpg',\n",
              " 'TF_image_66.jpg',\n",
              " 'TF_image_59.jpg',\n",
              " 'TF_image_20.jpg',\n",
              " 'TF_image_51.jpg',\n",
              " 'TF_image_26.jpg',\n",
              " 'TF_image_22.jpg',\n",
              " 'TF_image_47.jpg',\n",
              " 'TF_image_19.jpg',\n",
              " 'TF_image_60.jpg',\n",
              " 'TF_image_21.jpg',\n",
              " 'TF_image_63.jpg',\n",
              " 'TF_image_35.jpg',\n",
              " 'TF_image_5.jpg',\n",
              " 'TF_image_17.jpg',\n",
              " 'TF_image_23.jpg',\n",
              " 'TF_image_62.jpg',\n",
              " 'TF_image_25.jpg',\n",
              " 'TF_image_56.jpg',\n",
              " 'TF_image_28.jpg',\n",
              " 'TF_image_24.jpg',\n",
              " 'TF_image_39.jpg',\n",
              " 'TF_image_3.jpg',\n",
              " 'TF_image_37.jpg',\n",
              " 'TF_image_4.jpg',\n",
              " 'TF_image_43.jpg',\n",
              " 'TF_image_34.jpg',\n",
              " 'TF_image_38.jpg',\n",
              " 'TF_image_13.jpg',\n",
              " 'TF_image_30.jpg',\n",
              " 'TF_image_12.jpg',\n",
              " 'TF_image_0.jpg',\n",
              " 'TF_image_36.jpg',\n",
              " 'TF_image_2.jpg',\n",
              " 'TF_image_42.jpg',\n",
              " 'TF_image_44.jpg',\n",
              " 'TF_image_10.jpg',\n",
              " 'TF_image_58.jpg',\n",
              " 'TF_image_33.jpg',\n",
              " 'TF_image_29.jpg',\n",
              " 'TF_image_45.jpg',\n",
              " 'TF_image_41.jpg',\n",
              " 'TF_image_16.jpg',\n",
              " 'TF_image_65.jpg',\n",
              " 'TF_image_50.jpg',\n",
              " 'TF_image_31.jpg',\n",
              " 'TF_image_6.jpg',\n",
              " 'TF_image_27.jpg',\n",
              " 'TF_image_14.jpg',\n",
              " 'TF_image_15.jpg',\n",
              " 'TF_image_18.jpg',\n",
              " 'TF_image_54.jpg',\n",
              " 'TF_image_1.jpg',\n",
              " 'TF_image_11.jpg',\n",
              " 'TN_image_14.jpg',\n",
              " 'TN_image_13.jpg',\n",
              " 'TN_image_12.jpg',\n",
              " 'TN_image_11.jpg',\n",
              " 'TN_image_10.jpg',\n",
              " 'TN_image_1.jpg',\n",
              " 'TN_image_0.jpg',\n",
              " 'TN_image_24.jpg',\n",
              " 'TN_image_23.jpg',\n",
              " 'TN_image_22.jpg',\n",
              " 'TN_image_21.jpg',\n",
              " 'TN_image_20.jpg',\n",
              " 'TN_image_2.jpg',\n",
              " 'TN_image_19.jpg',\n",
              " 'TN_image_18.jpg',\n",
              " 'TN_image_17.jpg',\n",
              " 'TN_image_16.jpg',\n",
              " 'TN_image_15.jpg',\n",
              " 'TN_image_35.jpg',\n",
              " 'TN_image_34.jpg',\n",
              " 'TN_image_33.jpg',\n",
              " 'TN_image_32.jpg',\n",
              " 'TN_image_31.jpg',\n",
              " 'TN_image_30.jpg',\n",
              " 'TN_image_3.jpg',\n",
              " 'TN_image_29.jpg',\n",
              " 'TN_image_28.jpg',\n",
              " 'TN_image_27.jpg',\n",
              " 'TN_image_26.jpg',\n",
              " 'TN_image_25.jpg',\n",
              " 'TN_image_46.jpg',\n",
              " 'TN_image_45.jpg',\n",
              " 'TN_image_44.jpg',\n",
              " 'TN_image_43.jpg',\n",
              " 'TN_image_42.jpg',\n",
              " 'TN_image_41.jpg',\n",
              " 'TN_image_40.jpg',\n",
              " 'TN_image_4.jpg',\n",
              " 'TN_image_39.jpg',\n",
              " 'TN_image_38.jpg',\n",
              " 'TN_image_37.jpg',\n",
              " 'TN_image_36.jpg',\n",
              " 'TN_image_55.jpg',\n",
              " 'TN_image_56.jpg',\n",
              " 'TN_image_54.jpg',\n",
              " 'TN_image_53.jpg',\n",
              " 'TN_image_52.jpg',\n",
              " 'TN_image_51.jpg',\n",
              " 'TN_image_50.jpg',\n",
              " 'TN_image_5.jpg',\n",
              " 'TN_image_49.jpg',\n",
              " 'TN_image_48.jpg',\n",
              " 'TN_image_47.jpg',\n",
              " 'TN_image_66.jpg',\n",
              " 'TN_image_65.jpg',\n",
              " 'TN_image_64.jpg',\n",
              " 'TN_image_63.jpg',\n",
              " 'TN_image_62.jpg',\n",
              " 'TN_image_61.jpg',\n",
              " 'TN_image_60.jpg',\n",
              " 'TN_image_6.jpg',\n",
              " 'TN_image_59.jpg',\n",
              " 'TN_image_58.jpg',\n",
              " 'TN_image_57.jpg',\n",
              " 'TN_image_76.jpg',\n",
              " 'TN_image_75.jpg',\n",
              " 'TN_image_74.jpg',\n",
              " 'TN_image_73.jpg',\n",
              " 'TN_image_72.jpg',\n",
              " 'TN_image_71.jpg',\n",
              " 'TN_image_70.jpg',\n",
              " 'TN_image_7.jpg',\n",
              " 'TN_image_69.jpg',\n",
              " 'TN_image_68.jpg',\n",
              " 'TN_image_67.jpg',\n",
              " 'TN_image_85.jpg',\n",
              " 'TN_image_84.jpg',\n",
              " 'TN_image_83.jpg',\n",
              " 'TN_image_82.jpg',\n",
              " 'TN_image_81.jpg',\n",
              " 'TN_image_80.jpg',\n",
              " 'TN_image_8.jpg',\n",
              " 'TN_image_79.jpg',\n",
              " 'TN_image_78.jpg',\n",
              " 'TN_image_77.jpg',\n",
              " 'TN_image_97.jpg',\n",
              " 'TN_image_96.jpg',\n",
              " 'TN_image_95.jpg',\n",
              " 'TN_image_94.jpg',\n",
              " 'TN_image_93.jpg',\n",
              " 'TN_image_92.jpg',\n",
              " 'TN_image_91.jpg',\n",
              " 'TN_image_90.jpg',\n",
              " 'TN_image_9.jpg',\n",
              " 'TN_image_89.jpg',\n",
              " 'TN_image_88.jpg',\n",
              " 'TN_image_87.jpg',\n",
              " 'TN_image_86.jpg',\n",
              " 'TN_image_99.jpg',\n",
              " 'TN_image_98.jpg']"
            ]
          },
          "execution_count": 21,
          "metadata": {},
          "output_type": "execute_result"
        }
      ],
      "source": [
        "testSetframelist = Test_Data[\"FrameFilename\"].tolist()\n",
        "testSetframelist"
      ]
    },
    {
      "cell_type": "code",
      "execution_count": null,
      "metadata": {
        "id": "7iU7xTP1tm2B"
      },
      "outputs": [],
      "source": [
        "# For train frame - all rows except (~) the test  list\n",
        "Train_Data = df2[~df2['FrameFilename'].isin(testSetframelist)]"
      ]
    },
    {
      "cell_type": "code",
      "execution_count": null,
      "metadata": {
        "colab": {
          "base_uri": "https://localhost:8080/"
        },
        "id": "xVrBNvguuVAa",
        "outputId": "9c255c10-6480-4a30-d4ed-a9b2dafa0c2d"
      },
      "outputs": [
        {
          "name": "stdout",
          "output_type": "stream",
          "text": [
            "        FrameFilename  ... Train_Test\n",
            "0       image_898.jpg  ...          i\n",
            "1        image_96.jpg  ...          i\n",
            "2       image_894.jpg  ...          i\n",
            "3       image_895.jpg  ...          i\n",
            "4       image_876.jpg  ...          i\n",
            "...               ...  ...        ...\n",
            "999   N_image_821.jpg  ...          N\n",
            "1000  N_image_824.jpg  ...          N\n",
            "1001  N_image_822.jpg  ...          N\n",
            "1002   N_image_82.jpg  ...          N\n",
            "1006  N_image_819.jpg  ...          N\n",
            "\n",
            "[1809 rows x 4 columns]\n"
          ]
        }
      ],
      "source": [
        "print(Train_Data)"
      ]
    },
    {
      "cell_type": "code",
      "execution_count": null,
      "metadata": {
        "id": "oBqTH2LauwZt"
      },
      "outputs": [],
      "source": [
        "# Drop column Train_Test from both Train_Data and Test_Data\n",
        "\n",
        "# Remove column name 'Train_Test'\n",
        "Train_Data = Train_Data.drop(['Train_Test'], axis = 1)\n",
        "Test_Data = Test_Data.drop(['Train_Test'], axis = 1)"
      ]
    },
    {
      "cell_type": "code",
      "execution_count": null,
      "metadata": {
        "colab": {
          "base_uri": "https://localhost:8080/"
        },
        "id": "ec_Poq1Su43h",
        "outputId": "ad2fa571-4fa0-4182-d0aa-ac054831129a"
      },
      "outputs": [
        {
          "name": "stdout",
          "output_type": "stream",
          "text": [
            "(1809, 3)\n",
            "(200, 3)\n"
          ]
        }
      ],
      "source": [
        "print(Train_Data.shape)\n",
        "print(Test_Data.shape)"
      ]
    },
    {
      "cell_type": "code",
      "execution_count": null,
      "metadata": {
        "colab": {
          "base_uri": "https://localhost:8080/"
        },
        "id": "5gTFjrKAvTI9",
        "outputId": "ef9f5b9c-d3b6-457f-e638-36688150abfe"
      },
      "outputs": [
        {
          "data": {
            "text/plain": [
              "N    909\n",
              "i    900\n",
              "T    200\n",
              "Name: Train_Test, dtype: int64"
            ]
          },
          "execution_count": 26,
          "metadata": {},
          "output_type": "execute_result"
        }
      ],
      "source": [
        "###  Validate \n",
        "\n",
        "df2['Train_Test'].value_counts()"
      ]
    },
    {
      "cell_type": "code",
      "execution_count": null,
      "metadata": {
        "colab": {
          "base_uri": "https://localhost:8080/",
          "height": 424
        },
        "id": "4Px2y0z7uXyw",
        "outputId": "e1ae9acf-88ee-46e5-d772-04f926b043de"
      },
      "outputs": [
        {
          "data": {
            "text/html": [
              "\n",
              "  <div id=\"df-7694fdd0-184c-4661-ba35-72e2f8023d90\">\n",
              "    <div class=\"colab-df-container\">\n",
              "      <div>\n",
              "<style scoped>\n",
              "    .dataframe tbody tr th:only-of-type {\n",
              "        vertical-align: middle;\n",
              "    }\n",
              "\n",
              "    .dataframe tbody tr th {\n",
              "        vertical-align: top;\n",
              "    }\n",
              "\n",
              "    .dataframe thead th {\n",
              "        text-align: right;\n",
              "    }\n",
              "</style>\n",
              "<table border=\"1\" class=\"dataframe\">\n",
              "  <thead>\n",
              "    <tr style=\"text-align: right;\">\n",
              "      <th></th>\n",
              "      <th>FrameFilename</th>\n",
              "      <th>FullPathName</th>\n",
              "      <th>class</th>\n",
              "    </tr>\n",
              "  </thead>\n",
              "  <tbody>\n",
              "    <tr>\n",
              "      <th>0</th>\n",
              "      <td>TF_image_79.jpg</td>\n",
              "      <td>/content/gdrive/MyDrive/Colab_Notebooks/Fire_I...</td>\n",
              "      <td>Fire</td>\n",
              "    </tr>\n",
              "    <tr>\n",
              "      <th>1</th>\n",
              "      <td>TF_image_86.jpg</td>\n",
              "      <td>/content/gdrive/MyDrive/Colab_Notebooks/Fire_I...</td>\n",
              "      <td>Fire</td>\n",
              "    </tr>\n",
              "    <tr>\n",
              "      <th>2</th>\n",
              "      <td>TF_image_70.jpg</td>\n",
              "      <td>/content/gdrive/MyDrive/Colab_Notebooks/Fire_I...</td>\n",
              "      <td>Fire</td>\n",
              "    </tr>\n",
              "    <tr>\n",
              "      <th>3</th>\n",
              "      <td>TF_image_90.jpg</td>\n",
              "      <td>/content/gdrive/MyDrive/Colab_Notebooks/Fire_I...</td>\n",
              "      <td>Fire</td>\n",
              "    </tr>\n",
              "    <tr>\n",
              "      <th>4</th>\n",
              "      <td>TF_image_49.jpg</td>\n",
              "      <td>/content/gdrive/MyDrive/Colab_Notebooks/Fire_I...</td>\n",
              "      <td>Fire</td>\n",
              "    </tr>\n",
              "    <tr>\n",
              "      <th>...</th>\n",
              "      <td>...</td>\n",
              "      <td>...</td>\n",
              "      <td>...</td>\n",
              "    </tr>\n",
              "    <tr>\n",
              "      <th>195</th>\n",
              "      <td>TN_image_88.jpg</td>\n",
              "      <td>/content/gdrive/MyDrive/Colab_Notebooks/Fire_I...</td>\n",
              "      <td>Neutral</td>\n",
              "    </tr>\n",
              "    <tr>\n",
              "      <th>196</th>\n",
              "      <td>TN_image_87.jpg</td>\n",
              "      <td>/content/gdrive/MyDrive/Colab_Notebooks/Fire_I...</td>\n",
              "      <td>Neutral</td>\n",
              "    </tr>\n",
              "    <tr>\n",
              "      <th>197</th>\n",
              "      <td>TN_image_86.jpg</td>\n",
              "      <td>/content/gdrive/MyDrive/Colab_Notebooks/Fire_I...</td>\n",
              "      <td>Neutral</td>\n",
              "    </tr>\n",
              "    <tr>\n",
              "      <th>198</th>\n",
              "      <td>TN_image_99.jpg</td>\n",
              "      <td>/content/gdrive/MyDrive/Colab_Notebooks/Fire_I...</td>\n",
              "      <td>Neutral</td>\n",
              "    </tr>\n",
              "    <tr>\n",
              "      <th>199</th>\n",
              "      <td>TN_image_98.jpg</td>\n",
              "      <td>/content/gdrive/MyDrive/Colab_Notebooks/Fire_I...</td>\n",
              "      <td>Neutral</td>\n",
              "    </tr>\n",
              "  </tbody>\n",
              "</table>\n",
              "<p>200 rows × 3 columns</p>\n",
              "</div>\n",
              "      <button class=\"colab-df-convert\" onclick=\"convertToInteractive('df-7694fdd0-184c-4661-ba35-72e2f8023d90')\"\n",
              "              title=\"Convert this dataframe to an interactive table.\"\n",
              "              style=\"display:none;\">\n",
              "        \n",
              "  <svg xmlns=\"http://www.w3.org/2000/svg\" height=\"24px\"viewBox=\"0 0 24 24\"\n",
              "       width=\"24px\">\n",
              "    <path d=\"M0 0h24v24H0V0z\" fill=\"none\"/>\n",
              "    <path d=\"M18.56 5.44l.94 2.06.94-2.06 2.06-.94-2.06-.94-.94-2.06-.94 2.06-2.06.94zm-11 1L8.5 8.5l.94-2.06 2.06-.94-2.06-.94L8.5 2.5l-.94 2.06-2.06.94zm10 10l.94 2.06.94-2.06 2.06-.94-2.06-.94-.94-2.06-.94 2.06-2.06.94z\"/><path d=\"M17.41 7.96l-1.37-1.37c-.4-.4-.92-.59-1.43-.59-.52 0-1.04.2-1.43.59L10.3 9.45l-7.72 7.72c-.78.78-.78 2.05 0 2.83L4 21.41c.39.39.9.59 1.41.59.51 0 1.02-.2 1.41-.59l7.78-7.78 2.81-2.81c.8-.78.8-2.07 0-2.86zM5.41 20L4 18.59l7.72-7.72 1.47 1.35L5.41 20z\"/>\n",
              "  </svg>\n",
              "      </button>\n",
              "      \n",
              "  <style>\n",
              "    .colab-df-container {\n",
              "      display:flex;\n",
              "      flex-wrap:wrap;\n",
              "      gap: 12px;\n",
              "    }\n",
              "\n",
              "    .colab-df-convert {\n",
              "      background-color: #E8F0FE;\n",
              "      border: none;\n",
              "      border-radius: 50%;\n",
              "      cursor: pointer;\n",
              "      display: none;\n",
              "      fill: #1967D2;\n",
              "      height: 32px;\n",
              "      padding: 0 0 0 0;\n",
              "      width: 32px;\n",
              "    }\n",
              "\n",
              "    .colab-df-convert:hover {\n",
              "      background-color: #E2EBFA;\n",
              "      box-shadow: 0px 1px 2px rgba(60, 64, 67, 0.3), 0px 1px 3px 1px rgba(60, 64, 67, 0.15);\n",
              "      fill: #174EA6;\n",
              "    }\n",
              "\n",
              "    [theme=dark] .colab-df-convert {\n",
              "      background-color: #3B4455;\n",
              "      fill: #D2E3FC;\n",
              "    }\n",
              "\n",
              "    [theme=dark] .colab-df-convert:hover {\n",
              "      background-color: #434B5C;\n",
              "      box-shadow: 0px 1px 3px 1px rgba(0, 0, 0, 0.15);\n",
              "      filter: drop-shadow(0px 1px 2px rgba(0, 0, 0, 0.3));\n",
              "      fill: #FFFFFF;\n",
              "    }\n",
              "  </style>\n",
              "\n",
              "      <script>\n",
              "        const buttonEl =\n",
              "          document.querySelector('#df-7694fdd0-184c-4661-ba35-72e2f8023d90 button.colab-df-convert');\n",
              "        buttonEl.style.display =\n",
              "          google.colab.kernel.accessAllowed ? 'block' : 'none';\n",
              "\n",
              "        async function convertToInteractive(key) {\n",
              "          const element = document.querySelector('#df-7694fdd0-184c-4661-ba35-72e2f8023d90');\n",
              "          const dataTable =\n",
              "            await google.colab.kernel.invokeFunction('convertToInteractive',\n",
              "                                                     [key], {});\n",
              "          if (!dataTable) return;\n",
              "\n",
              "          const docLinkHtml = 'Like what you see? Visit the ' +\n",
              "            '<a target=\"_blank\" href=https://colab.research.google.com/notebooks/data_table.ipynb>data table notebook</a>'\n",
              "            + ' to learn more about interactive tables.';\n",
              "          element.innerHTML = '';\n",
              "          dataTable['output_type'] = 'display_data';\n",
              "          await google.colab.output.renderOutput(dataTable, element);\n",
              "          const docLink = document.createElement('div');\n",
              "          docLink.innerHTML = docLinkHtml;\n",
              "          element.appendChild(docLink);\n",
              "        }\n",
              "      </script>\n",
              "    </div>\n",
              "  </div>\n",
              "  "
            ],
            "text/plain": [
              "       FrameFilename  ...    class\n",
              "0    TF_image_79.jpg  ...     Fire\n",
              "1    TF_image_86.jpg  ...     Fire\n",
              "2    TF_image_70.jpg  ...     Fire\n",
              "3    TF_image_90.jpg  ...     Fire\n",
              "4    TF_image_49.jpg  ...     Fire\n",
              "..               ...  ...      ...\n",
              "195  TN_image_88.jpg  ...  Neutral\n",
              "196  TN_image_87.jpg  ...  Neutral\n",
              "197  TN_image_86.jpg  ...  Neutral\n",
              "198  TN_image_99.jpg  ...  Neutral\n",
              "199  TN_image_98.jpg  ...  Neutral\n",
              "\n",
              "[200 rows x 3 columns]"
            ]
          },
          "execution_count": 27,
          "metadata": {},
          "output_type": "execute_result"
        }
      ],
      "source": [
        "Train_Data.reset_index(drop=True)\n",
        "Test_Data.reset_index(drop=True)"
      ]
    },
    {
      "cell_type": "code",
      "execution_count": null,
      "metadata": {
        "id": "QQy2a1OFvky9"
      },
      "outputs": [],
      "source": [
        "Train_Data.to_csv(OutputFiles+'/trainFrames.csv',header=True, index=False)\n",
        "Test_Data.to_csv(OutputFiles+'/testFrames.csv',header=True, index=False)"
      ]
    },
    {
      "cell_type": "code",
      "execution_count": null,
      "metadata": {
        "colab": {
          "base_uri": "https://localhost:8080/"
        },
        "id": "sihoclwBvsyD",
        "outputId": "6a0da004-8711-4a0f-fd48-bc26c8e878c1"
      },
      "outputs": [
        {
          "name": "stdout",
          "output_type": "stream",
          "text": [
            "/content/gdrive/MyDrive/Colab_Notebooks/Fire_ImageDataSet/\n",
            "/content/gdrive/MyDrive/Colab_Notebooks/Fire_ImageDataSet//OutputFiles\n"
          ]
        }
      ],
      "source": [
        "print(root_folder)\n",
        "print(OutputFiles)"
      ]
    },
    {
      "cell_type": "code",
      "execution_count": null,
      "metadata": {
        "id": "O3Wm-xx3v4TI"
      },
      "outputs": [],
      "source": [
        "## Read Train Data and Test data\n",
        "Train_Data = pd.read_csv (OutputFiles + '/trainFrames.csv')\n",
        "Test_Data  = pd.read_csv (OutputFiles + '/testFrames.csv')"
      ]
    },
    {
      "cell_type": "code",
      "execution_count": null,
      "metadata": {
        "colab": {
          "base_uri": "https://localhost:8080/"
        },
        "id": "XvwIOZ89v6kL",
        "outputId": "876c1d1b-d49a-41d0-81b3-f923de35ede4"
      },
      "outputs": [
        {
          "name": "stdout",
          "output_type": "stream",
          "text": [
            "/content/gdrive/MyDrive/Colab_Notebooks/Fire_ImageDataSet//OutputFiles/BaseDataSet/Train/Fire\n",
            "/content/gdrive/MyDrive/Colab_Notebooks/Fire_ImageDataSet//OutputFiles/BaseDataSet/Train/Neutral\n"
          ]
        }
      ],
      "source": [
        "#### Ignore Dark and Blur image for model training and test\n",
        "BlurFrames  = OutputFiles+\"/BlurFrames\"\n",
        "BaseDataSet  = OutputFiles+\"/BaseDataSet\"\n",
        "Fire = BaseDataSet+\"/Train\"\n",
        "TrainFire = Fire+\"/Fire\"\n",
        "TrainNeutral = Fire+\"/Neutral\"\n",
        "\n",
        "Neutral = BaseDataSet+\"/Test\"\n",
        "TestFire = Neutral+\"/Fire\"\n",
        "TesNeutral = Neutral+\"/Neutral\"\n",
        "\n",
        "\n",
        "\n",
        "if not os.path.exists(BlurFrames):\n",
        "   os.makedirs(BlurFrames) \n",
        "   \n",
        "if not os.path.exists(BaseDataSet):\n",
        "   os.makedirs(BaseDataSet) \n",
        "\n",
        "if not os.path.exists(Fire):\n",
        "   os.makedirs(Fire) \n",
        "\n",
        "if not os.path.exists(TrainFire):\n",
        "   os.makedirs(TrainFire) \n",
        "\n",
        "if not os.path.exists(TestFire):\n",
        "   os.makedirs(TestFire) \n",
        "\n",
        "if not os.path.exists(Neutral):\n",
        "   os.makedirs(Neutral) \n",
        "\n",
        "if not os.path.exists(TrainNeutral):\n",
        "   os.makedirs(TrainNeutral) \n",
        "\n",
        "if not os.path.exists(TesNeutral):\n",
        "   os.makedirs(TesNeutral) \n",
        "\n",
        "\n",
        "\n",
        "print(TrainFire)\n",
        "print(TrainNeutral)"
      ]
    },
    {
      "cell_type": "code",
      "execution_count": null,
      "metadata": {
        "id": "FcBOTBFQwhzS"
      },
      "outputs": [],
      "source": [
        "GreyBaseDataSet  = OutputFiles+\"/GreyBaseDataSet\"\n",
        "GreyFire = GreyBaseDataSet+\"/Train\"\n",
        "TrainGreyFire = GreyFire+\"/Fire\"\n",
        "TrainGreyNeutral = GreyFire+\"/Neutral\"\n",
        "\n",
        "GreyNeutral = GreyBaseDataSet+\"/Test\"\n",
        "TestGreyFire = GreyNeutral+\"/Fire\"\n",
        "TestGreyNeutral = GreyNeutral+\"/Neutral\"\n",
        "\n",
        "\n",
        "if not os.path.exists(GreyBaseDataSet):\n",
        "   os.makedirs(GreyBaseDataSet) \n",
        "\n",
        "if not os.path.exists(GreyFire):\n",
        "   os.makedirs(GreyFire) \n",
        "\n",
        "if not os.path.exists(TrainGreyFire):\n",
        "   os.makedirs(TrainGreyFire) \n",
        "\n",
        "if not os.path.exists(TestGreyFire):\n",
        "   os.makedirs(TestGreyFire) \n",
        "\n",
        "if not os.path.exists(GreyNeutral):\n",
        "   os.makedirs(GreyNeutral) \n",
        "\n",
        "if not os.path.exists(TrainGreyNeutral):\n",
        "   os.makedirs(TrainGreyNeutral) \n",
        "\n",
        "if not os.path.exists(TestGreyNeutral):\n",
        "   os.makedirs(TestGreyNeutral) "
      ]
    },
    {
      "cell_type": "code",
      "execution_count": null,
      "metadata": {
        "colab": {
          "base_uri": "https://localhost:8080/"
        },
        "id": "WcaHyjJ4wsyc",
        "outputId": "d4af4ad7-4df5-4752-d76f-13705711cefc"
      },
      "outputs": [
        {
          "name": "stdout",
          "output_type": "stream",
          "text": [
            "/content/gdrive/MyDrive/Colab_Notebooks/Fire_ImageDataSet//OutputFiles/GreyBaseDataSet/Train/Fire\n",
            "/content/gdrive/MyDrive/Colab_Notebooks/Fire_ImageDataSet//OutputFiles/GreyBaseDataSet/Train/Neutral\n"
          ]
        }
      ],
      "source": [
        "print(TrainGreyFire)\n",
        "print(TrainGreyNeutral)"
      ]
    },
    {
      "cell_type": "code",
      "execution_count": null,
      "metadata": {
        "id": "VAVXMX1nw3BT"
      },
      "outputs": [],
      "source": [
        "def variance_of_laplacian(image):\n",
        "    return cv2.Laplacian(image, cv2.CV_64F).var()\n",
        "## Function return as value the average variance of the edges in an image. The higher the number, the sharper the edge is."
      ]
    },
    {
      "cell_type": "code",
      "execution_count": null,
      "metadata": {
        "id": "LjmnQsT004wU"
      },
      "outputs": [],
      "source": [
        "from tqdm import tqdm  #tqdm is a library in Python which is used for creating Progress Meters or Progress Bars."
      ]
    },
    {
      "cell_type": "code",
      "execution_count": null,
      "metadata": {
        "colab": {
          "base_uri": "https://localhost:8080/"
        },
        "id": "A0NsZjIy08UT",
        "outputId": "08e1a0a6-e472-4bdd-edfc-bf27dced9bdf"
      },
      "outputs": [
        {
          "data": {
            "text/plain": [
              "(1809, 3)"
            ]
          },
          "execution_count": 36,
          "metadata": {},
          "output_type": "execute_result"
        }
      ],
      "source": [
        "Train_Data.shape"
      ]
    },
    {
      "cell_type": "code",
      "execution_count": null,
      "metadata": {
        "colab": {
          "base_uri": "https://localhost:8080/"
        },
        "id": "SBbhjz5H1Ds4",
        "outputId": "695e333b-f8da-4e35-cdaf-378b319ed0b3"
      },
      "outputs": [
        {
          "name": "stdout",
          "output_type": "stream",
          "text": [
            "/content/gdrive/MyDrive/Colab_Notebooks/Fire_ImageDataSet/Fire/image_898.jpg\n"
          ]
        }
      ],
      "source": [
        "o=Train_Data['FullPathName'][0]\n",
        "print(o)  "
      ]
    },
    {
      "cell_type": "code",
      "execution_count": null,
      "metadata": {
        "colab": {
          "base_uri": "https://localhost:8080/"
        },
        "id": "TBnevf3G1FAx",
        "outputId": "542c9755-f8ea-4a71-8939-40d8b5c3ee95"
      },
      "outputs": [
        {
          "name": "stderr",
          "output_type": "stream",
          "text": [
            "  9%|▉         | 170/1809 [00:07<01:03, 25.66it/s]"
          ]
        },
        {
          "name": "stdout",
          "output_type": "stream",
          "text": [
            "Dark Image!!\n"
          ]
        },
        {
          "name": "stderr",
          "output_type": "stream",
          "text": [
            " 10%|█         | 186/1809 [00:07<00:49, 32.55it/s]"
          ]
        },
        {
          "name": "stdout",
          "output_type": "stream",
          "text": [
            "Dark Image!!\n"
          ]
        },
        {
          "name": "stderr",
          "output_type": "stream",
          "text": [
            " 12%|█▏        | 212/1809 [00:08<00:47, 33.76it/s]"
          ]
        },
        {
          "name": "stdout",
          "output_type": "stream",
          "text": [
            "Dark Image!!\n"
          ]
        },
        {
          "name": "stderr",
          "output_type": "stream",
          "text": [
            " 35%|███▍      | 632/1809 [00:20<00:25, 45.62it/s]"
          ]
        },
        {
          "name": "stdout",
          "output_type": "stream",
          "text": [
            "Dark Image!!\n"
          ]
        },
        {
          "name": "stderr",
          "output_type": "stream",
          "text": [
            " 36%|███▋      | 658/1809 [00:21<00:25, 44.36it/s]"
          ]
        },
        {
          "name": "stdout",
          "output_type": "stream",
          "text": [
            "Dark Image!!\n"
          ]
        },
        {
          "name": "stderr",
          "output_type": "stream",
          "text": [
            " 42%|████▏     | 755/1809 [00:23<00:22, 45.94it/s]"
          ]
        },
        {
          "name": "stdout",
          "output_type": "stream",
          "text": [
            "Dark Image!!\n"
          ]
        },
        {
          "name": "stderr",
          "output_type": "stream",
          "text": [
            " 47%|████▋     | 845/1809 [00:25<00:21, 45.65it/s]"
          ]
        },
        {
          "name": "stdout",
          "output_type": "stream",
          "text": [
            "Dark Image!!\n"
          ]
        },
        {
          "name": "stderr",
          "output_type": "stream",
          "text": [
            "100%|██████████| 1809/1809 [11:59<00:00,  2.51it/s]"
          ]
        },
        {
          "name": "stdout",
          "output_type": "stream",
          "text": [
            "27\n",
            "1775\n",
            "7\n"
          ]
        },
        {
          "name": "stderr",
          "output_type": "stream",
          "text": [
            "\n"
          ]
        }
      ],
      "source": [
        "kountg = 0\n",
        "kount = 0\n",
        "darkImagecount = 0\n",
        "thvalue = 100  # In general, the threshold value gives very good results at 100.\n",
        "# That differs from image to image, it depends on the camera you’re using and on the content of the pictures.\n",
        "\n",
        "\n",
        "# Following variables - for final csv \n",
        "frame_filename = []\n",
        "frameFile_Path    = []\n",
        "GreyframeFile_Path = []\n",
        "frame_class    = []\n",
        "trainOrTest    = []\n",
        "\n",
        "\n",
        "# for loop to read and store frames\n",
        "for i in tqdm(range(Train_Data.shape[0])):\n",
        "    # loading the image and keeping the target size as (224,224,3)\n",
        "    # three-dimensional array containing the red, green, and blue pixel intensities. \n",
        "    #Image has been reformated to be 224-by-224 pixels in size.\n",
        "    \n",
        "    \n",
        "    img = cv2.imread(Train_Data['FullPathName'][i])\n",
        "    img_grey = cv2.cvtColor(img, cv2.COLOR_BGR2GRAY)  # Convert to grey inage  \n",
        "    \n",
        "    if img is None:\n",
        "        result = \"Image is empty!!\"\n",
        "        print(result)\n",
        "        print(Train_Data['FullPathName'][i])\n",
        "        continue\n",
        "        \n",
        "    ## If image is dark - By pass \n",
        "    if np.average(img_grey) < 20:  ## if it dark image , skip \n",
        "        # skips an iteration, so the frame isn't saved\n",
        "        result = \"Dark Image!!\"\n",
        "        print(result)\n",
        "        #print(Train_Data['FullPathName'][i])\n",
        "        darkImagecount =  darkImagecount + 1\n",
        "        continue\n",
        "\n",
        "\n",
        "    fm = variance_of_laplacian(img_grey)  # Use grey image \n",
        "    #text = \"Not Blurry\"\n",
        "    if fm < thvalue:\n",
        "        kount = kount+1\n",
        "        #text = \"Blurry\"\n",
        "        #write to blurimage folder\n",
        "        # Saving the image\n",
        "        x= Train_Data['FullPathName'][i]\n",
        "        #print(x)\n",
        "        baseFileName = os.path.basename(x)\n",
        "        #print(baseFileName)\n",
        "        FinalPath= os.path.join(BlurFrames,baseFileName)\n",
        "        #print(FinalPath)\n",
        "        cv2.imwrite(FinalPath, img, [cv2.IMWRITE_JPEG_QUALITY, 50])\n",
        "        continue \n",
        "    else:\n",
        "        kountg = kountg+1\n",
        "        # write to grey image folder\n",
        "        # Saving the image\n",
        "        x= Train_Data['FullPathName'][i]\n",
        "        #print(x)\n",
        "        baseFileName = os.path.basename(x)\n",
        "        #print(baseFileName)\n",
        "        \n",
        "        #FinalPath= os.path.join(GreyFrames,\"Grey\"+baseFileName)\n",
        "        ### Now split Fire and Neutral\n",
        "        if Train_Data['class'][i] == \"Fire\":\n",
        "            c_FinalPath= os.path.join(TrainFire,baseFileName)\n",
        "            cv2.imwrite(c_FinalPath, img, [cv2.IMWRITE_JPEG_QUALITY, 50])\n",
        "            \n",
        "            \n",
        "            FinalPath= os.path.join(TrainGreyFire,\"Grey\"+baseFileName)\n",
        "            cv2.imwrite(FinalPath, img_grey, [cv2.IMWRITE_JPEG_QUALITY, 50])\n",
        "            \n",
        "            \n",
        "        else:\n",
        "            c_FinalPath= os.path.join(TrainNeutral,baseFileName)\n",
        "            cv2.imwrite(c_FinalPath, img, [cv2.IMWRITE_JPEG_QUALITY, 50])\n",
        "            FinalPath= os.path.join(TrainGreyNeutral,\"Grey\"+baseFileName)\n",
        "            cv2.imwrite(FinalPath, img_grey, [cv2.IMWRITE_JPEG_QUALITY, 50])\n",
        "            \n",
        "\n",
        "            \n",
        "        frame_filename.append(Train_Data['FrameFilename'][i])  # Only filename\n",
        "        frameFile_Path.append(c_FinalPath)  # # File Name with complete path\n",
        "           \n",
        "        GreyframeFile_Path.append(FinalPath)  # # Grey File Frame Name with complete path\n",
        "        frame_class.append(Train_Data['class'][i])  # # # Class i.e. Fire or Neutral\n",
        "            \n",
        "            \n",
        "# storing the images and their class in a dataframe\n",
        "FramePathLocation = pd.DataFrame()\n",
        "FramePathLocation['FrameFilename'] = frame_filename\n",
        "FramePathLocation['FullPathName'] = frameFile_Path\n",
        "FramePathLocation['GreyFullPathName'] = GreyframeFile_Path\n",
        "FramePathLocation['class'] = frame_class\n",
        "          \n",
        "            \n",
        "\n",
        "print(kount)\n",
        "print(kountg)\n",
        "print(darkImagecount)"
      ]
    },
    {
      "cell_type": "code",
      "execution_count": null,
      "metadata": {
        "colab": {
          "base_uri": "https://localhost:8080/",
          "height": 206
        },
        "id": "FBS1hAHp6UOF",
        "outputId": "f94bf4b7-5fe3-4b0f-e0df-7b0d05904ae4"
      },
      "outputs": [
        {
          "data": {
            "text/html": [
              "\n",
              "  <div id=\"df-3f6e4af2-849d-4fd1-9e24-265f858f54a7\">\n",
              "    <div class=\"colab-df-container\">\n",
              "      <div>\n",
              "<style scoped>\n",
              "    .dataframe tbody tr th:only-of-type {\n",
              "        vertical-align: middle;\n",
              "    }\n",
              "\n",
              "    .dataframe tbody tr th {\n",
              "        vertical-align: top;\n",
              "    }\n",
              "\n",
              "    .dataframe thead th {\n",
              "        text-align: right;\n",
              "    }\n",
              "</style>\n",
              "<table border=\"1\" class=\"dataframe\">\n",
              "  <thead>\n",
              "    <tr style=\"text-align: right;\">\n",
              "      <th></th>\n",
              "      <th>FrameFilename</th>\n",
              "      <th>FullPathName</th>\n",
              "      <th>GreyFullPathName</th>\n",
              "      <th>class</th>\n",
              "    </tr>\n",
              "  </thead>\n",
              "  <tbody>\n",
              "    <tr>\n",
              "      <th>0</th>\n",
              "      <td>image_898.jpg</td>\n",
              "      <td>/content/gdrive/MyDrive/Colab_Notebooks/Fire_I...</td>\n",
              "      <td>/content/gdrive/MyDrive/Colab_Notebooks/Fire_I...</td>\n",
              "      <td>Fire</td>\n",
              "    </tr>\n",
              "    <tr>\n",
              "      <th>1</th>\n",
              "      <td>image_96.jpg</td>\n",
              "      <td>/content/gdrive/MyDrive/Colab_Notebooks/Fire_I...</td>\n",
              "      <td>/content/gdrive/MyDrive/Colab_Notebooks/Fire_I...</td>\n",
              "      <td>Fire</td>\n",
              "    </tr>\n",
              "    <tr>\n",
              "      <th>2</th>\n",
              "      <td>image_894.jpg</td>\n",
              "      <td>/content/gdrive/MyDrive/Colab_Notebooks/Fire_I...</td>\n",
              "      <td>/content/gdrive/MyDrive/Colab_Notebooks/Fire_I...</td>\n",
              "      <td>Fire</td>\n",
              "    </tr>\n",
              "    <tr>\n",
              "      <th>3</th>\n",
              "      <td>image_895.jpg</td>\n",
              "      <td>/content/gdrive/MyDrive/Colab_Notebooks/Fire_I...</td>\n",
              "      <td>/content/gdrive/MyDrive/Colab_Notebooks/Fire_I...</td>\n",
              "      <td>Fire</td>\n",
              "    </tr>\n",
              "    <tr>\n",
              "      <th>4</th>\n",
              "      <td>image_876.jpg</td>\n",
              "      <td>/content/gdrive/MyDrive/Colab_Notebooks/Fire_I...</td>\n",
              "      <td>/content/gdrive/MyDrive/Colab_Notebooks/Fire_I...</td>\n",
              "      <td>Fire</td>\n",
              "    </tr>\n",
              "  </tbody>\n",
              "</table>\n",
              "</div>\n",
              "      <button class=\"colab-df-convert\" onclick=\"convertToInteractive('df-3f6e4af2-849d-4fd1-9e24-265f858f54a7')\"\n",
              "              title=\"Convert this dataframe to an interactive table.\"\n",
              "              style=\"display:none;\">\n",
              "        \n",
              "  <svg xmlns=\"http://www.w3.org/2000/svg\" height=\"24px\"viewBox=\"0 0 24 24\"\n",
              "       width=\"24px\">\n",
              "    <path d=\"M0 0h24v24H0V0z\" fill=\"none\"/>\n",
              "    <path d=\"M18.56 5.44l.94 2.06.94-2.06 2.06-.94-2.06-.94-.94-2.06-.94 2.06-2.06.94zm-11 1L8.5 8.5l.94-2.06 2.06-.94-2.06-.94L8.5 2.5l-.94 2.06-2.06.94zm10 10l.94 2.06.94-2.06 2.06-.94-2.06-.94-.94-2.06-.94 2.06-2.06.94z\"/><path d=\"M17.41 7.96l-1.37-1.37c-.4-.4-.92-.59-1.43-.59-.52 0-1.04.2-1.43.59L10.3 9.45l-7.72 7.72c-.78.78-.78 2.05 0 2.83L4 21.41c.39.39.9.59 1.41.59.51 0 1.02-.2 1.41-.59l7.78-7.78 2.81-2.81c.8-.78.8-2.07 0-2.86zM5.41 20L4 18.59l7.72-7.72 1.47 1.35L5.41 20z\"/>\n",
              "  </svg>\n",
              "      </button>\n",
              "      \n",
              "  <style>\n",
              "    .colab-df-container {\n",
              "      display:flex;\n",
              "      flex-wrap:wrap;\n",
              "      gap: 12px;\n",
              "    }\n",
              "\n",
              "    .colab-df-convert {\n",
              "      background-color: #E8F0FE;\n",
              "      border: none;\n",
              "      border-radius: 50%;\n",
              "      cursor: pointer;\n",
              "      display: none;\n",
              "      fill: #1967D2;\n",
              "      height: 32px;\n",
              "      padding: 0 0 0 0;\n",
              "      width: 32px;\n",
              "    }\n",
              "\n",
              "    .colab-df-convert:hover {\n",
              "      background-color: #E2EBFA;\n",
              "      box-shadow: 0px 1px 2px rgba(60, 64, 67, 0.3), 0px 1px 3px 1px rgba(60, 64, 67, 0.15);\n",
              "      fill: #174EA6;\n",
              "    }\n",
              "\n",
              "    [theme=dark] .colab-df-convert {\n",
              "      background-color: #3B4455;\n",
              "      fill: #D2E3FC;\n",
              "    }\n",
              "\n",
              "    [theme=dark] .colab-df-convert:hover {\n",
              "      background-color: #434B5C;\n",
              "      box-shadow: 0px 1px 3px 1px rgba(0, 0, 0, 0.15);\n",
              "      filter: drop-shadow(0px 1px 2px rgba(0, 0, 0, 0.3));\n",
              "      fill: #FFFFFF;\n",
              "    }\n",
              "  </style>\n",
              "\n",
              "      <script>\n",
              "        const buttonEl =\n",
              "          document.querySelector('#df-3f6e4af2-849d-4fd1-9e24-265f858f54a7 button.colab-df-convert');\n",
              "        buttonEl.style.display =\n",
              "          google.colab.kernel.accessAllowed ? 'block' : 'none';\n",
              "\n",
              "        async function convertToInteractive(key) {\n",
              "          const element = document.querySelector('#df-3f6e4af2-849d-4fd1-9e24-265f858f54a7');\n",
              "          const dataTable =\n",
              "            await google.colab.kernel.invokeFunction('convertToInteractive',\n",
              "                                                     [key], {});\n",
              "          if (!dataTable) return;\n",
              "\n",
              "          const docLinkHtml = 'Like what you see? Visit the ' +\n",
              "            '<a target=\"_blank\" href=https://colab.research.google.com/notebooks/data_table.ipynb>data table notebook</a>'\n",
              "            + ' to learn more about interactive tables.';\n",
              "          element.innerHTML = '';\n",
              "          dataTable['output_type'] = 'display_data';\n",
              "          await google.colab.output.renderOutput(dataTable, element);\n",
              "          const docLink = document.createElement('div');\n",
              "          docLink.innerHTML = docLinkHtml;\n",
              "          element.appendChild(docLink);\n",
              "        }\n",
              "      </script>\n",
              "    </div>\n",
              "  </div>\n",
              "  "
            ],
            "text/plain": [
              "   FrameFilename  ... class\n",
              "0  image_898.jpg  ...  Fire\n",
              "1   image_96.jpg  ...  Fire\n",
              "2  image_894.jpg  ...  Fire\n",
              "3  image_895.jpg  ...  Fire\n",
              "4  image_876.jpg  ...  Fire\n",
              "\n",
              "[5 rows x 4 columns]"
            ]
          },
          "execution_count": 39,
          "metadata": {},
          "output_type": "execute_result"
        }
      ],
      "source": [
        "FramePathLocation.head()"
      ]
    },
    {
      "cell_type": "code",
      "execution_count": null,
      "metadata": {
        "colab": {
          "base_uri": "https://localhost:8080/"
        },
        "id": "OubJcteP6ZM_",
        "outputId": "c445282c-6fb3-486d-802c-a5bf1942b96f"
      },
      "outputs": [
        {
          "data": {
            "text/plain": [
              "(1775, 4)"
            ]
          },
          "execution_count": 40,
          "metadata": {},
          "output_type": "execute_result"
        }
      ],
      "source": [
        "FramePathLocation.shape"
      ]
    },
    {
      "cell_type": "code",
      "execution_count": null,
      "metadata": {
        "colab": {
          "base_uri": "https://localhost:8080/"
        },
        "id": "xEsk84NK6bh-",
        "outputId": "1d73a692-5205-4a7d-9012-e54748a7eadc"
      },
      "outputs": [
        {
          "data": {
            "text/plain": [
              "(200, 3)"
            ]
          },
          "execution_count": 41,
          "metadata": {},
          "output_type": "execute_result"
        }
      ],
      "source": [
        "Test_Data.shape"
      ]
    },
    {
      "cell_type": "code",
      "execution_count": null,
      "metadata": {
        "colab": {
          "base_uri": "https://localhost:8080/"
        },
        "id": "-E_yYFp36dwc",
        "outputId": "e3e8dc78-cc0e-4fdd-9e4a-c5f3e6326f57"
      },
      "outputs": [
        {
          "name": "stdout",
          "output_type": "stream",
          "text": [
            "/content/gdrive/MyDrive/Colab_Notebooks/Fire_ImageDataSet/Fire/TF_image_79.jpg\n"
          ]
        }
      ],
      "source": [
        "o=Test_Data['FullPathName'][0]\n",
        "print(o)  "
      ]
    },
    {
      "cell_type": "code",
      "execution_count": null,
      "metadata": {
        "colab": {
          "base_uri": "https://localhost:8080/"
        },
        "id": "rmx5c8U_6hgl",
        "outputId": "2f84e76d-fa14-4845-aa0f-582606a82758"
      },
      "outputs": [
        {
          "name": "stderr",
          "output_type": "stream",
          "text": [
            " 98%|█████████▊| 196/200 [02:13<00:06,  1.65s/it]"
          ]
        },
        {
          "name": "stdout",
          "output_type": "stream",
          "text": [
            "Dark Image!!\n"
          ]
        },
        {
          "name": "stderr",
          "output_type": "stream",
          "text": [
            "\r 98%|█████████▊| 197/200 [02:14<00:05,  1.67s/it]"
          ]
        },
        {
          "name": "stdout",
          "output_type": "stream",
          "text": [
            "Dark Image!!\n"
          ]
        },
        {
          "name": "stderr",
          "output_type": "stream",
          "text": [
            "100%|██████████| 200/200 [02:19<00:00,  1.43it/s]"
          ]
        },
        {
          "name": "stdout",
          "output_type": "stream",
          "text": [
            "11\n",
            "187\n",
            "2\n"
          ]
        },
        {
          "name": "stderr",
          "output_type": "stream",
          "text": [
            "\n"
          ]
        }
      ],
      "source": [
        "kountg = 0\n",
        "kount = 0\n",
        "darkImagecount = 0\n",
        "thvalue = 100  # In general, the threshold value gives very good results at 100.\n",
        "# That differs from image to image, it depends on the camera you’re using and on the content of the pictures.\n",
        "\n",
        "\n",
        "# Following variables - for final csv \n",
        "frame_filename = []\n",
        "frameFile_Path    = []\n",
        "GreyframeFile_Path = []\n",
        "frame_class    = []\n",
        "trainOrTest    = []\n",
        "\n",
        "\n",
        "# for loop to read and store frames\n",
        "for i in tqdm(range(Test_Data.shape[0])):\n",
        "    # loading the image and keeping the target size as (224,224,3)\n",
        "    # three-dimensional array containing the red, green, and blue pixel intensities. \n",
        "    #Image has been reformated to be 224-by-224 pixels in size.\n",
        "    \n",
        "    \n",
        "    img = cv2.imread(Test_Data['FullPathName'][i])\n",
        "    img_grey = cv2.cvtColor(img,  cv2.COLOR_BGR2GRAY)  # Convert to grey inage  \n",
        "   \n",
        "    \n",
        "    if img is None:\n",
        "        result = \"Image is empty!!\"\n",
        "        print(result)\n",
        "        print(Test_Data['FullPathName'][i])\n",
        "        continue\n",
        "        \n",
        "    ## If image is dark - By pass \n",
        "    if np.average(img_grey) < 20:  ## if it dark image , skip \n",
        "        # skips an iteration, so the frame isn't saved\n",
        "        result = \"Dark Image!!\"\n",
        "        print(result)\n",
        "        #print(Test_Data['FullPathName'][i])\n",
        "        darkImagecount =  darkImagecount + 1\n",
        "        continue\n",
        "\n",
        "\n",
        "    fm = variance_of_laplacian(img_grey)  # Use grey image \n",
        "    #text = \"Not Blurry\"\n",
        "    if fm < thvalue:\n",
        "        kount = kount+1\n",
        "        #text = \"Blurry\"\n",
        "        #write to blurimage folder\n",
        "        # Saving the image\n",
        "        x= Test_Data['FullPathName'][i]\n",
        "        #print(x)\n",
        "        baseFileName = os.path.basename(x)\n",
        "        #print(baseFileName)\n",
        "        FinalPath= os.path.join(BlurFrames,baseFileName)\n",
        "        #print(FinalPath)\n",
        "        cv2.imwrite(FinalPath, img, [cv2.IMWRITE_JPEG_QUALITY, 50])\n",
        "        continue \n",
        "    else:\n",
        "        kountg = kountg+1\n",
        "        # write to grey image folder\n",
        "        # Saving the image\n",
        "        x= Test_Data['FullPathName'][i]\n",
        "        #print(x)\n",
        "        baseFileName = os.path.basename(x)\n",
        "        #print(baseFileName)\n",
        "        \n",
        "        #FinalPath= os.path.join(GreyFrames,\"Grey\"+baseFileName)\n",
        "\n",
        "        ### Now split Fire and Neutral\n",
        "        if Test_Data['class'][i] == \"Fire\":\n",
        "            c_FinalPath= os.path.join(TestFire,baseFileName)\n",
        "            cv2.imwrite(c_FinalPath, img, [cv2.IMWRITE_JPEG_QUALITY, 50])\n",
        "            \n",
        "            \n",
        "            FinalPath= os.path.join(TestGreyFire,\"Grey\"+baseFileName)\n",
        "            cv2.imwrite(FinalPath, img_grey, [cv2.IMWRITE_JPEG_QUALITY, 50])\n",
        "            \n",
        "            \n",
        "        else:\n",
        "            c_FinalPath= os.path.join(TesNeutral,baseFileName)\n",
        "            cv2.imwrite(c_FinalPath, img, [cv2.IMWRITE_JPEG_QUALITY, 50])\n",
        "            FinalPath= os.path.join(TestGreyNeutral,\"Grey\"+baseFileName)\n",
        "            cv2.imwrite(FinalPath, img_grey, [cv2.IMWRITE_JPEG_QUALITY, 50])\n",
        "            \n",
        "\n",
        "            \n",
        "        frame_filename.append(Test_Data['FrameFilename'][i])  # Only filename\n",
        "        frameFile_Path.append(c_FinalPath)  # # File Name with complete path\n",
        "           \n",
        "        GreyframeFile_Path.append(FinalPath)  # # Grey File Frame Name with complete path\n",
        "        frame_class.append(Test_Data['class'][i])  # # # Class i.e. Fire or Neutral\n",
        "            \n",
        "            \n",
        "# storing the images and their class in a dataframe\n",
        "FramePathLocation = pd.DataFrame()\n",
        "FramePathLocation['FrameFilename'] = frame_filename\n",
        "FramePathLocation['FullPathName'] = frameFile_Path\n",
        "FramePathLocation['GreyFullPathName'] = GreyframeFile_Path\n",
        "FramePathLocation['class'] = frame_class\n",
        "          \n",
        "            \n",
        "\n",
        "print(kount)\n",
        "print(kountg)\n",
        "print(darkImagecount)"
      ]
    },
    {
      "cell_type": "code",
      "execution_count": null,
      "metadata": {
        "colab": {
          "base_uri": "https://localhost:8080/"
        },
        "id": "GwWCFVRl9kLm",
        "outputId": "31c04bfa-5ae7-4a69-9f29-2380631a915e"
      },
      "outputs": [
        {
          "data": {
            "text/plain": [
              "(187, 4)"
            ]
          },
          "execution_count": null,
          "metadata": {},
          "output_type": "execute_result"
        }
      ],
      "source": [
        "FramePathLocation.shape"
      ]
    },
    {
      "cell_type": "code",
      "execution_count": null,
      "metadata": {
        "id": "J2OElC819oCt"
      },
      "outputs": [],
      "source": [
        "# converting the dataframe into csv file \n",
        "\n",
        "FramePathLocation.to_csv(OutputFiles+'/Test_FramePathLocation.csv',header=True, index=False)"
      ]
    },
    {
      "cell_type": "markdown",
      "metadata": {
        "id": "Jnzx8qHV98SC"
      },
      "source": [
        "# **Data visualizations**\n",
        "\n",
        "\n",
        "This function helps to visualize images in test and train set in various categories Find image size (width, height)\n",
        "\n",
        "Function to present the images"
      ]
    },
    {
      "cell_type": "code",
      "execution_count": null,
      "metadata": {
        "id": "PFzcg2oJ9sHo"
      },
      "outputs": [],
      "source": [
        "from PIL import Image             # Python Image Library \n",
        "import matplotlib.pyplot as plt   # Making plots \n",
        "import matplotlib.image as mpimg  # To view color image \n",
        "%matplotlib inline"
      ]
    },
    {
      "cell_type": "code",
      "execution_count": null,
      "metadata": {
        "colab": {
          "base_uri": "https://localhost:8080/",
          "height": 35
        },
        "id": "rwPSGhfx_Z5V",
        "outputId": "ba3cba3e-7b2b-4a6a-c13d-4cf1ae0c0d76"
      },
      "outputs": [
        {
          "data": {
            "application/vnd.google.colaboratory.intrinsic+json": {
              "type": "string"
            },
            "text/plain": [
              "'/content/gdrive/MyDrive/Colab_Notebooks/Fire_ImageDataSet//OutputFiles/BaseDataSet/Train/Fire'"
            ]
          },
          "execution_count": null,
          "metadata": {},
          "output_type": "execute_result"
        }
      ],
      "source": [
        "TrainFire"
      ]
    },
    {
      "cell_type": "code",
      "execution_count": null,
      "metadata": {
        "colab": {
          "base_uri": "https://localhost:8080/",
          "height": 35
        },
        "id": "yWDIF3rm_dpD",
        "outputId": "5e081b15-977e-44ea-fcd4-7398ded2ad8c"
      },
      "outputs": [
        {
          "data": {
            "application/vnd.google.colaboratory.intrinsic+json": {
              "type": "string"
            },
            "text/plain": [
              "'/content/gdrive/MyDrive/Colab_Notebooks/Fire_ImageDataSet//OutputFiles/BaseDataSet/Train/Neutral'"
            ]
          },
          "execution_count": null,
          "metadata": {},
          "output_type": "execute_result"
        }
      ],
      "source": [
        "TrainNeutral"
      ]
    },
    {
      "cell_type": "code",
      "execution_count": null,
      "metadata": {
        "id": "8Zr28M5w_hC4"
      },
      "outputs": [],
      "source": [
        "def image_collage(path, n_rows, n_cols, title,imageType):\n",
        "    \n",
        "    '''This function selects the first few images from given \n",
        "    path and presents in the collage form. \n",
        "    path is the directory from which images are taken. \n",
        "    n_rows and n_cols are rows and column of the collage. \n",
        "    title is the title of the collage.\n",
        "    imageType - to indicate colur(C) or grey (G)'''\n",
        "    \n",
        "    # Initiating the plot \n",
        "    fig = plt.figure()\n",
        "    plt.title(title)\n",
        "    \n",
        "    # Turns off axis from the collage (total plot)\n",
        "    plt.axis('Off')\n",
        "    \n",
        "    # List of all images in the path\n",
        "    img_list = os.listdir(path)\n",
        "\n",
        "    img_num = 1\n",
        "    for img in img_list[:n_rows*n_cols]:\n",
        "        \n",
        "        # directroies of the choosen images \n",
        "        img_path = os.path.join(path, img)\n",
        "        \n",
        "        # showing the color images \n",
        "        #img_read = mpimg.imread(img_path)\n",
        "        img_read = mpimg.imread(img_path)\n",
        "        \n",
        "        if imageType == 'C':\n",
        "            \n",
        "           #Get image size (width, height) \n",
        "            h, w, c = img_read.shape\n",
        "            print('Image:  ', img)\n",
        "            print('width:  ', w)\n",
        "            print('height: ', h)\n",
        "            print('channel:', c)\n",
        "        else:\n",
        "            h, w  = img_read.shape\n",
        "            print('Image:  ', img)\n",
        "            print('width:  ', w)\n",
        "            print('height: ', h)\n",
        "            \n",
        "            \n",
        "            \n",
        "\n",
        "        \n",
        "        # collage is formed from subplot\n",
        "        ax = fig.add_subplot(n_rows, n_cols, img_num)\n",
        "        img_num += 1\n",
        "        \n",
        "        # displaying image in subplot \n",
        "        ax.imshow(img_read)\n",
        "        \n",
        "        # turns off the axis from individual image in the collage\n",
        "        ax.axis('Off')"
      ]
    },
    {
      "cell_type": "code",
      "execution_count": null,
      "metadata": {
        "colab": {
          "base_uri": "https://localhost:8080/",
          "height": 1000
        },
        "id": "k78Rehj9_rAv",
        "outputId": "103a31f8-45ee-4531-abc3-daac9d5d2972"
      },
      "outputs": [
        {
          "name": "stdout",
          "output_type": "stream",
          "text": [
            "Image:   image_898.jpg\n",
            "width:   266\n",
            "height:  189\n",
            "channel: 3\n",
            "Image:   image_96.jpg\n",
            "width:   300\n",
            "height:  168\n",
            "channel: 3\n",
            "Image:   image_894.jpg\n",
            "width:   282\n",
            "height:  178\n",
            "channel: 3\n",
            "Image:   image_895.jpg\n",
            "width:   300\n",
            "height:  168\n",
            "channel: 3\n",
            "Image:   image_876.jpg\n",
            "width:   293\n",
            "height:  172\n",
            "channel: 3\n",
            "Image:   image_93.jpg\n",
            "width:   291\n",
            "height:  173\n",
            "channel: 3\n",
            "Image:   image_89.jpg\n",
            "width:   292\n",
            "height:  173\n",
            "channel: 3\n",
            "Image:   image_893.jpg\n",
            "width:   299\n",
            "height:  168\n",
            "channel: 3\n",
            "Image:   image_888.jpg\n",
            "width:   300\n",
            "height:  168\n",
            "channel: 3\n",
            "Image:   image_92.jpg\n",
            "width:   310\n",
            "height:  163\n",
            "channel: 3\n",
            "Image:   image_99.jpg\n",
            "width:   327\n",
            "height:  154\n",
            "channel: 3\n",
            "Image:   image_877.jpg\n",
            "width:   259\n",
            "height:  194\n",
            "channel: 3\n",
            "Image:   N_image_161.jpg\n",
            "width:   290\n",
            "height:  174\n",
            "channel: 3\n",
            "Image:   N_image_17.jpg\n",
            "width:   300\n",
            "height:  168\n",
            "channel: 3\n",
            "Image:   N_image_169.jpg\n",
            "width:   300\n",
            "height:  168\n",
            "channel: 3\n",
            "Image:   N_image_168.jpg\n",
            "width:   183\n",
            "height:  275\n",
            "channel: 3\n",
            "Image:   N_image_167.jpg\n",
            "width:   299\n",
            "height:  168\n",
            "channel: 3\n",
            "Image:   N_image_166.jpg\n",
            "width:   259\n",
            "height:  195\n",
            "channel: 3\n",
            "Image:   N_image_163.jpg\n",
            "width:   245\n",
            "height:  206\n",
            "channel: 3\n",
            "Image:   N_image_164.jpg\n",
            "width:   275\n",
            "height:  183\n",
            "channel: 3\n",
            "Image:   N_image_162.jpg\n",
            "width:   275\n",
            "height:  183\n",
            "channel: 3\n",
            "Image:   N_image_165.jpg\n",
            "width:   300\n",
            "height:  168\n",
            "channel: 3\n",
            "Image:   N_image_540.jpg\n",
            "width:   1632\n",
            "height:  1232\n",
            "channel: 3\n",
            "Image:   N_image_160.jpg\n",
            "width:   286\n",
            "height:  176\n",
            "channel: 3\n"
          ]
        },
        {
          "data": {
            "image/png": "[encoded data removed]",
            "text/plain": [
              "<Figure size 432x288 with 13 Axes>"
            ]
          },
          "metadata": {},
          "output_type": "display_data"
        },
        {
          "data": {
            "image/png": "[encoded data removed]",
            "text/plain": [
              "<Figure size 432x288 with 13 Axes>"
            ]
          },
          "metadata": {},
          "output_type": "display_data"
        }
      ],
      "source": [
        "ImageType = 'C' # Colour image\n",
        "image_collage(TrainFire, 3, 4, 'Example Fire Images' , ImageType)\n",
        "image_collage(TrainNeutral, 3, 4, 'Example Non-Fire Images',ImageType)"
      ]
    },
    {
      "cell_type": "code",
      "execution_count": null,
      "metadata": {
        "colab": {
          "base_uri": "https://localhost:8080/",
          "height": 35
        },
        "id": "omnV_HJF__Ta",
        "outputId": "d1ed5c95-7dca-40f1-fcad-b0c2103a607c"
      },
      "outputs": [
        {
          "data": {
            "application/vnd.google.colaboratory.intrinsic+json": {
              "type": "string"
            },
            "text/plain": [
              "'/content/gdrive/MyDrive/Colab_Notebooks/Fire_ImageDataSet//OutputFiles/GreyBaseDataSet/Train/Fire'"
            ]
          },
          "execution_count": null,
          "metadata": {},
          "output_type": "execute_result"
        }
      ],
      "source": [
        "TrainGreyFire"
      ]
    },
    {
      "cell_type": "code",
      "execution_count": null,
      "metadata": {
        "colab": {
          "base_uri": "https://localhost:8080/",
          "height": 35
        },
        "id": "hwYd3lVbAKrt",
        "outputId": "98dedbe6-d63f-43b5-ea47-a72e972f26dd"
      },
      "outputs": [
        {
          "data": {
            "application/vnd.google.colaboratory.intrinsic+json": {
              "type": "string"
            },
            "text/plain": [
              "'/content/gdrive/MyDrive/Colab_Notebooks/Fire_ImageDataSet//OutputFiles/GreyBaseDataSet/Train/Neutral'"
            ]
          },
          "execution_count": null,
          "metadata": {},
          "output_type": "execute_result"
        }
      ],
      "source": [
        "TrainGreyNeutral"
      ]
    },
    {
      "cell_type": "code",
      "execution_count": null,
      "metadata": {
        "id": "bWoxYjfeAM09"
      },
      "outputs": [],
      "source": [
        "ImageType = 'G' # Gray image"
      ]
    },
    {
      "cell_type": "code",
      "execution_count": null,
      "metadata": {
        "colab": {
          "base_uri": "https://localhost:8080/",
          "height": 1000
        },
        "id": "GuiRz-e1AQAe",
        "outputId": "fbd96ff1-4508-442a-9eb4-bd448c8d2d97"
      },
      "outputs": [
        {
          "name": "stdout",
          "output_type": "stream",
          "text": [
            "Image:   Greyimage_898.jpg\n",
            "width:   266\n",
            "height:  189\n",
            "Image:   Greyimage_96.jpg\n",
            "width:   300\n",
            "height:  168\n",
            "Image:   Greyimage_894.jpg\n",
            "width:   282\n",
            "height:  178\n",
            "Image:   Greyimage_895.jpg\n",
            "width:   300\n",
            "height:  168\n",
            "Image:   Greyimage_876.jpg\n",
            "width:   293\n",
            "height:  172\n",
            "Image:   Greyimage_93.jpg\n",
            "width:   291\n",
            "height:  173\n",
            "Image:   Greyimage_89.jpg\n",
            "width:   292\n",
            "height:  173\n",
            "Image:   Greyimage_893.jpg\n",
            "width:   299\n",
            "height:  168\n",
            "Image:   Greyimage_888.jpg\n",
            "width:   300\n",
            "height:  168\n",
            "Image:   Greyimage_92.jpg\n",
            "width:   310\n",
            "height:  163\n",
            "Image:   Greyimage_99.jpg\n",
            "width:   327\n",
            "height:  154\n",
            "Image:   Greyimage_877.jpg\n",
            "width:   259\n",
            "height:  194\n",
            "Image:   GreyN_image_161.jpg\n",
            "width:   290\n",
            "height:  174\n",
            "Image:   GreyN_image_17.jpg\n",
            "width:   300\n",
            "height:  168\n",
            "Image:   GreyN_image_169.jpg\n",
            "width:   300\n",
            "height:  168\n",
            "Image:   GreyN_image_168.jpg\n",
            "width:   183\n",
            "height:  275\n",
            "Image:   GreyN_image_167.jpg\n",
            "width:   299\n",
            "height:  168\n",
            "Image:   GreyN_image_166.jpg\n",
            "width:   259\n",
            "height:  195\n",
            "Image:   GreyN_image_163.jpg\n",
            "width:   245\n",
            "height:  206\n",
            "Image:   GreyN_image_164.jpg\n",
            "width:   275\n",
            "height:  183\n",
            "Image:   GreyN_image_162.jpg\n",
            "width:   275\n",
            "height:  183\n",
            "Image:   GreyN_image_165.jpg\n",
            "width:   300\n",
            "height:  168\n",
            "Image:   GreyN_image_540.jpg\n",
            "width:   1632\n",
            "height:  1232\n",
            "Image:   GreyN_image_160.jpg\n",
            "width:   286\n",
            "height:  176\n"
          ]
        },
        {
          "data": {
            "image/png": "[encoded data removed]",
            "text/plain": [
              "<Figure size 432x288 with 13 Axes>"
            ]
          },
          "metadata": {},
          "output_type": "display_data"
        },
        {
          "data": {
            "image/png": "[encoded data removed]",
            "text/plain": [
              "<Figure size 432x288 with 13 Axes>"
            ]
          },
          "metadata": {},
          "output_type": "display_data"
        }
      ],
      "source": [
        "image_collage(TrainGreyFire, 3, 4, 'Example Fire Images',ImageType)\n",
        "image_collage(TrainGreyNeutral, 3, 4, 'Example Non-Fire Images',ImageType )"
      ]
    },
    {
      "cell_type": "markdown",
      "metadata": {
        "id": "VG8tz6Z7VPV5"
      },
      "source": [
        "# Now that we have created the target directories and segregated the test and train and all the folders lets start from this point so that we do not need to go back to the prep part again"
      ]
    },
    {
      "cell_type": "markdown",
      "source": [
        "\n",
        "### Training the Classification Model using VGG16 on ImageNet\n",
        "\n",
        "#### VGG16is a type of CNN (Convolutional Neural Network) that is considered to be one of the best computer vision models to date. \n",
        "\n",
        "#### ### VGG16  - This pre-trained models can be used for image classification, feature extraction, and transfer learning.\n",
        "\n",
        "#### Main focus is feature extraction, not for image classification.\n",
        "\n",
        "### https://franky07724-57962.medium.com/using-keras-pre-trained-models-for-feature-extraction-in-image-clustering-a142c6cdf5b1\n",
        "\n",
        "### VGG16 takes input tensor size as 224, 244 with 3 RGB channel"
      ],
      "metadata": {
        "id": "cr0EFFwRSlmj"
      }
    },
    {
      "cell_type": "code",
      "execution_count": 1,
      "metadata": {
        "colab": {
          "base_uri": "https://localhost:8080/"
        },
        "id": "aQRs8vC9Hprl",
        "outputId": "a63079cf-52b1-43f2-91d3-247e2916fec5"
      },
      "outputs": [
        {
          "output_type": "stream",
          "name": "stdout",
          "text": [
            "pandas: 1.3.5\n",
            "numpy: 1.21.5\n",
            "cv2: 4.1.2\n"
          ]
        }
      ],
      "source": [
        "import pandas as pd\n",
        "print('pandas: {}'.format(pd.__version__))\n",
        "import numpy as np\n",
        "import numpy\n",
        "print('numpy: {}'.format(np.__version__))\n",
        "import cv2                                 # for capturing videos\n",
        "print('cv2: {}'.format(cv2.__version__))\n",
        "\n",
        "import os, os.path\n",
        "from pathlib import Path\n",
        "import math   # for mathematical operations"
      ]
    },
    {
      "cell_type": "code",
      "execution_count": 3,
      "metadata": {
        "colab": {
          "base_uri": "https://localhost:8080/"
        },
        "id": "8m9ybiH-VrO6",
        "outputId": "b38bdbbd-8281-455e-dca3-34e80d4034a5"
      },
      "outputs": [
        {
          "output_type": "stream",
          "name": "stdout",
          "text": [
            "Mounted at /content/gdrive\n"
          ]
        }
      ],
      "source": [
        "from google.colab import drive\n",
        "drive.mount('/content/gdrive', force_remount=True)\n",
        "root_folder = \"/content/gdrive/MyDrive/Colab_Notebooks/Fire_ImageDataSet/\"\n",
        "ModelSave  = root_folder+\"/ModelSave\"\n",
        "OutputFiles  = root_folder+\"/OutputFiles\"\n"
      ]
    },
    {
      "cell_type": "code",
      "execution_count": 4,
      "metadata": {
        "id": "Ivv36pfoWiBs"
      },
      "outputs": [],
      "source": [
        "import keras\n",
        "from keras.models import Sequential\n",
        "from keras.applications.vgg16 import VGG16\n",
        "from keras.layers import Dense, InputLayer, Dropout, Flatten\n",
        "from keras.layers import Conv2D, MaxPooling2D, GlobalMaxPooling2D\n",
        "from keras.preprocessing import image\n",
        "import matplotlib.pyplot as plt\n",
        "from tqdm import tqdm\n",
        "from sklearn.model_selection import train_test_split\n",
        "\n",
        "import pickle\n",
        "\n",
        "import time\n",
        "\n",
        "import seaborn as sns"
      ]
    },
    {
      "cell_type": "code",
      "execution_count": 5,
      "metadata": {
        "colab": {
          "base_uri": "https://localhost:8080/"
        },
        "id": "ETJeJ2vCWy9j",
        "outputId": "ee8b4868-ccd9-4870-f30a-a95ecaa63e2e"
      },
      "outputs": [
        {
          "output_type": "stream",
          "name": "stdout",
          "text": [
            "/content/gdrive/MyDrive/Colab_Notebooks/Fire_ImageDataSet//ModelSave\n",
            "/content/gdrive/MyDrive/Colab_Notebooks/Fire_ImageDataSet//OutputFiles\n"
          ]
        }
      ],
      "source": [
        "print(ModelSave)\n",
        "print(OutputFiles)"
      ]
    },
    {
      "cell_type": "code",
      "execution_count": 6,
      "metadata": {
        "id": "gHst-NqKW3tU"
      },
      "outputs": [],
      "source": [
        "trainFrames  = pd.read_csv(OutputFiles+\"/trainFrames.csv\")"
      ]
    },
    {
      "cell_type": "code",
      "execution_count": 7,
      "metadata": {
        "colab": {
          "base_uri": "https://localhost:8080/",
          "height": 206
        },
        "id": "rdvsB3ellQ2i",
        "outputId": "12a96139-50fc-45ac-a2a5-7d98177ff67b"
      },
      "outputs": [
        {
          "output_type": "execute_result",
          "data": {
            "text/html": [
              "\n",
              "  <div id=\"df-68b78b17-c06c-4832-9896-daec5d5a9747\">\n",
              "    <div class=\"colab-df-container\">\n",
              "      <div>\n",
              "<style scoped>\n",
              "    .dataframe tbody tr th:only-of-type {\n",
              "        vertical-align: middle;\n",
              "    }\n",
              "\n",
              "    .dataframe tbody tr th {\n",
              "        vertical-align: top;\n",
              "    }\n",
              "\n",
              "    .dataframe thead th {\n",
              "        text-align: right;\n",
              "    }\n",
              "</style>\n",
              "<table border=\"1\" class=\"dataframe\">\n",
              "  <thead>\n",
              "    <tr style=\"text-align: right;\">\n",
              "      <th></th>\n",
              "      <th>FrameFilename</th>\n",
              "      <th>FullPathName</th>\n",
              "      <th>class</th>\n",
              "    </tr>\n",
              "  </thead>\n",
              "  <tbody>\n",
              "    <tr>\n",
              "      <th>0</th>\n",
              "      <td>image_898.jpg</td>\n",
              "      <td>/content/gdrive/MyDrive/Colab_Notebooks/Fire_I...</td>\n",
              "      <td>Fire</td>\n",
              "    </tr>\n",
              "    <tr>\n",
              "      <th>1</th>\n",
              "      <td>image_96.jpg</td>\n",
              "      <td>/content/gdrive/MyDrive/Colab_Notebooks/Fire_I...</td>\n",
              "      <td>Fire</td>\n",
              "    </tr>\n",
              "    <tr>\n",
              "      <th>2</th>\n",
              "      <td>image_894.jpg</td>\n",
              "      <td>/content/gdrive/MyDrive/Colab_Notebooks/Fire_I...</td>\n",
              "      <td>Fire</td>\n",
              "    </tr>\n",
              "    <tr>\n",
              "      <th>3</th>\n",
              "      <td>image_895.jpg</td>\n",
              "      <td>/content/gdrive/MyDrive/Colab_Notebooks/Fire_I...</td>\n",
              "      <td>Fire</td>\n",
              "    </tr>\n",
              "    <tr>\n",
              "      <th>4</th>\n",
              "      <td>image_876.jpg</td>\n",
              "      <td>/content/gdrive/MyDrive/Colab_Notebooks/Fire_I...</td>\n",
              "      <td>Fire</td>\n",
              "    </tr>\n",
              "  </tbody>\n",
              "</table>\n",
              "</div>\n",
              "      <button class=\"colab-df-convert\" onclick=\"convertToInteractive('df-68b78b17-c06c-4832-9896-daec5d5a9747')\"\n",
              "              title=\"Convert this dataframe to an interactive table.\"\n",
              "              style=\"display:none;\">\n",
              "        \n",
              "  <svg xmlns=\"http://www.w3.org/2000/svg\" height=\"24px\"viewBox=\"0 0 24 24\"\n",
              "       width=\"24px\">\n",
              "    <path d=\"M0 0h24v24H0V0z\" fill=\"none\"/>\n",
              "    <path d=\"M18.56 5.44l.94 2.06.94-2.06 2.06-.94-2.06-.94-.94-2.06-.94 2.06-2.06.94zm-11 1L8.5 8.5l.94-2.06 2.06-.94-2.06-.94L8.5 2.5l-.94 2.06-2.06.94zm10 10l.94 2.06.94-2.06 2.06-.94-2.06-.94-.94-2.06-.94 2.06-2.06.94z\"/><path d=\"M17.41 7.96l-1.37-1.37c-.4-.4-.92-.59-1.43-.59-.52 0-1.04.2-1.43.59L10.3 9.45l-7.72 7.72c-.78.78-.78 2.05 0 2.83L4 21.41c.39.39.9.59 1.41.59.51 0 1.02-.2 1.41-.59l7.78-7.78 2.81-2.81c.8-.78.8-2.07 0-2.86zM5.41 20L4 18.59l7.72-7.72 1.47 1.35L5.41 20z\"/>\n",
              "  </svg>\n",
              "      </button>\n",
              "      \n",
              "  <style>\n",
              "    .colab-df-container {\n",
              "      display:flex;\n",
              "      flex-wrap:wrap;\n",
              "      gap: 12px;\n",
              "    }\n",
              "\n",
              "    .colab-df-convert {\n",
              "      background-color: #E8F0FE;\n",
              "      border: none;\n",
              "      border-radius: 50%;\n",
              "      cursor: pointer;\n",
              "      display: none;\n",
              "      fill: #1967D2;\n",
              "      height: 32px;\n",
              "      padding: 0 0 0 0;\n",
              "      width: 32px;\n",
              "    }\n",
              "\n",
              "    .colab-df-convert:hover {\n",
              "      background-color: #E2EBFA;\n",
              "      box-shadow: 0px 1px 2px rgba(60, 64, 67, 0.3), 0px 1px 3px 1px rgba(60, 64, 67, 0.15);\n",
              "      fill: #174EA6;\n",
              "    }\n",
              "\n",
              "    [theme=dark] .colab-df-convert {\n",
              "      background-color: #3B4455;\n",
              "      fill: #D2E3FC;\n",
              "    }\n",
              "\n",
              "    [theme=dark] .colab-df-convert:hover {\n",
              "      background-color: #434B5C;\n",
              "      box-shadow: 0px 1px 3px 1px rgba(0, 0, 0, 0.15);\n",
              "      filter: drop-shadow(0px 1px 2px rgba(0, 0, 0, 0.3));\n",
              "      fill: #FFFFFF;\n",
              "    }\n",
              "  </style>\n",
              "\n",
              "      <script>\n",
              "        const buttonEl =\n",
              "          document.querySelector('#df-68b78b17-c06c-4832-9896-daec5d5a9747 button.colab-df-convert');\n",
              "        buttonEl.style.display =\n",
              "          google.colab.kernel.accessAllowed ? 'block' : 'none';\n",
              "\n",
              "        async function convertToInteractive(key) {\n",
              "          const element = document.querySelector('#df-68b78b17-c06c-4832-9896-daec5d5a9747');\n",
              "          const dataTable =\n",
              "            await google.colab.kernel.invokeFunction('convertToInteractive',\n",
              "                                                     [key], {});\n",
              "          if (!dataTable) return;\n",
              "\n",
              "          const docLinkHtml = 'Like what you see? Visit the ' +\n",
              "            '<a target=\"_blank\" href=https://colab.research.google.com/notebooks/data_table.ipynb>data table notebook</a>'\n",
              "            + ' to learn more about interactive tables.';\n",
              "          element.innerHTML = '';\n",
              "          dataTable['output_type'] = 'display_data';\n",
              "          await google.colab.output.renderOutput(dataTable, element);\n",
              "          const docLink = document.createElement('div');\n",
              "          docLink.innerHTML = docLinkHtml;\n",
              "          element.appendChild(docLink);\n",
              "        }\n",
              "      </script>\n",
              "    </div>\n",
              "  </div>\n",
              "  "
            ],
            "text/plain": [
              "   FrameFilename                                       FullPathName class\n",
              "0  image_898.jpg  /content/gdrive/MyDrive/Colab_Notebooks/Fire_I...  Fire\n",
              "1   image_96.jpg  /content/gdrive/MyDrive/Colab_Notebooks/Fire_I...  Fire\n",
              "2  image_894.jpg  /content/gdrive/MyDrive/Colab_Notebooks/Fire_I...  Fire\n",
              "3  image_895.jpg  /content/gdrive/MyDrive/Colab_Notebooks/Fire_I...  Fire\n",
              "4  image_876.jpg  /content/gdrive/MyDrive/Colab_Notebooks/Fire_I...  Fire"
            ]
          },
          "metadata": {},
          "execution_count": 7
        }
      ],
      "source": [
        "trainFrames.head()"
      ]
    },
    {
      "cell_type": "code",
      "execution_count": 8,
      "metadata": {
        "colab": {
          "base_uri": "https://localhost:8080/"
        },
        "id": "6f9RTpuOlVFj",
        "outputId": "4fa948cb-86a1-4bf6-c03f-a6067b815906"
      },
      "outputs": [
        {
          "output_type": "execute_result",
          "data": {
            "text/plain": [
              "(1809, 3)"
            ]
          },
          "metadata": {},
          "execution_count": 8
        }
      ],
      "source": [
        "trainFrames.shape"
      ]
    },
    {
      "cell_type": "code",
      "execution_count": 9,
      "metadata": {
        "colab": {
          "base_uri": "https://localhost:8080/"
        },
        "id": "mYyCjHhUlY6P",
        "outputId": "14942f2b-284b-4a15-fd79-6880d0529f42"
      },
      "outputs": [
        {
          "output_type": "execute_result",
          "data": {
            "text/plain": [
              "Neutral    909\n",
              "Fire       900\n",
              "Name: class, dtype: int64"
            ]
          },
          "metadata": {},
          "execution_count": 9
        }
      ],
      "source": [
        "#Count Unique Values of occupation\n",
        "trainFrames['class'].value_counts()"
      ]
    },
    {
      "cell_type": "code",
      "execution_count": 10,
      "metadata": {
        "id": "umGdPUJAlc_e"
      },
      "outputs": [],
      "source": [
        "#Check the distribution of a Column in terms of %\n",
        "def Column_Distribution(df, column):\n",
        "   \n",
        "    label_distrb = 100*df.groupby(column).agg({column: \"count\"})/len(df)\n",
        "    label_distrb.columns = ['Distribution %'] \n",
        "    return label_distrb"
      ]
    },
    {
      "cell_type": "code",
      "execution_count": 11,
      "metadata": {
        "colab": {
          "base_uri": "https://localhost:8080/",
          "height": 354
        },
        "id": "1l--bht4lehU",
        "outputId": "f0cfc516-70dc-4c12-910b-ca2639531531"
      },
      "outputs": [
        {
          "output_type": "stream",
          "name": "stdout",
          "text": [
            "         Distribution %\n",
            "class                  \n",
            "Fire          49.751244\n",
            "Neutral       50.248756\n"
          ]
        },
        {
          "output_type": "display_data",
          "data": {
            "image/png": "[encoded data removed]",
            "text/plain": [
              "<Figure size 432x288 with 1 Axes>"
            ]
          },
          "metadata": {}
        }
      ],
      "source": [
        "#Find % of class\n",
        "#Calling Column_Distribution function to check the % of Label distribution\n",
        "class_distrb =Column_Distribution(trainFrames,'class')\n",
        "print(class_distrb)\n",
        "\n",
        "\n",
        "sns.set()\n",
        "\n",
        "sns.countplot(x =\"class\", data=trainFrames, palette=['r','b']);"
      ]
    },
    {
      "cell_type": "code",
      "execution_count": 12,
      "metadata": {
        "colab": {
          "base_uri": "https://localhost:8080/"
        },
        "id": "teFFZAb-li1q",
        "outputId": "fcc157b0-202a-4afd-8960-71600940d867"
      },
      "outputs": [
        {
          "output_type": "stream",
          "name": "stdout",
          "text": [
            "['Fire', 'Neutral']\n",
            "2\n"
          ]
        }
      ],
      "source": [
        "# Get the unique values of 'class' column - How many distinct classes\n",
        "model_class = trainFrames['class'].unique().tolist()\n",
        "print(model_class)\n",
        "model_output_size = len(model_class)\n",
        "print(model_output_size)"
      ]
    },
    {
      "cell_type": "code",
      "execution_count": 13,
      "metadata": {
        "colab": {
          "base_uri": "https://localhost:8080/"
        },
        "id": "G3Tqd5tiouSo",
        "outputId": "f333ce6f-ac6a-4eee-8903-8c92719a42c1"
      },
      "outputs": [
        {
          "output_type": "execute_result",
          "data": {
            "text/plain": [
              "1809"
            ]
          },
          "metadata": {},
          "execution_count": 13
        }
      ],
      "source": [
        "trainFrames.shape[0]"
      ]
    },
    {
      "cell_type": "code",
      "execution_count": 14,
      "metadata": {
        "colab": {
          "base_uri": "https://localhost:8080/",
          "height": 35
        },
        "id": "1JY7GhVYovdm",
        "outputId": "8598adf4-cc8f-47b0-a650-820d0c93d3d0"
      },
      "outputs": [
        {
          "output_type": "execute_result",
          "data": {
            "application/vnd.google.colaboratory.intrinsic+json": {
              "type": "string"
            },
            "text/plain": [
              "'/content/gdrive/MyDrive/Colab_Notebooks/Fire_ImageDataSet/Fire/image_898.jpg'"
            ]
          },
          "metadata": {},
          "execution_count": 14
        }
      ],
      "source": [
        "trainFrames['FullPathName'][0]"
      ]
    },
    {
      "cell_type": "code",
      "execution_count": 15,
      "metadata": {
        "id": "OWDX8OTZoxoD"
      },
      "outputs": [],
      "source": [
        "from glob import glob\n",
        "from scipy import stats as s"
      ]
    },
    {
      "cell_type": "code",
      "execution_count": 16,
      "metadata": {
        "colab": {
          "base_uri": "https://localhost:8080/"
        },
        "id": "VyQ167DbpTEm",
        "outputId": "a82a13e7-e073-4b36-b7ac-2c2c007f65a3"
      },
      "outputs": [
        {
          "output_type": "stream",
          "name": "stderr",
          "text": [
            "100%|██████████| 1809/1809 [15:13<00:00,  1.98it/s]\n"
          ]
        },
        {
          "output_type": "execute_result",
          "data": {
            "text/plain": [
              "(1809, 224, 224, 3)"
            ]
          },
          "metadata": {},
          "execution_count": 16
        }
      ],
      "source": [
        "train_image = []\n",
        "\n",
        "# for loop to read and store frames\n",
        "for i in tqdm(range(trainFrames.shape[0])):\n",
        "    # loading the image and keeping the target size as (224,224,3)\n",
        "    # three-dimensional array containing the red, green, and blue pixel intensities. \n",
        "    #Image has been reformated to be 224-by-224 pixels in size.\n",
        "    img = image.load_img(trainFrames['FullPathName'][i], target_size=(224,224,3))\n",
        "    #print(img.shape)\n",
        "    # converting it to array\n",
        "    img = image.img_to_array(img)\n",
        "    \n",
        "    # Normalize the resized frame by dividing it with 255 so that each pixel value then lies between 0 and 1\n",
        "    img = img/255\n",
        "    # appending the image to the train_image list\n",
        "    train_image.append(img)\n",
        "    \n",
        "# converting the list to numpy array\n",
        "X = np.array(train_image)\n",
        "\n",
        "# shape of the array\n",
        "X.shape"
      ]
    },
    {
      "cell_type": "code",
      "execution_count": 17,
      "metadata": {
        "id": "4xUY3pS6rB31"
      },
      "outputs": [],
      "source": [
        "# make sure that the distribution of each class is similar in both training and validation sets. \n",
        "# We can use the stratify parameter to ensure that the distribution of data is same as the strata of the data\n",
        "\n",
        "# separating the targetcate\n",
        "y = trainFrames['class']\n",
        "\n",
        "# creating the training and validation set\n",
        "X_train, X_test, y_train, y_test = train_test_split(X, y, random_state=42, test_size=0.2, stratify = y)"
      ]
    },
    {
      "cell_type": "code",
      "execution_count": 18,
      "metadata": {
        "colab": {
          "base_uri": "https://localhost:8080/"
        },
        "id": "daM1NDgCrO2X",
        "outputId": "334ef226-1a6e-4332-a7b6-ebfc35f5e76e"
      },
      "outputs": [
        {
          "output_type": "stream",
          "name": "stdout",
          "text": [
            "(1447, 224, 224, 3)\n",
            "(362, 224, 224, 3)\n"
          ]
        }
      ],
      "source": [
        "print(X_train.shape)\n",
        "print(X_test.shape)"
      ]
    },
    {
      "cell_type": "code",
      "execution_count": 19,
      "metadata": {
        "id": "Dobv4KcxrQTO"
      },
      "outputs": [],
      "source": [
        "# creating dummies of target variable for train and validation set\n",
        "y_train = pd.get_dummies(y_train)\n",
        "y_test = pd.get_dummies(y_test)"
      ]
    },
    {
      "cell_type": "code",
      "execution_count": 20,
      "metadata": {
        "colab": {
          "base_uri": "https://localhost:8080/",
          "height": 557
        },
        "id": "dqvfHiQLrV-C",
        "outputId": "04a3b5c4-1871-4aad-fa32-abbe4d0e6c89"
      },
      "outputs": [
        {
          "output_type": "execute_result",
          "data": {
            "image/png": "[encoded data removed]",
            "text/plain": [
              "<IPython.core.display.Image object>"
            ]
          },
          "metadata": {},
          "execution_count": 20
        }
      ],
      "source": [
        "from IPython import display\n",
        "display.Image(\"/content/gdrive/MyDrive/VGG-16-network-architecture.png\")"
      ]
    },
    {
      "cell_type": "markdown",
      "metadata": {
        "id": "gBT1B7wCsVGJ"
      },
      "source": [
        "**Keras provides a set of state-of-the-art deep learning models along with pre-trained weights on ImageNet. These pre-trained models can be used for image classification, feature extraction, and transfer learning, VGG16 refers to a VGG model with 16 weight layers, and VGG19 refers to a VGG model with 19 weight layers.**\n",
        "<br><br>\n",
        "1. The input layer takes an image in the size of (224 x 224 x 3), and the output layer is a softmax prediction on classes.\n",
        "\n",
        "2. From the input layer to the last max pooling layer (labeled by 7 x 7 x 512) is regarded as the feature extraction part of the model,\n",
        "\n",
        "3. Rest of the network is regarded as the classification part of the model. \n",
        "\n",
        "\n",
        "# VGG-16 pre-trained model will be used\n",
        "https://machinelearningmastery.com/use-pre-trained-vgg-model-classify-objects-photographs/"
      ]
    },
    {
      "cell_type": "markdown",
      "metadata": {
        "id": "wIFEC445tGF_"
      },
      "source": [
        "**creating the base model of pre-trained VGG16 model\n",
        "When loading a given model, If we set “include_top” = False, that means the fully-connected output layers of the model used to make predictions is not loaded, allowing a new output layer to be added and trained.**"
      ]
    },
    {
      "cell_type": "code",
      "execution_count": 21,
      "metadata": {
        "colab": {
          "base_uri": "https://localhost:8080/"
        },
        "id": "7xppN3bfrT9v",
        "outputId": "b6859d3b-af2b-4b3a-d2f1-b6dcd91e64da"
      },
      "outputs": [
        {
          "output_type": "stream",
          "name": "stdout",
          "text": [
            "Downloading data from https://storage.googleapis.com/tensorflow/keras-applications/vgg16/vgg16_weights_tf_dim_ordering_tf_kernels_notop.h5\n",
            "58892288/58889256 [==============================] - 0s 0us/step\n",
            "58900480/58889256 [==============================] - 0s 0us/step\n"
          ]
        }
      ],
      "source": [
        "\n",
        "# creating the base model of pre-trained VGG16 model\n",
        "base_model = VGG16(weights='imagenet', include_top=False)\n",
        "\n",
        "### set include_top = False it overlooks the last 3 Fully Connected(FC) layers "
      ]
    },
    {
      "cell_type": "code",
      "execution_count": 22,
      "metadata": {
        "colab": {
          "base_uri": "https://localhost:8080/"
        },
        "id": "09qDFpdxtWr1",
        "outputId": "375788e6-9877-47ef-c7f8-8c9224670336"
      },
      "outputs": [
        {
          "output_type": "stream",
          "name": "stdout",
          "text": [
            "CPU times: user 20.1 s, sys: 1.29 s, total: 21.4 s\n",
            "Wall time: 42 s\n"
          ]
        }
      ],
      "source": [
        "%%time\n",
        "# extracting features for training frames\n",
        "X_train = base_model.predict(X_train)\n",
        "X_train.shape"
      ]
    },
    {
      "cell_type": "code",
      "source": [
        "%%time\n",
        "# extracting features for validation frames\n",
        "X_test = base_model.predict(X_test)\n",
        "X_test.shape"
      ],
      "metadata": {
        "colab": {
          "base_uri": "https://localhost:8080/"
        },
        "id": "HCyzAPJjKwJz",
        "outputId": "2d1e28dd-1a6c-4175-9c3e-74c3110fe73f"
      },
      "execution_count": 23,
      "outputs": [
        {
          "output_type": "stream",
          "name": "stdout",
          "text": [
            "CPU times: user 3.9 s, sys: 24 ms, total: 3.93 s\n",
            "Wall time: 10.5 s\n"
          ]
        }
      ]
    },
    {
      "cell_type": "code",
      "source": [
        "print(X_train.shape[0])\n",
        "print(X_test.shape[0])\n",
        "      "
      ],
      "metadata": {
        "colab": {
          "base_uri": "https://localhost:8080/"
        },
        "id": "9LKmbOtjKz1t",
        "outputId": "5a58dad4-750b-4691-96c6-529c65f87a24"
      },
      "execution_count": 24,
      "outputs": [
        {
          "output_type": "stream",
          "name": "stdout",
          "text": [
            "1447\n",
            "362\n"
          ]
        }
      ]
    },
    {
      "cell_type": "markdown",
      "source": [
        "*There are 362 images in the test set and the shape of these images has also changed to (7, 7, 512). We will use a fully connected network now to fine-tune the model. This fully connected network takes input in single dimension. So, we will reshape the images into a single dimension:\n",
        "\n",
        "# Whole network (for classification) can be divided into two parts:\n",
        "\n",
        "Feature extraction: In the conventional classification algorithms, like SVMs, we used to extract features from the data to make the classification work. The convolutional layers are serving the same purpose of feature extraction. CNNs capture better representation of data and hence we don’t need to do feature engineering.\n",
        "\n",
        "Classification: After feature extraction we need to classify the data into various classes, this can be done using a fully connected (FC) neural network. In place of fully connected layers, we can also use a conventional classifier like SVM. But we generally end up adding FC layers to make the model end-to-end trainable.\n",
        "\n",
        "Fully-connected layer is also a linear classifier such as logistic regression\n",
        "\n",
        "Convolution and pooling layers extract features from image. So this layer doing some \"preprocessing\" of data. Fully connected layrs perform classification based on this extracted features.*"
      ],
      "metadata": {
        "id": "LUHusnfdK4-f"
      }
    },
    {
      "cell_type": "code",
      "source": [
        "X_train = X_train.reshape(X_train.shape[0], 7*7*512)\n",
        "X_test = X_test.reshape(X_test.shape[0], 7*7*512)"
      ],
      "metadata": {
        "id": "AWqZCCm0K1z1"
      },
      "execution_count": 25,
      "outputs": []
    },
    {
      "cell_type": "code",
      "source": [
        "# normalize the pixel values, i.e., keep the pixel values between 0 and 1. This helps the model to converge faster.\n",
        "X_train.max()"
      ],
      "metadata": {
        "colab": {
          "base_uri": "https://localhost:8080/"
        },
        "id": "iepwfM0hLHMp",
        "outputId": "91304f4a-7e91-48c5-ab9c-78cf0249018f"
      },
      "execution_count": 26,
      "outputs": [
        {
          "output_type": "execute_result",
          "data": {
            "text/plain": [
              "11.0583515"
            ]
          },
          "metadata": {},
          "execution_count": 26
        }
      ]
    },
    {
      "cell_type": "code",
      "source": [
        "max = X_train.max()\n",
        "X_train = X_train/max\n",
        "X_test = X_test/max"
      ],
      "metadata": {
        "id": "5p43YpZTLWZz"
      },
      "execution_count": 27,
      "outputs": []
    },
    {
      "cell_type": "code",
      "source": [
        "# shape of images\n",
        "X_train.shape"
      ],
      "metadata": {
        "colab": {
          "base_uri": "https://localhost:8080/"
        },
        "id": "s-AKpeRALYR-",
        "outputId": "f903aff9-bda8-4479-c656-b5552801819d"
      },
      "execution_count": 28,
      "outputs": [
        {
          "output_type": "execute_result",
          "data": {
            "text/plain": [
              "(1447, 25088)"
            ]
          },
          "metadata": {},
          "execution_count": 28
        }
      ]
    },
    {
      "cell_type": "markdown",
      "source": [
        "# Keras Neural Network Sequential Model\n",
        "More Info - https://faroit.com/keras-docs/1.0.1/getting-started/sequential-model-guide/"
      ],
      "metadata": {
        "id": "lF_N5E3XLbJ7"
      }
    },
    {
      "cell_type": "code",
      "source": [
        "from IPython import display\n",
        "display.Image(\"/content/gdrive/MyDrive/VGG16_Layers.jpg\")"
      ],
      "metadata": {
        "colab": {
          "base_uri": "https://localhost:8080/",
          "height": 242
        },
        "id": "SmLpZMT9Lf3G",
        "outputId": "3f6b9aae-3b11-47b2-ea7a-a387b4341104"
      },
      "execution_count": 29,
      "outputs": [
        {
          "output_type": "execute_result",
          "data": {
            "image/jpeg": "[encoded data removed]",
            "text/plain": [
              "<IPython.core.display.Image object>"
            ]
          },
          "metadata": {},
          "execution_count": 29
        }
      ]
    },
    {
      "cell_type": "markdown",
      "source": [
        "**The 16 in VGG16 refers to 16 layers that have weights. In VGG16 there are thirteen convolutional layers, five Max Pooling layers, and three Dense layers which sum up to 21 layers but it has only sixteen weight layers i.e., learnable parameters layer.**"
      ],
      "metadata": {
        "id": "jq6bBgqSOpID"
      }
    },
    {
      "cell_type": "code",
      "source": [
        "#defining the model architecture\n",
        "model = Sequential()\n",
        "model.add(Dense(1024, activation='relu', input_shape=(25088,)))\n",
        "model.add(Dropout(0.5))\n",
        "model.add(Dense(512, activation='relu'))\n",
        "model.add(Dropout(0.5))\n",
        "model.add(Dense(256, activation='relu'))\n",
        "model.add(Dropout(0.5))\n",
        "model.add(Dense(128, activation='relu'))\n",
        "model.add(Dropout(0.5))\n",
        "model.add(Dense(model_output_size, activation='softmax'))  # model_output_size is 2 - already defined"
      ],
      "metadata": {
        "id": "mdfpy_GgOjpZ"
      },
      "execution_count": 30,
      "outputs": []
    },
    {
      "cell_type": "markdown",
      "source": [
        "1 x Dense layer of 1024 units\n",
        "\n",
        "1 x Dense layer of 512 units\n",
        "\n",
        "1 x Dense layer of 256 units\n",
        "\n",
        "1 x Dense layer of 128 units\n",
        "\n",
        "RELU activation for first four dense layers of units to stop forwarding negative values through the network.\n",
        "\n",
        "2 unit dense layer in the end with softmax activation as there are 2 classes (model_output_size) to predict from in the end which are Basketball and SoccerPenalty.\n",
        "\n",
        "The softmax layer will output the value between 0 and 1 based on the confidence of the model that which class the images belongs to.\n",
        "Dropout\n",
        "\n",
        "Usually, dropout is placed on the fully connected layers only because they are the one with the greater number of parameters and thus they're likely to excessively co-adapting themselves causing overfitting. However, since it's a stochastic regularization technique, you can really place it everywhere\n",
        "Dropout here has been applied applied to hidden neurons in the body of network model.\n",
        "\n",
        "a dropout rate of 50% is used"
      ],
      "metadata": {
        "id": "YfacrYyeOzFh"
      }
    },
    {
      "cell_type": "code",
      "source": [
        "# Printing the models summary\n",
        "model.summary()"
      ],
      "metadata": {
        "colab": {
          "base_uri": "https://localhost:8080/"
        },
        "id": "N7PEoUeeO9Se",
        "outputId": "c2742b8b-e894-4571-e85f-787d24527901"
      },
      "execution_count": 31,
      "outputs": [
        {
          "output_type": "stream",
          "name": "stdout",
          "text": [
            "Model: \"sequential\"\n",
            "_________________________________________________________________\n",
            " Layer (type)                Output Shape              Param #   \n",
            "=================================================================\n",
            " dense (Dense)               (None, 1024)              25691136  \n",
            "                                                                 \n",
            " dropout (Dropout)           (None, 1024)              0         \n",
            "                                                                 \n",
            " dense_1 (Dense)             (None, 512)               524800    \n",
            "                                                                 \n",
            " dropout_1 (Dropout)         (None, 512)               0         \n",
            "                                                                 \n",
            " dense_2 (Dense)             (None, 256)               131328    \n",
            "                                                                 \n",
            " dropout_2 (Dropout)         (None, 256)               0         \n",
            "                                                                 \n",
            " dense_3 (Dense)             (None, 128)               32896     \n",
            "                                                                 \n",
            " dropout_3 (Dropout)         (None, 128)               0         \n",
            "                                                                 \n",
            " dense_4 (Dense)             (None, 2)                 258       \n",
            "                                                                 \n",
            "=================================================================\n",
            "Total params: 26,380,418\n",
            "Trainable params: 26,380,418\n",
            "Non-trainable params: 0\n",
            "_________________________________________________________________\n"
          ]
        }
      ]
    },
    {
      "cell_type": "markdown",
      "source": [
        "**ModelCheckpoint callback** is used in conjunction with training using model.fit() to save a model or weights (in a checkpoint file) at some interval, so the model or weights can be loaded later to continue the training from the state saved.\n",
        "\n",
        "**save_best_only**: if save_best_only=True, it only saves when the model is considered the \"best\" and the latest best model according to the quantity monitored will not be overwritten\n",
        "The metric name to monitormode: one of {'auto', 'min', 'max'}. If **save_best_only=True**, the decision to overwrite the current save file is made based on either the maximization or the minimization of the monitored quantity. For val_acc, this should be max, for val_loss this should be min\n",
        "mode: one of {'auto', 'min', 'max'}. If save_best_only=True, -- **the decision to overwrite the current save file is made based on either the maximization or the minimization of the monitored quantity**. For val_acc, this should be max, for val_loss this should be min"
      ],
      "metadata": {
        "id": "KibftNPnPF-m"
      }
    },
    {
      "cell_type": "code",
      "source": [
        "###Training the classification model\n",
        "\n",
        "# defining a function to save the weights of best model\n",
        "### from keras.callbacks import EarlyStopping\n",
        "from keras.callbacks import ModelCheckpoint\n",
        "\n",
        "mcp_save = ModelCheckpoint('weight.hdf5', save_best_only=True, monitor='val_loss', mode='min')"
      ],
      "metadata": {
        "id": "sf3E3R9rQCxY"
      },
      "execution_count": 33,
      "outputs": []
    },
    {
      "cell_type": "markdown",
      "source": [
        "#### using Adam optimiser "
      ],
      "metadata": {
        "id": "1EPhU3fVQKG9"
      }
    },
    {
      "cell_type": "code",
      "source": [
        "# compiling the model - Adding loss, optimizer and metrics values to the model.\n",
        "model.compile(loss='categorical_crossentropy',optimizer='Adam',metrics=['accuracy'])"
      ],
      "metadata": {
        "id": "GapjOxgvPDmc"
      },
      "execution_count": 34,
      "outputs": []
    },
    {
      "cell_type": "code",
      "source": [
        "%%time\n",
        "# training the model\n",
        "#model_training_history = model.fit( X_train, y_train, epochs=10, validation_data=(X_test, y_test), callbacks=[mcp_save], batch_size=128)\n",
        "\n",
        "# Adding Early Stopping Callback\n",
        "#early_stopping_callback = EarlyStopping(monitor = 'val_loss', patience = 15, mode = 'min', restore_best_weights = True)\n",
        "\n",
        "model_training_history = model.fit(x = X_train, y = y_train, epochs = 30, batch_size = 4 , shuffle = True, validation_split = 0.2, callbacks=[mcp_save])"
      ],
      "metadata": {
        "colab": {
          "base_uri": "https://localhost:8080/"
        },
        "id": "pUgiKYtEQR2a",
        "outputId": "857c071e-d6a8-4759-fa42-c1588fef8246"
      },
      "execution_count": 35,
      "outputs": [
        {
          "output_type": "stream",
          "name": "stdout",
          "text": [
            "Epoch 1/30\n",
            "290/290 [==============================] - 7s 17ms/step - loss: 0.7321 - accuracy: 0.6681 - val_loss: 0.3273 - val_accuracy: 0.8690\n",
            "Epoch 2/30\n",
            "290/290 [==============================] - 5s 18ms/step - loss: 0.2963 - accuracy: 0.8894 - val_loss: 0.1413 - val_accuracy: 0.9310\n",
            "Epoch 3/30\n",
            "290/290 [==============================] - 4s 13ms/step - loss: 0.1675 - accuracy: 0.9360 - val_loss: 0.1622 - val_accuracy: 0.9276\n",
            "Epoch 4/30\n",
            "290/290 [==============================] - 4s 13ms/step - loss: 0.1648 - accuracy: 0.9516 - val_loss: 0.1469 - val_accuracy: 0.9414\n",
            "Epoch 5/30\n",
            "290/290 [==============================] - 5s 16ms/step - loss: 0.1539 - accuracy: 0.9525 - val_loss: 0.1102 - val_accuracy: 0.9586\n",
            "Epoch 6/30\n",
            "290/290 [==============================] - 4s 13ms/step - loss: 0.0964 - accuracy: 0.9680 - val_loss: 0.1127 - val_accuracy: 0.9586\n",
            "Epoch 7/30\n",
            "290/290 [==============================] - 4s 13ms/step - loss: 0.0881 - accuracy: 0.9741 - val_loss: 0.1373 - val_accuracy: 0.9586\n",
            "Epoch 8/30\n",
            "290/290 [==============================] - 4s 13ms/step - loss: 0.0763 - accuracy: 0.9680 - val_loss: 0.1307 - val_accuracy: 0.9586\n",
            "Epoch 9/30\n",
            "290/290 [==============================] - 4s 13ms/step - loss: 0.0702 - accuracy: 0.9741 - val_loss: 0.1893 - val_accuracy: 0.9586\n",
            "Epoch 10/30\n",
            "290/290 [==============================] - 4s 13ms/step - loss: 0.0583 - accuracy: 0.9844 - val_loss: 0.2976 - val_accuracy: 0.9069\n",
            "Epoch 11/30\n",
            "290/290 [==============================] - 4s 13ms/step - loss: 0.0822 - accuracy: 0.9818 - val_loss: 0.1291 - val_accuracy: 0.9621\n",
            "Epoch 12/30\n",
            "290/290 [==============================] - 5s 17ms/step - loss: 0.0806 - accuracy: 0.9706 - val_loss: 0.1052 - val_accuracy: 0.9621\n",
            "Epoch 13/30\n",
            "290/290 [==============================] - 4s 13ms/step - loss: 0.0485 - accuracy: 0.9853 - val_loss: 0.1629 - val_accuracy: 0.9586\n",
            "Epoch 14/30\n",
            "290/290 [==============================] - 4s 13ms/step - loss: 0.0426 - accuracy: 0.9844 - val_loss: 0.1201 - val_accuracy: 0.9586\n",
            "Epoch 15/30\n",
            "290/290 [==============================] - 4s 13ms/step - loss: 0.0461 - accuracy: 0.9862 - val_loss: 0.1334 - val_accuracy: 0.9724\n",
            "Epoch 16/30\n",
            "290/290 [==============================] - 4s 13ms/step - loss: 0.0495 - accuracy: 0.9870 - val_loss: 0.1853 - val_accuracy: 0.9655\n",
            "Epoch 17/30\n",
            "290/290 [==============================] - 4s 14ms/step - loss: 0.1000 - accuracy: 0.9758 - val_loss: 0.2158 - val_accuracy: 0.9552\n",
            "Epoch 18/30\n",
            "290/290 [==============================] - 5s 17ms/step - loss: 0.0330 - accuracy: 0.9905 - val_loss: 0.1819 - val_accuracy: 0.9621\n",
            "Epoch 19/30\n",
            "290/290 [==============================] - 5s 19ms/step - loss: 0.0671 - accuracy: 0.9862 - val_loss: 0.1810 - val_accuracy: 0.9655\n",
            "Epoch 20/30\n",
            "290/290 [==============================] - 4s 14ms/step - loss: 0.0273 - accuracy: 0.9914 - val_loss: 0.6279 - val_accuracy: 0.9138\n",
            "Epoch 21/30\n",
            "290/290 [==============================] - 4s 13ms/step - loss: 0.0591 - accuracy: 0.9853 - val_loss: 0.2548 - val_accuracy: 0.9724\n",
            "Epoch 22/30\n",
            "290/290 [==============================] - 4s 13ms/step - loss: 0.0450 - accuracy: 0.9853 - val_loss: 0.1172 - val_accuracy: 0.9655\n",
            "Epoch 23/30\n",
            "290/290 [==============================] - 4s 13ms/step - loss: 0.0206 - accuracy: 0.9922 - val_loss: 0.1942 - val_accuracy: 0.9655\n",
            "Epoch 24/30\n",
            "290/290 [==============================] - 4s 13ms/step - loss: 0.0403 - accuracy: 0.9888 - val_loss: 0.1922 - val_accuracy: 0.9552\n",
            "Epoch 25/30\n",
            "290/290 [==============================] - 4s 14ms/step - loss: 0.0235 - accuracy: 0.9922 - val_loss: 0.4678 - val_accuracy: 0.9379\n",
            "Epoch 26/30\n",
            "290/290 [==============================] - 5s 16ms/step - loss: 0.0444 - accuracy: 0.9853 - val_loss: 0.1461 - val_accuracy: 0.9552\n",
            "Epoch 27/30\n",
            "290/290 [==============================] - 4s 13ms/step - loss: 0.0067 - accuracy: 0.9983 - val_loss: 0.3100 - val_accuracy: 0.9690\n",
            "Epoch 28/30\n",
            "290/290 [==============================] - 4s 13ms/step - loss: 0.0254 - accuracy: 0.9957 - val_loss: 0.1851 - val_accuracy: 0.9724\n",
            "Epoch 29/30\n",
            "290/290 [==============================] - 4s 13ms/step - loss: 0.0712 - accuracy: 0.9827 - val_loss: 0.1936 - val_accuracy: 0.9690\n",
            "Epoch 30/30\n",
            "290/290 [==============================] - 4s 13ms/step - loss: 0.0642 - accuracy: 0.9818 - val_loss: 0.3097 - val_accuracy: 0.9517\n",
            "CPU times: user 1min 53s, sys: 9.67 s, total: 2min 3s\n",
            "Wall time: 2min 5s\n"
          ]
        }
      ]
    },
    {
      "cell_type": "markdown",
      "source": [
        "### Evaluate trained model on the feature’s and label’s test sets."
      ],
      "metadata": {
        "id": "YPgb2qnIQkkU"
      }
    },
    {
      "cell_type": "code",
      "source": [
        "model_evaluation_history = model.evaluate(X_test, y_test)"
      ],
      "metadata": {
        "colab": {
          "base_uri": "https://localhost:8080/"
        },
        "id": "rbQmBh25Qj_g",
        "outputId": "1e2c80fd-c599-4226-b520-bc1e9143bfd2"
      },
      "execution_count": 36,
      "outputs": [
        {
          "output_type": "stream",
          "name": "stdout",
          "text": [
            "12/12 [==============================] - 0s 7ms/step - loss: 0.2495 - accuracy: 0.9503\n"
          ]
        }
      ]
    },
    {
      "cell_type": "code",
      "source": [
        "preds=np.round(model.predict(X_test,0))"
      ],
      "metadata": {
        "id": "mSEYPuOKQ1-s"
      },
      "execution_count": 37,
      "outputs": []
    },
    {
      "cell_type": "code",
      "source": [
        "from sklearn.metrics import classification_report"
      ],
      "metadata": {
        "id": "vnIjxBhjQ4dT"
      },
      "execution_count": 38,
      "outputs": []
    },
    {
      "cell_type": "code",
      "source": [
        "classification_metrics = classification_report(y_test,preds, target_names = model_class)\n",
        "print(classification_metrics)"
      ],
      "metadata": {
        "colab": {
          "base_uri": "https://localhost:8080/"
        },
        "id": "s-Ng6BgAQ5kE",
        "outputId": "f53112d6-2518-412c-f349-419883adf2dd"
      },
      "execution_count": 39,
      "outputs": [
        {
          "output_type": "stream",
          "name": "stdout",
          "text": [
            "              precision    recall  f1-score   support\n",
            "\n",
            "        Fire       0.94      0.96      0.95       180\n",
            "     Neutral       0.96      0.94      0.95       182\n",
            "\n",
            "   micro avg       0.95      0.95      0.95       362\n",
            "   macro avg       0.95      0.95      0.95       362\n",
            "weighted avg       0.95      0.95      0.95       362\n",
            " samples avg       0.95      0.95      0.95       362\n",
            "\n"
          ]
        }
      ]
    },
    {
      "cell_type": "code",
      "source": [
        "def plot_metric(metric_name_1, metric_name_2, plot_name):\n",
        "  # Get Metric values using metric names as identifiers\n",
        "  metric_value_1 = model_training_history.history[metric_name_1]\n",
        "  metric_value_2 = model_training_history.history[metric_name_2]\n",
        "\n",
        "  # Constructing a range object which will be used as time \n",
        "  epochs = range(len(metric_value_1))\n",
        "  \n",
        "  # Plotting the Graph\n",
        "  plt.plot(epochs, metric_value_1, 'blue', label = metric_name_1)\n",
        "  plt.plot(epochs, metric_value_2, 'red', label = metric_name_2)\n",
        "  \n",
        "  # Adding title to the plot\n",
        "  plt.title(str(plot_name))\n",
        "\n",
        "  # Adding legend to the plot\n",
        "  plt.legend()"
      ],
      "metadata": {
        "id": "9bCSJ27FRF1U"
      },
      "execution_count": 40,
      "outputs": []
    },
    {
      "cell_type": "code",
      "source": [
        "plot_metric('loss', 'val_loss', 'Total Loss vs Total Validation Loss')"
      ],
      "metadata": {
        "colab": {
          "base_uri": "https://localhost:8080/",
          "height": 284
        },
        "id": "LtZH9tRHRKEb",
        "outputId": "058094c6-17e0-4e12-cb03-e2eba20fdf78"
      },
      "execution_count": 41,
      "outputs": [
        {
          "output_type": "display_data",
          "data": {
            "image/png": "[encoded data removed]",
            "text/plain": [
              "<Figure size 432x288 with 1 Axes>"
            ]
          },
          "metadata": {}
        }
      ]
    },
    {
      "cell_type": "code",
      "source": [
        "plot_metric('accuracy', 'val_accuracy', 'Total Accuracy vs Total Validation Accuracy')"
      ],
      "metadata": {
        "colab": {
          "base_uri": "https://localhost:8080/",
          "height": 284
        },
        "id": "IOjll4TQRNzw",
        "outputId": "b88625b9-4681-4bd5-e725-b6a90302d8f5"
      },
      "execution_count": 42,
      "outputs": [
        {
          "output_type": "display_data",
          "data": {
            "image/png": "[encoded data removed]",
            "text/plain": [
              "<Figure size 432x288 with 1 Axes>"
            ]
          },
          "metadata": {}
        }
      ]
    },
    {
      "cell_type": "code",
      "source": [
        "### Save model in a folder \n",
        "ModelSave"
      ],
      "metadata": {
        "colab": {
          "base_uri": "https://localhost:8080/",
          "height": 35
        },
        "id": "v2XsSwWGRSMG",
        "outputId": "3d2743b4-1dfc-41ab-a473-a05f19c71f16"
      },
      "execution_count": 43,
      "outputs": [
        {
          "output_type": "execute_result",
          "data": {
            "application/vnd.google.colaboratory.intrinsic+json": {
              "type": "string"
            },
            "text/plain": [
              "'/content/gdrive/MyDrive/Colab_Notebooks/Fire_ImageDataSet//ModelSave'"
            ]
          },
          "metadata": {},
          "execution_count": 43
        }
      ]
    },
    {
      "cell_type": "code",
      "source": [
        "# Saving Model\n",
        "model_name = 'Step-1_VGG_model.h5'\n",
        "model.save(ModelSave+'/'+model_name)"
      ],
      "metadata": {
        "id": "0ovOb4auRcXj"
      },
      "execution_count": 44,
      "outputs": []
    },
    {
      "cell_type": "markdown",
      "source": [
        "### How to load the model from disk"
      ],
      "metadata": {
        "id": "MLBwm4FIRl6o"
      }
    },
    {
      "cell_type": "code",
      "source": [
        "OutputFiles\n"
      ],
      "metadata": {
        "colab": {
          "base_uri": "https://localhost:8080/",
          "height": 35
        },
        "id": "3fioOOYpRgQ7",
        "outputId": "bee2ef36-b5e8-4832-f03b-3fd50670549a"
      },
      "execution_count": 47,
      "outputs": [
        {
          "output_type": "execute_result",
          "data": {
            "application/vnd.google.colaboratory.intrinsic+json": {
              "type": "string"
            },
            "text/plain": [
              "'/content/gdrive/MyDrive/Colab_Notebooks/Fire_ImageDataSet//OutputFiles'"
            ]
          },
          "metadata": {},
          "execution_count": 47
        }
      ]
    },
    {
      "cell_type": "code",
      "source": [
        "model_name = 'Step-1_VGG_model.h5'"
      ],
      "metadata": {
        "id": "j64Kv88-R6t_"
      },
      "execution_count": 48,
      "outputs": []
    },
    {
      "cell_type": "code",
      "source": [
        "from tensorflow import keras\n",
        "\n",
        "model = keras.models.load_model(ModelSave+'/'+model_name)\n"
      ],
      "metadata": {
        "id": "cK70UreCR8iT"
      },
      "execution_count": 49,
      "outputs": []
    }
  ],
  "metadata": {
    "accelerator": "GPU",
    "colab": {
      "collapsed_sections": [],
      "name": "PCAMZC321_Group09_FireEventDetection_PreProcessing.ipynb",
      "provenance": [],
      "include_colab_link": true
    },
    "kernelspec": {
      "display_name": "Python 3",
      "name": "python3"
    },
    "language_info": {
      "name": "python"
    }
  },
  "nbformat": 4,
  "nbformat_minor": 0
}